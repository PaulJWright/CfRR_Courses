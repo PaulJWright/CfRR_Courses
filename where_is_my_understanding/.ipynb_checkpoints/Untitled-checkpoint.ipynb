{
 "cells": [
  {
   "cell_type": "code",
   "execution_count": 1,
   "id": "cc9bd3ea-69cf-43b0-b594-f09e2a6b0dde",
   "metadata": {},
   "outputs": [],
   "source": [
    "# Regression Analysis With R "
   ]
  },
  {
   "cell_type": "code",
   "execution_count": null,
   "id": "6caa9770-b397-4526-a8c3-df450f6071cd",
   "metadata": {},
   "outputs": [],
   "source": []
  }
 ],
 "metadata": {
  "kernelspec": {
   "display_name": "Python 3 (ipykernel)",
   "language": "python",
   "name": "python3"
  },
  "language_info": {
   "codemirror_mode": {
    "name": "ipython",
    "version": 3
   },
   "file_extension": ".py",
   "mimetype": "text/x-python",
   "name": "python",
   "nbconvert_exporter": "python",
   "pygments_lexer": "ipython3",
   "version": "3.12.2"
  }
 },
 "nbformat": 4,
 "nbformat_minor": 5
}
