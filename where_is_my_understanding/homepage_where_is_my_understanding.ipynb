{
 "cells": [
  {
   "cell_type": "markdown",
   "id": "04e07d43-4bb6-47ad-98a4-6f123831e3fb",
   "metadata": {
    "editable": true,
    "slideshow": {
     "slide_type": ""
    },
    "tags": []
   },
   "source": [
    "# 'Where Is My Understanding?' Quizzes \n",
    "\n",
    "Welcome to our interactive quizzes, designed to help you understand and decide which Coding for Reproducible Courses would be best for you! Here, you can engage with a variety of quizzes across multiple modules to gauge your understanding and affinity for different subjects. This resource aims to empower you to make informed decisions about which modules to pursue based on your strengths and interests.\n",
    "\n",
    "Of note is that all of the quizzes are aimed at testing your understanding of the content covered **within** a given course. There is no defined threshold below which we believe you should attend the course. Rather, it is aimed at helping you engage with the content and reflect on whether you would benefit from attending the course. It is intended that you will engage with documentation and use Google throughout. Even if you get all of the questions right, you are, of course, more than welcome to still attend the course as a refresher!"
   ]
  },
  {
   "cell_type": "code",
   "execution_count": null,
   "id": "96c17a1c-956a-49b8-a080-f5740bde39f4",
   "metadata": {},
   "outputs": [],
   "source": []
  }
 ],
 "metadata": {
  "kernelspec": {
   "display_name": "Python 3 (ipykernel)",
   "language": "python",
   "name": "python3"
  },
  "language_info": {
   "codemirror_mode": {
    "name": "ipython",
    "version": 3
   },
   "file_extension": ".py",
   "mimetype": "text/x-python",
   "name": "python",
   "nbconvert_exporter": "python",
   "pygments_lexer": "ipython3",
   "version": "3.9.19"
  }
 },
 "nbformat": 4,
 "nbformat_minor": 5
}
