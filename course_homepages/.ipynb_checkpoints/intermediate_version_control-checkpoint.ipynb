{
 "cells": [
  {
   "cell_type": "markdown",
   "id": "5c35e2bf-6287-4ae5-9f9d-16bc2ec3c7f7",
   "metadata": {},
   "source": [
    "# Intermediate Version Control "
   ]
  },
  {
   "cell_type": "code",
   "execution_count": null,
   "id": "0df1131c-18d4-45de-8c29-804a7d31b40e",
   "metadata": {},
   "outputs": [],
   "source": []
  }
 ],
 "metadata": {
  "kernelspec": {
   "display_name": "Python 3 (ipykernel)",
   "language": "python",
   "name": "python3"
  },
  "language_info": {
   "codemirror_mode": {
    "name": "ipython",
    "version": 3
   },
   "file_extension": ".py",
   "mimetype": "text/x-python",
   "name": "python",
   "nbconvert_exporter": "python",
   "pygments_lexer": "ipython3",
   "version": "3.12.2"
  }
 },
 "nbformat": 4,
 "nbformat_minor": 5
}
