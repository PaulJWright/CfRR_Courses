{
 "cells": [
  {
   "cell_type": "code",
   "execution_count": null,
   "id": "fadb19b4-8c96-4348-ab07-d0e0efda84a0",
   "metadata": {},
   "outputs": [],
   "source": [
    "# Introduction to Python"
   ]
  }
 ],
 "metadata": {
  "kernelspec": {
   "display_name": "Python 3 (ipykernel)",
   "language": "python",
   "name": "python3"
  },
  "language_info": {
   "codemirror_mode": {
    "name": "ipython",
    "version": 3
   },
   "file_extension": ".py",
   "mimetype": "text/x-python",
   "name": "python",
   "nbconvert_exporter": "python",
   "pygments_lexer": "ipython3",
   "version": "3.12.2"
  }
 },
 "nbformat": 4,
 "nbformat_minor": 5
}
