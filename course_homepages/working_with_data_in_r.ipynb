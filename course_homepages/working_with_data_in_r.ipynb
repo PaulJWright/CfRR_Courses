{
 "cells": [
  {
   "cell_type": "markdown",
   "id": "3d567708-c583-4568-814a-df26181feb77",
   "metadata": {},
   "source": [
    "# Working With Data In R"
   ]
  },
  {
   "cell_type": "code",
   "execution_count": null,
   "id": "ca520883-e5eb-459d-96c1-e8629e0c6599",
   "metadata": {},
   "outputs": [],
   "source": []
  }
 ],
 "metadata": {
  "kernelspec": {
   "display_name": "Python 3 (ipykernel)",
   "language": "python",
   "name": "python3"
  },
  "language_info": {
   "codemirror_mode": {
    "name": "ipython",
    "version": 3
   },
   "file_extension": ".py",
   "mimetype": "text/x-python",
   "name": "python",
   "nbconvert_exporter": "python",
   "pygments_lexer": "ipython3",
   "version": "3.12.2"
  }
 },
 "nbformat": 4,
 "nbformat_minor": 5
}
