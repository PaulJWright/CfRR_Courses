{
 "cells": [
  {
   "cell_type": "markdown",
   "id": "525aecc2-4e05-4ede-8d0d-ae504e63514f",
   "metadata": {},
   "source": [
    "# Software Development Best Practices"
   ]
  },
  {
   "cell_type": "code",
   "execution_count": null,
   "id": "fd65d566-e28c-4e73-840c-e7da718d3605",
   "metadata": {},
   "outputs": [],
   "source": []
  }
 ],
 "metadata": {
  "kernelspec": {
   "display_name": "Python 3 (ipykernel)",
   "language": "python",
   "name": "python3"
  },
  "language_info": {
   "codemirror_mode": {
    "name": "ipython",
    "version": 3
   },
   "file_extension": ".py",
   "mimetype": "text/x-python",
   "name": "python",
   "nbconvert_exporter": "python",
   "pygments_lexer": "ipython3",
   "version": "3.12.2"
  }
 },
 "nbformat": 4,
 "nbformat_minor": 5
}
