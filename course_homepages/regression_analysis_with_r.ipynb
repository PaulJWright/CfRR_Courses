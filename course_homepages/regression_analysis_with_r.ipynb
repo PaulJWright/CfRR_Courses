{
 "cells": [
  {
   "cell_type": "markdown",
   "id": "0c47b797-06f7-4e8b-af30-d621d8eec931",
   "metadata": {},
   "source": [
    "# Regression Analysis with R"
   ]
  },
  {
   "cell_type": "code",
   "execution_count": null,
   "id": "aca5b5d0-ff6a-4191-a7a2-336fb6c628d0",
   "metadata": {},
   "outputs": [],
   "source": []
  }
 ],
 "metadata": {
  "kernelspec": {
   "display_name": "Python 3 (ipykernel)",
   "language": "python",
   "name": "python3"
  },
  "language_info": {
   "codemirror_mode": {
    "name": "ipython",
    "version": 3
   },
   "file_extension": ".py",
   "mimetype": "text/x-python",
   "name": "python",
   "nbconvert_exporter": "python",
   "pygments_lexer": "ipython3",
   "version": "3.12.2"
  }
 },
 "nbformat": 4,
 "nbformat_minor": 5
}
