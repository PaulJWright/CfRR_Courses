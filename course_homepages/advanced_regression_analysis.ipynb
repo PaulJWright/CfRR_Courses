{
 "cells": [
  {
   "cell_type": "markdown",
   "id": "584c5fe8-b525-46c2-aa08-ba08328e0a62",
   "metadata": {},
   "source": [
    "# Advanced Regression Analysis "
   ]
  },
  {
   "cell_type": "code",
   "execution_count": null,
   "id": "4a57c565-0c6a-4538-8ef6-287b9d456fba",
   "metadata": {},
   "outputs": [],
   "source": []
  }
 ],
 "metadata": {
  "kernelspec": {
   "display_name": "Python 3 (ipykernel)",
   "language": "python",
   "name": "python3"
  },
  "language_info": {
   "codemirror_mode": {
    "name": "ipython",
    "version": 3
   },
   "file_extension": ".py",
   "mimetype": "text/x-python",
   "name": "python",
   "nbconvert_exporter": "python",
   "pygments_lexer": "ipython3",
   "version": "3.12.2"
  }
 },
 "nbformat": 4,
 "nbformat_minor": 5
}
