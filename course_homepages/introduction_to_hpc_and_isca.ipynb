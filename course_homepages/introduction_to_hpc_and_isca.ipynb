{
 "cells": [
  {
   "cell_type": "markdown",
   "id": "b14b1b0a-bddd-40d6-97a5-8a07e2807e58",
   "metadata": {},
   "source": [
    "# Introduction to HPC and ISCA"
   ]
  },
  {
   "cell_type": "code",
   "execution_count": null,
   "id": "b47cee1d-9274-4b57-9dfe-a2959e3679dc",
   "metadata": {},
   "outputs": [],
   "source": []
  }
 ],
 "metadata": {
  "kernelspec": {
   "display_name": "Python 3 (ipykernel)",
   "language": "python",
   "name": "python3"
  },
  "language_info": {
   "codemirror_mode": {
    "name": "ipython",
    "version": 3
   },
   "file_extension": ".py",
   "mimetype": "text/x-python",
   "name": "python",
   "nbconvert_exporter": "python",
   "pygments_lexer": "ipython3",
   "version": "3.12.2"
  }
 },
 "nbformat": 4,
 "nbformat_minor": 5
}
