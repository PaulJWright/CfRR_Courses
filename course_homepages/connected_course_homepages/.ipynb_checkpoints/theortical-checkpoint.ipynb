{
 "cells": [
  {
   "cell_type": "markdown",
   "id": "ee987d7e-2b8a-4649-872a-6b2dcd994c08",
   "metadata": {},
   "source": [
    "# Theortical "
   ]
  },
  {
   "cell_type": "code",
   "execution_count": null,
   "id": "e413141c-b2f6-4fe7-bb5a-36a5fcbf26b2",
   "metadata": {},
   "outputs": [],
   "source": []
  }
 ],
 "metadata": {
  "kernelspec": {
   "display_name": "Python 3 (ipykernel)",
   "language": "python",
   "name": "python3"
  },
  "language_info": {
   "codemirror_mode": {
    "name": "ipython",
    "version": 3
   },
   "file_extension": ".py",
   "mimetype": "text/x-python",
   "name": "python",
   "nbconvert_exporter": "python",
   "pygments_lexer": "ipython3",
   "version": "3.12.2"
  }
 },
 "nbformat": 4,
 "nbformat_minor": 5
}
