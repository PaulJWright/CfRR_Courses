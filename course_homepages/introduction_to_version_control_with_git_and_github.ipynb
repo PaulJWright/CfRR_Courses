{
 "cells": [
  {
   "cell_type": "markdown",
   "id": "f01de552-c975-4dd4-9877-6c3e0244a1ea",
   "metadata": {},
   "source": [
    "# Introduction to Version Control with Git and Github"
   ]
  },
  {
   "cell_type": "code",
   "execution_count": null,
   "id": "883cf1f3-d34a-4bae-bf51-660f3f159121",
   "metadata": {},
   "outputs": [],
   "source": []
  }
 ],
 "metadata": {
  "kernelspec": {
   "display_name": "Python 3 (ipykernel)",
   "language": "python",
   "name": "python3"
  },
  "language_info": {
   "codemirror_mode": {
    "name": "ipython",
    "version": 3
   },
   "file_extension": ".py",
   "mimetype": "text/x-python",
   "name": "python",
   "nbconvert_exporter": "python",
   "pygments_lexer": "ipython3",
   "version": "3.12.2"
  }
 },
 "nbformat": 4,
 "nbformat_minor": 5
}
