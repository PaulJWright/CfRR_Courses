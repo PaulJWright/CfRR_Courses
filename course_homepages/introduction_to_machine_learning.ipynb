{
 "cells": [
  {
   "cell_type": "markdown",
   "id": "415d0df2-de44-4bd9-89d9-abbaf8e2a998",
   "metadata": {},
   "source": [
    "# Introduction to Machine Learning"
   ]
  },
  {
   "cell_type": "code",
   "execution_count": null,
   "id": "dfe7e728-7cd9-4c47-bda0-1fd6f9005395",
   "metadata": {},
   "outputs": [],
   "source": []
  }
 ],
 "metadata": {
  "kernelspec": {
   "display_name": "Python 3 (ipykernel)",
   "language": "python",
   "name": "python3"
  },
  "language_info": {
   "codemirror_mode": {
    "name": "ipython",
    "version": 3
   },
   "file_extension": ".py",
   "mimetype": "text/x-python",
   "name": "python",
   "nbconvert_exporter": "python",
   "pygments_lexer": "ipython3",
   "version": "3.12.2"
  }
 },
 "nbformat": 4,
 "nbformat_minor": 5
}
