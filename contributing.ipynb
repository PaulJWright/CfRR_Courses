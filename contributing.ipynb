{
 "cells": [
  {
   "cell_type": "markdown",
   "id": "cf18ba22-5f7c-40db-93fe-8f02aa0bdd32",
   "metadata": {},
   "source": [
    "# Contributing to CfRR "
   ]
  },
  {
   "cell_type": "markdown",
   "id": "be33270b-baf2-4f2f-90c3-ceb62d99737f",
   "metadata": {
    "editable": true,
    "slideshow": {
     "slide_type": ""
    },
    "tags": []
   },
   "source": [
    "## Why Contribute?\n",
    "\n",
    "The Coding for Reproducible Research (CfRR) training initiative has been a collaborative effort since the program's start; as such, we are always interested in collaborating with anyone who wants to help expand the available resources. By contributing, you can add to the existing content, help others, and potentially practice skills you have developed through CfRR training programs such as Introduction to Version Control With Git and GitHub!\n",
    "\n",
    "\n",
    "## How Do I Contribute?\n",
    "\n",
    "There are a range of different ways for you to engage with the CfRR training program depending on the skillset you currently have, and the skillset you want to develop. There are three key ways in which you can engage with the CfRR training program, including (1) becoming a helper within workshops and helping to deliver training workshops to individual across the university, (2) identify and highlight issues with the current material on the website, or (3) create and contribute your own course to the CfRR program. Each of these different methods of contributing to the program are discussed in more depth below. \n",
    "\n",
    "### Become a helper \n",
    "\n",
    "### Highlighting Issues\n",
    "\n",
    "\n",
    "\n",
    "### Making Changes \n"
   ]
  }
 ],
 "metadata": {
  "kernelspec": {
   "display_name": "Python 3 (ipykernel)",
   "language": "python",
   "name": "python3"
  },
  "language_info": {
   "codemirror_mode": {
    "name": "ipython",
    "version": 3
   },
   "file_extension": ".py",
   "mimetype": "text/x-python",
   "name": "python",
   "nbconvert_exporter": "python",
   "pygments_lexer": "ipython3",
   "version": "3.9.19"
  }
 },
 "nbformat": 4,
 "nbformat_minor": 5
}
