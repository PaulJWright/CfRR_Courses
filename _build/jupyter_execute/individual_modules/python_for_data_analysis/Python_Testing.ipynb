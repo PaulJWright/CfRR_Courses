{
 "cells": [
  {
   "cell_type": "markdown",
   "metadata": {},
   "source": [
    "# Python - Checking and Testing Code\n",
    "## Learning Objectives\n",
    "\n",
    "At the end of this lesson you will be able to:\n",
    " * Identify appropriate testing goals.\n",
    " * Run tests using the PyTest framework.\n",
    " * Create unit-tests.\n",
    " * Use Mocks.\n",
    " * Check code quality using flake8 and mypy.\n",
    " \n",
    "  \n"
   ]
  },
  {
   "cell_type": "markdown",
   "metadata": {},
   "source": [
    "## Testing software\n",
    "\n",
    "Although we cannot prove our code is free of defects, or bugs, we can, and should, establish that it behaves as intended.\n",
    "\n",
    "In a research environment it is often the case that there is no explicit specification for the software we create.\n",
    "\n",
    "### System level testing\n",
    "\n",
    "Once we have completed our software we should ensure that it works as intended.  This is referred to as - validation testing.  Typically this will involve taking a sample of input data and ensuring that the output of our software is as expected for the given input.\n",
    "\n",
    "This *validation* testing will tell us in the overall system runs, and produces valid results.  Such tests should be repeated when changes are made to the software, to ensure the changes have not introduced errors.\n",
    "\n",
    "### "
   ]
  }
 ],
 "metadata": {
  "language_info": {
   "codemirror_mode": {
    "name": "ipython",
    "version": 3
   },
   "file_extension": ".py",
   "mimetype": "text/x-python",
   "name": "python",
   "nbconvert_exporter": "python",
   "pygments_lexer": "ipython3",
   "version": "3.9.19"
  }
 },
 "nbformat": 4,
 "nbformat_minor": 2
}