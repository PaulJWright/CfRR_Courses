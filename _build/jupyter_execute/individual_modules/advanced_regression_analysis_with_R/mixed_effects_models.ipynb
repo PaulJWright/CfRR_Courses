{
 "cells": [
  {
   "cell_type": "code",
   "execution_count": 1,
   "id": "5ebf6c18-eed5-4265-aab9-ac61f70a498c",
   "metadata": {
    "editable": true,
    "slideshow": {
     "slide_type": ""
    },
    "tags": []
   },
   "outputs": [],
   "source": [
    "%load_ext rpy2.ipython"
   ]
  },
  {
   "cell_type": "code",
   "execution_count": 2,
   "id": "206dfb89-6b28-441a-9b01-812fcb833b90",
   "metadata": {
    "editable": true,
    "slideshow": {
     "slide_type": ""
    },
    "tags": []
   },
   "outputs": [],
   "source": [
    "%%R\n",
    "knitr::opts_chunk$set(echo = TRUE)\n",
    "\n",
    "nInd<-175\n",
    "indIDs <-paste0(\"X\", sample(10000:40000, nInd))\n",
    "nVisits<-rpois(indIDs, 4)\n",
    "nVisits[which(nVisits == 0)]<-1\n",
    "\n",
    "cogAbaseline<-rpois(indIDs, 25)\n",
    "cogBbaseline<-rnorm(indIDs, 8,4)\n",
    "cogCbaseline<-rnorm(indIDs, 20, 2)\n",
    "sex<-sample(c(\"M\", \"F\"), nInd, replace = TRUE, prob = c(0.55, 0.45))\n",
    "age<-floor(runif(nInd, 20, 60))\n",
    "intervention<-sample(c(\"Placebo\", \"Training\"), nInd, replace = TRUE)\n",
    "yearsEd<-sample(c(12,14,17), nInd, replace = TRUE, prob = c(0.3,0.4, 0.3))\n",
    "smoke <- sample(c(\"Yes\", \"No\"), nInd, replace = TRUE, prob = c(0.25,0.75))\n",
    "physicalWellbeing <- sample(c(\"High\", \"Low\"), nInd, replace = TRUE, prob = c(0.85,0.15))\n",
    "mentalWellbeing <- sample(c(\"High\", \"Low\"), nInd, replace = TRUE, prob = c(0.7,0.3))\n",
    "cogAbaseline <- cogAbaseline[(physicalWellbeing == \"Low\" | mentalWellbeing == \"Low\")]<- rpois(sum((physicalWellbeing == \"Low\" | mentalWellbeing == \"Low\")), 22)\n",
    "cogAbaseline <- cogAbaseline[smoke == \"Yes\"]<- rpois(sum(smoke == \"Yes\"), 23)\n",
    "\n",
    "visitID<-as.factor(rep(indIDs, nVisits))\n",
    "visitNum <- unlist(lapply(nVisits, seq))\n",
    "\n",
    "index<-match(visitID, indIDs)\n",
    "visitSex<-as.factor(sex[index])\n",
    "visitAge<-age[index]+visitNum\n",
    "visitIntervention<-as.factor(intervention[index])\n",
    "visitYearsEd <- yearsEd[index]\n",
    "visitSmoke <- as.factor(smoke[index])\n",
    "visitPW <- as.factor(physicalWellbeing[index])\n",
    "randomIndex<-sample(1:length(index), nInd)\n",
    "visitPW[randomIndex]<-\"Low\"\n",
    "visitMW <-as.factor(mentalWellbeing[index])\n",
    "randomIndex<-sample(which(visitNum > 3), nInd*0.5)\n",
    "visitMW[randomIndex]<-\"High\"\n",
    "    \n",
    "cogA<- floor(cogAbaseline[index] + visitNum * (0.2 + 0.05 * as.numeric(visitIntervention) + 0.04 * as.numeric(visitMW)) + rnorm(length(visitNum), 0,2))\n",
    "\n",
    "cogB<-cogBbaseline[index] + visitNum * (0.1 - 0.08 * as.numeric(visitSex) + 0.05 * (visitYearsEd-12)) + rnorm(length(visitNum), 0, 1) \n",
    "\n",
    "cogC<-cogCbaseline[index] + visitNum * (0.01 + 0.003 * as.numeric(visitSex) + 0.001 * as.numeric(visitIntervention)) + rnorm(length(visitNum), 0, 5) \n",
    "\n",
    "\n",
    "cogDat<-data.frame(\"ID\" = visitID, \"VisitNum\" = visitNum, \"Age\" = visitAge, \"Sex\" = visitSex, \"YearsEducation\" = visitYearsEd, \"Smoker\" = visitSmoke, \"Intervention\" = visitIntervention, \"CognitionA\" = cogA, \"CognitionB\" = cogB, \"CognitionC\" = cogC, \"PhysicalWellbeing\" = visitPW, \"MentalWellbeing\" = visitMW)\n"
   ]
  },
  {
   "cell_type": "markdown",
   "id": "7ed79d3e-0714-412e-8c43-16c2690ddd15",
   "metadata": {
    "editable": true,
    "slideshow": {
     "slide_type": ""
    },
    "tags": []
   },
   "source": [
    "# Mixed Effects Models\n",
    "\n",
    "## Why use a mixed effects model?\n",
    "\n",
    "Standard linear regression models make the assumption that the data used to fit the model are randomly selected from the population. By randomly we mean that all pairs of samples are equally different. Another way of thinking about this is that there is no reason why knowing the outcome of one sample would make it easier for us to predict the outcome of another sample. This is not always the case, and indeed there are times when we want to use data where there are relationships between the observations or some underlying structure to the data. This might be deliberate and part of the study design e.g. family or longitudinal studies, or alternatively it may be a consequence of poor study design or unforeseen recruitment bias.\n",
    "\n",
    "If we force a standard regression model that makes this assumption onto these type of data, we run the risk of our results being biased and the wrong conclusion being made. One work around is to filter our data so that it only contains independent samples, but this seems a bit of waste of valuable data that contains additional information that could improve the fit of our model. Instead it would be preferable to use a methodology that can appropriately model the underlying structure.\n",
    "\n",
    "Multi-level models are designed to deal with nested, grouped, clustered or hierarchical data. These are all synonyms for the same concept that the observations are not independent and there is some underlying structure to the data. This structure may be something you are interested in or just something you want to control for. In genral multi-level models can be considered a more complex regression framework to model:\n",
    "\n",
    "-   structure within data\n",
    "    -   e.g. patients recruited by different consultants from different clinics across the UK\n",
    "-   heterogeneity in variance between groups\n",
    "    -   e.g. post-code specific effects on risk factors for disease\n",
    "-   individual-level and group-level effects\n",
    "    -   e.g. weight influenced by genetics and local access to gyms\n",
    "-   dependencies between observations\n",
    "    -   e.g. educational attainment at age 18 influenced by educational attainment at age 12\n",
    "\n",
    "They are also referred to as mixed effects model, hierarchical linear models, random effects models, random coefficients models, and probably other names.\n",
    "\n",
    "## What is a mixed effects model?\n",
    "\n",
    "Standard linear regression models, such as the example below, have one level, and can be referred to as single level regression models, whereby all the data is treated as independent observations.\n",
    "\n",
    "The formula for a standard linear regression model between two variables can be written as:\n",
    "\n",
    "$$y_{i} = \\beta_{0} + \\beta_{1}x_{i} + \\varepsilon_{i}$$\n",
    "\n",
    "Where for observation i:\n",
    "\n",
    "-   $y_{i}$ is the outcome variable\n",
    "-   $x_{i}$ is the predictor variable\n",
    "-   $\\beta_{0}$ is the intercept\n",
    "-   $\\beta_{1}$ is the slope coefficient for X\n",
    "-   $\\varepsilon \\sim N(0,\\sigma^2)$ is the error\n",
    "\n",
    "Critically all the parameters ($\\beta_{0}$, $\\beta_{1}$) estimated for this model apply to all observations in the sample. There is a single intercept, and single slope coefficient for each predictor variable, and consequently, a single error term. In order to model structure in our data set, whereby some observations get treated differently, we need to expand this formula and introduce new parameters to represent this grouping effect. We use the variance components model, shown below, to include a group level influence:\n",
    "\n",
    "$$\\beta_{0j} = \\beta_{0} + u_{0j}$$\n",
    "\n",
    "where for observation i, in group j:\n",
    "\n",
    "-   $\\beta_{0j}$ represents the mean intercept for group j\n",
    "-   $\\beta_{0}$ is the overall mean\n",
    "-   $u_{0j} \\sim N(0, \\sigma_{u}^2$ is the moderator effect for group j\n",
    "\n",
    "A multi-level model is the combination of both the single level regression model and variance components model. It can be represented as the two equations above, where each equation represents a different level of the data, i.e. one representing the individual level predictors (level 1) and one representing the group level predictors (level 2). Alternatively, we can write as a single equation, by substituting the level 2 equation into the level 1 equation:\n",
    "\n",
    "$$y_{ij} = \\beta_{0} + u_{0j} + \\beta_{1}x_{ij}  + \\varepsilon_{ij}$$\n",
    "\n",
    "From this formula we can see that each group $j$ has it's own intercept value ($\\beta_{0} + u_{0j}$) but every observation has the same slope coefficient ($\\beta_{1}$). We call this a random intercepts model.\n",
    "\n",
    "## What are fixed and random effects?\n",
    "\n",
    "Typically when defining or describing to mixed effects models, we consider them to include both fixed and random effects, where variables are assigned to be modeled as either one or the other. Fixed effects assume that the parameter estimates apply to all our observations (i.e. do not depend on j) and we estimate the value of the regression parameters for each variable. The interpretation of these estimated coefficients is as it was in single level regression models.\n",
    "\n",
    "Instead for variables classified as having random effects, we are assuming that each group within that variable has it's own effect and that across all the groups the distribution of their effects is normal. For random effects we are interested in estimating the variance of the distribution from which the group effects come. Conceptually random effects must be categorical variables.\n",
    "\n",
    "For a mixed effects model with one fixed effect and one random effect we have four parameters to estimate using our observed data:\n",
    "\n",
    "-   $\\beta_{0}$ (fixed effect)\n",
    "-   $\\beta_{1}$ (fixed effect)\n",
    "-   $\\sigma^{2}_{u}$ (random effect)\n",
    "-   $\\sigma^{2}_{\\varepsilon}$ (random effect)"
   ]
  },
  {
   "cell_type": "code",
   "execution_count": 3,
   "id": "225bb665-9a9b-42f1-8ad6-50fd4444e517",
   "metadata": {
    "editable": true,
    "slideshow": {
     "slide_type": ""
    },
    "tags": [
     "remove-input"
    ]
   },
   "outputs": [
    {
     "data": {
      "text/html": [
       "<div id=\"PrwfGOSrvNJq\" data-shufflequestions=\"False\"\n",
       "               data-shuffleanswers=\"True\"\n",
       "               data-preserveresponses=\"false\"\n",
       "               data-numquestions=\"1000000\"\n",
       "               data-maxwidth=\"600\"\n",
       "               style=\"border-radius: 10px; text-align: left\"> <style>\n",
       "#PrwfGOSrvNJq {\n",
       "   --jq-multiple-choice-bg: #6f78ffff;\n",
       "   --jq-mc-button-bg: #fafafa;\n",
       "   --jq-mc-button-border: #e0e0e0e0;\n",
       "   --jq-mc-button-inset-shadow: #555555;\n",
       "   --jq-many-choice-bg: #f75c03ff;\n",
       "   --jq-numeric-bg: #392061ff;\n",
       "   --jq-numeric-input-bg: #c0c0c0;\n",
       "   --jq-numeric-input-label: #101010;\n",
       "   --jq-numeric-input-shadow: #999999;\n",
       "   --jq-incorrect-color: #c80202;\n",
       "   --jq-correct-color: #009113;\n",
       "   --jq-text-color: #fafafa;\n",
       "}\n",
       "\n",
       ".Quiz {\n",
       "    max-width: 600px;\n",
       "    margin-top: 15px;\n",
       "    margin-left: auto;\n",
       "    margin-right: auto;\n",
       "    margin-bottom: 15px;\n",
       "    padding-bottom: 4px;\n",
       "    padding-top: 4px;\n",
       "    line-height: 1.1;\n",
       "    font-size: 16pt;\n",
       "    border-radius: inherit;\n",
       "}\n",
       "\n",
       ".QuizCode {\n",
       "    font-size: 14pt;\n",
       "    margin-top: 10px;\n",
       "    margin-left: 20px;\n",
       "    margin-right: 20px;\n",
       "}\n",
       "\n",
       ".QuizCode>pre {\n",
       "    padding: 4px;\n",
       "}\n",
       "\n",
       ".Answer {\n",
       "    margin: 10px 0;\n",
       "    display: grid;\n",
       "    grid-template-columns: 1fr 1fr;\n",
       "    grid-gap: 10px;\n",
       "    border-radius: inherit;\n",
       "}\n",
       "\n",
       ".Feedback {\n",
       "    font-size: 16pt;\n",
       "    text-align: center;\n",
       "    min-height: 2em;\n",
       "}\n",
       "\n",
       ".Input {\n",
       "    align: left;\n",
       "    font-size: 20pt;\n",
       "}\n",
       "\n",
       ".Input-text {\n",
       "    display: block;\n",
       "    margin: 10px;\n",
       "    color: inherit;\n",
       "    width: 140px;\n",
       "    background-color: var(--jq-numeric-input-bg);\n",
       "    color: var(--jq-text-color);\n",
       "    padding: 5px;\n",
       "    padding-left: 10px;\n",
       "    font-family: inherit;\n",
       "    font-size: 20px;\n",
       "    font-weight: inherit;\n",
       "    line-height: 20pt;\n",
       "    border: none;\n",
       "    border-radius: 0.2rem;\n",
       "    transition: box-shadow 0.1s);\n",
       "}\n",
       "\n",
       ".Input-text:focus {\n",
       "    outline: none;\n",
       "    background-color: var(--jq-numeric-input-bg);\n",
       "    box-shadow: 0.6rem 0.8rem 1.4rem -0.5rem var(--jq-numeric-input-shadow);\n",
       "}\n",
       "\n",
       ".MCButton {\n",
       "    background: var(--jq-mc-button-bg);\n",
       "    border: 1px solid var(--jq-mc-button-border);\n",
       "    border-radius: inherit;\n",
       "    padding: 10px;\n",
       "    font-size: 16px;\n",
       "    cursor: pointer;\n",
       "    text-align: center;\n",
       "    display: flex;\n",
       "    align-items: center;\n",
       "    justify-content: center;\n",
       "}\n",
       "\n",
       ".MCButton p {\n",
       "    color: inherit;\n",
       "}\n",
       "\n",
       ".MultipleChoiceQn {\n",
       "    padding: 10px;\n",
       "    background: var(--jq-multiple-choice-bg);\n",
       "    color: var(--jq-text-color);\n",
       "    border-radius: inherit;\n",
       "}\n",
       "\n",
       ".ManyChoiceQn {\n",
       "    padding: 10px;\n",
       "    background: var(--jq-many-choice-bg);\n",
       "    color: var(--jq-text-color);\n",
       "    border-radius: inherit;\n",
       "}\n",
       "\n",
       ".NumericQn {\n",
       "    padding: 10px;\n",
       "    background: var(--jq-numeric-bg);\n",
       "    color: var(--jq-text-color);\n",
       "    border-radius: inherit;\n",
       "}\n",
       "\n",
       ".NumericQn p {\n",
       "    color: inherit;\n",
       "}\n",
       "\n",
       ".InpLabel {\n",
       "    line-height: 34px;\n",
       "    float: left;\n",
       "    margin-right: 10px;\n",
       "    color: var(--jq-numeric-input-label);\n",
       "    font-size: 15pt;\n",
       "}\n",
       "\n",
       ".incorrect {\n",
       "    color: var(--jq-incorrect-color);\n",
       "}\n",
       "\n",
       ".correct {\n",
       "    color: var(--jq-correct-color);\n",
       "}\n",
       "\n",
       ".correctButton {\n",
       "    /*\n",
       "    background: var(--jq-correct-color);\n",
       "   */\n",
       "    animation: correct-anim 0.6s ease;\n",
       "    animation-fill-mode: forwards;\n",
       "    color: var(--jq-text-color);\n",
       "    box-shadow: inset 0px 0px 5px var(--jq-mc-button-inset-shadow);\n",
       "    outline: none;\n",
       "}\n",
       "\n",
       ".incorrectButton {\n",
       "    animation: incorrect-anim 0.8s ease;\n",
       "    animation-fill-mode: forwards;\n",
       "    color: var(--jq-text-color);\n",
       "    box-shadow: inset 0px 0px 5px var(--jq-mc-button-inset-shadow);\n",
       "    outline: none;\n",
       "}\n",
       "\n",
       "@keyframes incorrect-anim {\n",
       "    100% {\n",
       "        background-color: var(--jq-incorrect-color);\n",
       "    }\n",
       "}\n",
       "\n",
       "@keyframes correct-anim {\n",
       "    100% {\n",
       "        background-color: var(--jq-correct-color);\n",
       "    }\n",
       "}\n",
       "</style>"
      ],
      "text/plain": [
       "<IPython.core.display.HTML object>"
      ]
     },
     "metadata": {},
     "output_type": "display_data"
    },
    {
     "data": {
      "application/javascript": [
       "var questionsPrwfGOSrvNJq=[\n",
       "    {\n",
       "        \"question\": \"What is the primary advantage of using mixed effects models compared to traditional linear regression?\",\n",
       "        \"type\": \"many_choice\",\n",
       "        \"answers\": [\n",
       "            {\n",
       "                \"answer\": \"Ability to handle non-linear relationships\",\n",
       "                \"correct\": false,\n",
       "                \"feedback\": \"This is true of both mixed effects and traditional linear regression.\"\n",
       "            },\n",
       "            {\n",
       "                \"answer\": \"Ability to consider mutliple variables at the same time\",\n",
       "                \"correct\": false,\n",
       "                \"feedback\": \"This is true of both mixed effects and traditional linear regression.\"\n",
       "            },\n",
       "            {\n",
       "                \"answer\": \"Ability to handle data were observations are related to each other\",\n",
       "                \"correct\": true,\n",
       "                \"feedback\": \"correct.\"\n",
       "            },\n",
       "            {\n",
       "                \"answer\": \"Fast computation time\",\n",
       "                \"correct\": false,\n",
       "                \"feedback\": \"Arguably its probably slower.\"\n",
       "            }\n",
       "        ]\n",
       "    },\n",
       "    {\n",
       "        \"question\": \"What is the difference between a fixed effect and a random effect in a mixed effects model?\",\n",
       "        \"type\": \"many_choice\",\n",
       "        \"answers\": [\n",
       "            {\n",
       "                \"answer\": \"Fixed effects are constants, while random efefcts are variables\",\n",
       "                \"correct\": false,\n",
       "                \"feedback\": \"Incorrect.\"\n",
       "            },\n",
       "            {\n",
       "                \"answer\": \"Fixed effects are systematically related to the outcome, while random effects capture unobserved heterogeneity\",\n",
       "                \"correct\": true,\n",
       "                \"feedback\": \"correct.\"\n",
       "            },\n",
       "            {\n",
       "                \"answer\": \"Fixed effects are the variables you are interested in, while random effects are the variables you want to adjust for\",\n",
       "                \"correct\": false,\n",
       "                \"feedback\": \"Incorrect.\"\n",
       "            },\n",
       "            {\n",
       "                \"answer\": \"Fixed effects are controlled for by the researcher, while random effects are inherent characteristics of the data\",\n",
       "                \"correct\": false,\n",
       "                \"feedback\": \"Incorrect.\"\n",
       "            }\n",
       "        ]\n",
       "    },\n",
       "    {\n",
       "        \"question\": \"What is the purpose of the term u in the random intercepts model formula above?\",\n",
       "        \"type\": \"many_choice\",\n",
       "        \"answers\": [\n",
       "            {\n",
       "                \"answer\": \"To represent the fixed intercept\",\n",
       "                \"correct\": false,\n",
       "                \"feedback\": \"Incorrect.\"\n",
       "            },\n",
       "            {\n",
       "                \"answer\": \"To represent the random intercept\",\n",
       "                \"correct\": true,\n",
       "                \"feedback\": \"Correct.\"\n",
       "            },\n",
       "            {\n",
       "                \"answer\": \"To represent the slope coefficients\",\n",
       "                \"correct\": false,\n",
       "                \"feedback\": \"Incorrect.\"\n",
       "            },\n",
       "            {\n",
       "                \"answer\": \"To represent the error term\",\n",
       "                \"correct\": false,\n",
       "                \"feedback\": \"Incorrect.\"\n",
       "            }\n",
       "        ]\n",
       "    },\n",
       "    {\n",
       "        \"question\": \"In a random intercepts model, how are the intercepts across different groups or individuals assumed to be related?\",\n",
       "        \"type\": \"many_choice\",\n",
       "        \"answers\": [\n",
       "            {\n",
       "                \"answer\": \"They are assumed to be completely independent of each other.\",\n",
       "                \"correct\": false,\n",
       "                \"feedback\": \"Incorrect.\"\n",
       "            },\n",
       "            {\n",
       "                \"answer\": \"They are assumed to be perfectly correlated.\",\n",
       "                \"correct\": false,\n",
       "                \"feedback\": \"Incorrect.\"\n",
       "            },\n",
       "            {\n",
       "                \"answer\": \"They are assumed to follow a specific distribution.\",\n",
       "                \"correct\": true,\n",
       "                \"feedback\": \"correct.\"\n",
       "            },\n",
       "            {\n",
       "                \"answer\": \"They are assumed to be constant across all groups.\",\n",
       "                \"correct\": false,\n",
       "                \"feedback\": \"Incorrect.\"\n",
       "            }\n",
       "        ]\n",
       "    }\n",
       "];\n",
       "    // Make a random ID\n",
       "function makeid(length) {\n",
       "    var result = [];\n",
       "    var characters = 'ABCDEFGHIJKLMNOPQRSTUVWXYZabcdefghijklmnopqrstuvwxyz';\n",
       "    var charactersLength = characters.length;\n",
       "    for (var i = 0; i < length; i++) {\n",
       "        result.push(characters.charAt(Math.floor(Math.random() * charactersLength)));\n",
       "    }\n",
       "    return result.join('');\n",
       "}\n",
       "\n",
       "// Choose a random subset of an array. Can also be used to shuffle the array\n",
       "function getRandomSubarray(arr, size) {\n",
       "    var shuffled = arr.slice(0), i = arr.length, temp, index;\n",
       "    while (i--) {\n",
       "        index = Math.floor((i + 1) * Math.random());\n",
       "        temp = shuffled[index];\n",
       "        shuffled[index] = shuffled[i];\n",
       "        shuffled[i] = temp;\n",
       "    }\n",
       "    return shuffled.slice(0, size);\n",
       "}\n",
       "\n",
       "function printResponses(responsesContainer) {\n",
       "    var responses=JSON.parse(responsesContainer.dataset.responses);\n",
       "    var stringResponses='<B>IMPORTANT!</B>To preserve this answer sequence for submission, when you have finalized your answers: <ol> <li> Copy the text in this cell below \"Answer String\"</li> <li> Double click on the cell directly below the Answer String, labeled \"Replace Me\"</li> <li> Select the whole \"Replace Me\" text</li> <li> Paste in your answer string and press shift-Enter.</li><li>Save the notebook using the save icon or File->Save Notebook menu item</li></ul><br><br><br><b>Answer String:</b><br> ';\n",
       "    console.log(responses);\n",
       "    responses.forEach((response, index) => {\n",
       "        if (response) {\n",
       "            console.log(index + ': ' + response);\n",
       "            stringResponses+= index + ': ' + response +\"<BR>\";\n",
       "        }\n",
       "    });\n",
       "    responsesContainer.innerHTML=stringResponses;\n",
       "}\n",
       "function check_mc() {\n",
       "    var id = this.id.split('-')[0];\n",
       "    //var response = this.id.split('-')[1];\n",
       "    //console.log(response);\n",
       "    //console.log(\"In check_mc(), id=\"+id);\n",
       "    //console.log(event.srcElement.id)           \n",
       "    //console.log(event.srcElement.dataset.correct)   \n",
       "    //console.log(event.srcElement.dataset.feedback)\n",
       "\n",
       "    var label = event.srcElement;\n",
       "    //console.log(label, label.nodeName);\n",
       "    var depth = 0;\n",
       "    while ((label.nodeName != \"LABEL\") && (depth < 20)) {\n",
       "        label = label.parentElement;\n",
       "        console.log(depth, label);\n",
       "        depth++;\n",
       "    }\n",
       "\n",
       "\n",
       "\n",
       "    var answers = label.parentElement.children;\n",
       "\n",
       "    //console.log(answers);\n",
       "\n",
       "\n",
       "    // Split behavior based on multiple choice vs many choice:\n",
       "    var fb = document.getElementById(\"fb\" + id);\n",
       "\n",
       "\n",
       "\n",
       "\n",
       "    if (fb.dataset.numcorrect == 1) {\n",
       "        // What follows is for the saved responses stuff\n",
       "        var outerContainer = fb.parentElement.parentElement;\n",
       "        var responsesContainer = document.getElementById(\"responses\" + outerContainer.id);\n",
       "        if (responsesContainer) {\n",
       "            //console.log(responsesContainer);\n",
       "            var response = label.firstChild.innerText;\n",
       "            if (label.querySelector(\".QuizCode\")){\n",
       "                response+= label.querySelector(\".QuizCode\").firstChild.innerText;\n",
       "            }\n",
       "            console.log(response);\n",
       "            //console.log(document.getElementById(\"quizWrap\"+id));\n",
       "            var qnum = document.getElementById(\"quizWrap\"+id).dataset.qnum;\n",
       "            console.log(\"Question \" + qnum);\n",
       "            //console.log(id, \", got numcorrect=\",fb.dataset.numcorrect);\n",
       "            var responses=JSON.parse(responsesContainer.dataset.responses);\n",
       "            console.log(responses);\n",
       "            responses[qnum]= response;\n",
       "            responsesContainer.setAttribute('data-responses', JSON.stringify(responses));\n",
       "            printResponses(responsesContainer);\n",
       "        }\n",
       "        // End code to preserve responses\n",
       "        \n",
       "        for (var i = 0; i < answers.length; i++) {\n",
       "            var child = answers[i];\n",
       "            //console.log(child);\n",
       "            child.className = \"MCButton\";\n",
       "        }\n",
       "\n",
       "\n",
       "\n",
       "        if (label.dataset.correct == \"true\") {\n",
       "            // console.log(\"Correct action\");\n",
       "            if (\"feedback\" in label.dataset) {\n",
       "                fb.textContent = jaxify(label.dataset.feedback);\n",
       "            } else {\n",
       "                fb.textContent = \"Correct!\";\n",
       "            }\n",
       "            label.classList.add(\"correctButton\");\n",
       "\n",
       "            fb.className = \"Feedback\";\n",
       "            fb.classList.add(\"correct\");\n",
       "\n",
       "        } else {\n",
       "            if (\"feedback\" in label.dataset) {\n",
       "                fb.textContent = jaxify(label.dataset.feedback);\n",
       "            } else {\n",
       "                fb.textContent = \"Incorrect -- try again.\";\n",
       "            }\n",
       "            //console.log(\"Error action\");\n",
       "            label.classList.add(\"incorrectButton\");\n",
       "            fb.className = \"Feedback\";\n",
       "            fb.classList.add(\"incorrect\");\n",
       "        }\n",
       "    }\n",
       "    else {\n",
       "        var reset = false;\n",
       "        var feedback;\n",
       "         if (label.dataset.correct == \"true\") {\n",
       "            if (\"feedback\" in label.dataset) {\n",
       "                feedback = jaxify(label.dataset.feedback);\n",
       "            } else {\n",
       "                feedback = \"Correct!\";\n",
       "            }\n",
       "            if (label.dataset.answered <= 0) {\n",
       "                if (fb.dataset.answeredcorrect < 0) {\n",
       "                    fb.dataset.answeredcorrect = 1;\n",
       "                    reset = true;\n",
       "                } else {\n",
       "                    fb.dataset.answeredcorrect++;\n",
       "                }\n",
       "                if (reset) {\n",
       "                    for (var i = 0; i < answers.length; i++) {\n",
       "                        var child = answers[i];\n",
       "                        child.className = \"MCButton\";\n",
       "                        child.dataset.answered = 0;\n",
       "                    }\n",
       "                }\n",
       "                label.classList.add(\"correctButton\");\n",
       "                label.dataset.answered = 1;\n",
       "                fb.className = \"Feedback\";\n",
       "                fb.classList.add(\"correct\");\n",
       "\n",
       "            }\n",
       "        } else {\n",
       "            if (\"feedback\" in label.dataset) {\n",
       "                feedback = jaxify(label.dataset.feedback);\n",
       "            } else {\n",
       "                feedback = \"Incorrect -- try again.\";\n",
       "            }\n",
       "            if (fb.dataset.answeredcorrect > 0) {\n",
       "                fb.dataset.answeredcorrect = -1;\n",
       "                reset = true;\n",
       "            } else {\n",
       "                fb.dataset.answeredcorrect--;\n",
       "            }\n",
       "\n",
       "            if (reset) {\n",
       "                for (var i = 0; i < answers.length; i++) {\n",
       "                    var child = answers[i];\n",
       "                    child.className = \"MCButton\";\n",
       "                    child.dataset.answered = 0;\n",
       "                }\n",
       "            }\n",
       "            label.classList.add(\"incorrectButton\");\n",
       "            fb.className = \"Feedback\";\n",
       "            fb.classList.add(\"incorrect\");\n",
       "        }\n",
       "        // What follows is for the saved responses stuff\n",
       "        var outerContainer = fb.parentElement.parentElement;\n",
       "        var responsesContainer = document.getElementById(\"responses\" + outerContainer.id);\n",
       "        if (responsesContainer) {\n",
       "            //console.log(responsesContainer);\n",
       "            var response = label.firstChild.innerText;\n",
       "            if (label.querySelector(\".QuizCode\")){\n",
       "                response+= label.querySelector(\".QuizCode\").firstChild.innerText;\n",
       "            }\n",
       "            console.log(response);\n",
       "            //console.log(document.getElementById(\"quizWrap\"+id));\n",
       "            var qnum = document.getElementById(\"quizWrap\"+id).dataset.qnum;\n",
       "            console.log(\"Question \" + qnum);\n",
       "            //console.log(id, \", got numcorrect=\",fb.dataset.numcorrect);\n",
       "            var responses=JSON.parse(responsesContainer.dataset.responses);\n",
       "            if (label.dataset.correct == \"true\") {\n",
       "                if (typeof(responses[qnum]) == \"object\"){\n",
       "                    if (!responses[qnum].includes(response))\n",
       "                        responses[qnum].push(response);\n",
       "                } else{\n",
       "                    responses[qnum]= [ response ];\n",
       "                }\n",
       "            } else {\n",
       "                responses[qnum]= response;\n",
       "            }\n",
       "            console.log(responses);\n",
       "            responsesContainer.setAttribute('data-responses', JSON.stringify(responses));\n",
       "            printResponses(responsesContainer);\n",
       "        }\n",
       "        // End save responses stuff\n",
       "\n",
       "\n",
       "\n",
       "        var numcorrect = fb.dataset.numcorrect;\n",
       "        var answeredcorrect = fb.dataset.answeredcorrect;\n",
       "        if (answeredcorrect >= 0) {\n",
       "            fb.textContent = feedback + \" [\" + answeredcorrect + \"/\" + numcorrect + \"]\";\n",
       "        } else {\n",
       "            fb.textContent = feedback + \" [\" + 0 + \"/\" + numcorrect + \"]\";\n",
       "        }\n",
       "\n",
       "\n",
       "    }\n",
       "\n",
       "    if (typeof MathJax != 'undefined') {\n",
       "        var version = MathJax.version;\n",
       "        console.log('MathJax version', version);\n",
       "        if (version[0] == \"2\") {\n",
       "            MathJax.Hub.Queue([\"Typeset\", MathJax.Hub]);\n",
       "        } else if (version[0] == \"3\") {\n",
       "            MathJax.typeset([fb]);\n",
       "        }\n",
       "    } else {\n",
       "        console.log('MathJax not detected');\n",
       "    }\n",
       "\n",
       "}\n",
       "\n",
       "function make_mc(qa, shuffle_answers, outerqDiv, qDiv, aDiv, id) {\n",
       "    var shuffled;\n",
       "    if (shuffle_answers == \"True\") {\n",
       "        //console.log(shuffle_answers+\" read as true\");\n",
       "        shuffled = getRandomSubarray(qa.answers, qa.answers.length);\n",
       "    } else {\n",
       "        //console.log(shuffle_answers+\" read as false\");\n",
       "        shuffled = qa.answers;\n",
       "    }\n",
       "\n",
       "\n",
       "    var num_correct = 0;\n",
       "\n",
       "\n",
       "\n",
       "    shuffled.forEach((item, index, ans_array) => {\n",
       "        //console.log(answer);\n",
       "\n",
       "        // Make input element\n",
       "        var inp = document.createElement(\"input\");\n",
       "        inp.type = \"radio\";\n",
       "        inp.id = \"quizo\" + id + index;\n",
       "        inp.style = \"display:none;\";\n",
       "        aDiv.append(inp);\n",
       "\n",
       "        //Make label for input element\n",
       "        var lab = document.createElement(\"label\");\n",
       "        lab.className = \"MCButton\";\n",
       "        lab.id = id + '-' + index;\n",
       "        lab.onclick = check_mc;\n",
       "        var aSpan = document.createElement('span');\n",
       "        aSpan.classsName = \"\";\n",
       "        //qDiv.id=\"quizQn\"+id+index;\n",
       "        if (\"answer\" in item) {\n",
       "            aSpan.innerHTML = jaxify(item.answer);\n",
       "            //aSpan.innerHTML=item.answer;\n",
       "        }\n",
       "        lab.append(aSpan);\n",
       "\n",
       "        // Create div for code inside question\n",
       "        var codeSpan;\n",
       "        if (\"code\" in item) {\n",
       "            codeSpan = document.createElement('span');\n",
       "            codeSpan.id = \"code\" + id + index;\n",
       "            codeSpan.className = \"QuizCode\";\n",
       "            var codePre = document.createElement('pre');\n",
       "            codeSpan.append(codePre);\n",
       "            var codeCode = document.createElement('code');\n",
       "            codePre.append(codeCode);\n",
       "            codeCode.innerHTML = item.code;\n",
       "            lab.append(codeSpan);\n",
       "            //console.log(codeSpan);\n",
       "        }\n",
       "\n",
       "        //lab.textContent=item.answer;\n",
       "\n",
       "        // Set the data attributes for the answer\n",
       "        lab.setAttribute('data-correct', item.correct);\n",
       "        if (item.correct) {\n",
       "            num_correct++;\n",
       "        }\n",
       "        if (\"feedback\" in item) {\n",
       "            lab.setAttribute('data-feedback', item.feedback);\n",
       "        }\n",
       "        lab.setAttribute('data-answered', 0);\n",
       "\n",
       "        aDiv.append(lab);\n",
       "\n",
       "    });\n",
       "\n",
       "    if (num_correct > 1) {\n",
       "        outerqDiv.className = \"ManyChoiceQn\";\n",
       "    } else {\n",
       "        outerqDiv.className = \"MultipleChoiceQn\";\n",
       "    }\n",
       "\n",
       "    return num_correct;\n",
       "\n",
       "}\n",
       "function check_numeric(ths, event) {\n",
       "\n",
       "    if (event.keyCode === 13) {\n",
       "        ths.blur();\n",
       "\n",
       "        var id = ths.id.split('-')[0];\n",
       "\n",
       "        var submission = ths.value;\n",
       "        if (submission.indexOf('/') != -1) {\n",
       "            var sub_parts = submission.split('/');\n",
       "            //console.log(sub_parts);\n",
       "            submission = sub_parts[0] / sub_parts[1];\n",
       "        }\n",
       "        //console.log(\"Reader entered\", submission);\n",
       "\n",
       "        if (\"precision\" in ths.dataset) {\n",
       "            var precision = ths.dataset.precision;\n",
       "            // console.log(\"1:\", submission)\n",
       "            submission = Math.round((1 * submission + Number.EPSILON) * 10 ** precision) / 10 ** precision;\n",
       "            // console.log(\"Rounded to \", submission, \" precision=\", precision  );\n",
       "        }\n",
       "\n",
       "\n",
       "        //console.log(\"In check_numeric(), id=\"+id);\n",
       "        //console.log(event.srcElement.id)           \n",
       "        //console.log(event.srcElement.dataset.feedback)\n",
       "\n",
       "        var fb = document.getElementById(\"fb\" + id);\n",
       "        fb.style.display = \"none\";\n",
       "        fb.textContent = \"Incorrect -- try again.\";\n",
       "\n",
       "        var answers = JSON.parse(ths.dataset.answers);\n",
       "        //console.log(answers);\n",
       "\n",
       "        var defaultFB = \"\";\n",
       "        var correct;\n",
       "        var done = false;\n",
       "        answers.every(answer => {\n",
       "            //console.log(answer.type);\n",
       "\n",
       "            correct = false;\n",
       "            // if (answer.type==\"value\"){\n",
       "            if ('value' in answer) {\n",
       "                if (submission == answer.value) {\n",
       "                    if (\"feedback\" in answer) {\n",
       "                        fb.textContent = jaxify(answer.feedback);\n",
       "                    } else {\n",
       "                        fb.textContent = jaxify(\"Correct\");\n",
       "                    }\n",
       "                    correct = answer.correct;\n",
       "                    //console.log(answer.correct);\n",
       "                    done = true;\n",
       "                }\n",
       "                // } else if (answer.type==\"range\") {\n",
       "            } else if ('range' in answer) {\n",
       "                //console.log(answer.range);\n",
       "                if ((submission >= answer.range[0]) && (submission < answer.range[1])) {\n",
       "                    fb.textContent = jaxify(answer.feedback);\n",
       "                    correct = answer.correct;\n",
       "                    //console.log(answer.correct);\n",
       "                    done = true;\n",
       "                }\n",
       "            } else if (answer.type == \"default\") {\n",
       "                defaultFB = answer.feedback;\n",
       "            }\n",
       "            if (done) {\n",
       "                return false; // Break out of loop if this has been marked correct\n",
       "            } else {\n",
       "                return true; // Keep looking for case that includes this as a correct answer\n",
       "            }\n",
       "        });\n",
       "\n",
       "        if ((!done) && (defaultFB != \"\")) {\n",
       "            fb.innerHTML = jaxify(defaultFB);\n",
       "            //console.log(\"Default feedback\", defaultFB);\n",
       "        }\n",
       "\n",
       "        fb.style.display = \"block\";\n",
       "        if (correct) {\n",
       "            ths.className = \"Input-text\";\n",
       "            ths.classList.add(\"correctButton\");\n",
       "            fb.className = \"Feedback\";\n",
       "            fb.classList.add(\"correct\");\n",
       "        } else {\n",
       "            ths.className = \"Input-text\";\n",
       "            ths.classList.add(\"incorrectButton\");\n",
       "            fb.className = \"Feedback\";\n",
       "            fb.classList.add(\"incorrect\");\n",
       "        }\n",
       "\n",
       "        // What follows is for the saved responses stuff\n",
       "        var outerContainer = fb.parentElement.parentElement;\n",
       "        var responsesContainer = document.getElementById(\"responses\" + outerContainer.id);\n",
       "        if (responsesContainer) {\n",
       "            console.log(submission);\n",
       "            var qnum = document.getElementById(\"quizWrap\"+id).dataset.qnum;\n",
       "            //console.log(\"Question \" + qnum);\n",
       "            //console.log(id, \", got numcorrect=\",fb.dataset.numcorrect);\n",
       "            var responses=JSON.parse(responsesContainer.dataset.responses);\n",
       "            console.log(responses);\n",
       "            if (submission == ths.value){\n",
       "                responses[qnum]= submission;\n",
       "            } else {\n",
       "                responses[qnum]= ths.value + \"(\" + submission +\")\";\n",
       "            }\n",
       "            responsesContainer.setAttribute('data-responses', JSON.stringify(responses));\n",
       "            printResponses(responsesContainer);\n",
       "        }\n",
       "        // End code to preserve responses\n",
       "\n",
       "        if (typeof MathJax != 'undefined') {\n",
       "            var version = MathJax.version;\n",
       "            console.log('MathJax version', version);\n",
       "            if (version[0] == \"2\") {\n",
       "                MathJax.Hub.Queue([\"Typeset\", MathJax.Hub]);\n",
       "            } else if (version[0] == \"3\") {\n",
       "                MathJax.typeset([fb]);\n",
       "            }\n",
       "        } else {\n",
       "            console.log('MathJax not detected');\n",
       "        }\n",
       "        return false;\n",
       "    }\n",
       "\n",
       "}\n",
       "\n",
       "function isValid(el, charC) {\n",
       "    //console.log(\"Input char: \", charC);\n",
       "    if (charC == 46) {\n",
       "        if (el.value.indexOf('.') === -1) {\n",
       "            return true;\n",
       "        } else if (el.value.indexOf('/') != -1) {\n",
       "            var parts = el.value.split('/');\n",
       "            if (parts[1].indexOf('.') === -1) {\n",
       "                return true;\n",
       "            }\n",
       "        }\n",
       "        else {\n",
       "            return false;\n",
       "        }\n",
       "    } else if (charC == 47) {\n",
       "        if (el.value.indexOf('/') === -1) {\n",
       "            if ((el.value != \"\") && (el.value != \".\")) {\n",
       "                return true;\n",
       "            } else {\n",
       "                return false;\n",
       "            }\n",
       "        } else {\n",
       "            return false;\n",
       "        }\n",
       "    } else if (charC == 45) {\n",
       "        var edex = el.value.indexOf('e');\n",
       "        if (edex == -1) {\n",
       "            edex = el.value.indexOf('E');\n",
       "        }\n",
       "\n",
       "        if (el.value == \"\") {\n",
       "            return true;\n",
       "        } else if (edex == (el.value.length - 1)) { // If just after e or E\n",
       "            return true;\n",
       "        } else {\n",
       "            return false;\n",
       "        }\n",
       "    } else if (charC == 101) { // \"e\"\n",
       "        if ((el.value.indexOf('e') === -1) && (el.value.indexOf('E') === -1) && (el.value.indexOf('/') == -1)) {\n",
       "            // Prev symbol must be digit or decimal point:\n",
       "            if (el.value.slice(-1).search(/\\d/) >= 0) {\n",
       "                return true;\n",
       "            } else if (el.value.slice(-1).search(/\\./) >= 0) {\n",
       "                return true;\n",
       "            } else {\n",
       "                return false;\n",
       "            }\n",
       "        } else {\n",
       "            return false;\n",
       "        }\n",
       "    } else {\n",
       "        if (charC > 31 && (charC < 48 || charC > 57))\n",
       "            return false;\n",
       "    }\n",
       "    return true;\n",
       "}\n",
       "\n",
       "function numeric_keypress(evnt) {\n",
       "    var charC = (evnt.which) ? evnt.which : evnt.keyCode;\n",
       "\n",
       "    if (charC == 13) {\n",
       "        check_numeric(this, evnt);\n",
       "    } else {\n",
       "        return isValid(this, charC);\n",
       "    }\n",
       "}\n",
       "\n",
       "\n",
       "\n",
       "\n",
       "\n",
       "function make_numeric(qa, outerqDiv, qDiv, aDiv, id) {\n",
       "\n",
       "\n",
       "\n",
       "    //console.log(answer);\n",
       "\n",
       "\n",
       "    outerqDiv.className = \"NumericQn\";\n",
       "    aDiv.style.display = 'block';\n",
       "\n",
       "    var lab = document.createElement(\"label\");\n",
       "    lab.className = \"InpLabel\";\n",
       "    lab.textContent = \"Type numeric answer here:\";\n",
       "    aDiv.append(lab);\n",
       "\n",
       "    var inp = document.createElement(\"input\");\n",
       "    inp.type = \"text\";\n",
       "    //inp.id=\"input-\"+id;\n",
       "    inp.id = id + \"-0\";\n",
       "    inp.className = \"Input-text\";\n",
       "    inp.setAttribute('data-answers', JSON.stringify(qa.answers));\n",
       "    if (\"precision\" in qa) {\n",
       "        inp.setAttribute('data-precision', qa.precision);\n",
       "    }\n",
       "    aDiv.append(inp);\n",
       "    //console.log(inp);\n",
       "\n",
       "    //inp.addEventListener(\"keypress\", check_numeric);\n",
       "    //inp.addEventListener(\"keypress\", numeric_keypress);\n",
       "    /*\n",
       "    inp.addEventListener(\"keypress\", function(event) {\n",
       "        return numeric_keypress(this, event);\n",
       "    }\n",
       "                        );\n",
       "                        */\n",
       "    //inp.onkeypress=\"return numeric_keypress(this, event)\";\n",
       "    inp.onkeypress = numeric_keypress;\n",
       "    inp.onpaste = event => false;\n",
       "\n",
       "    inp.addEventListener(\"focus\", function (event) {\n",
       "        this.value = \"\";\n",
       "        return false;\n",
       "    }\n",
       "    );\n",
       "\n",
       "\n",
       "}\n",
       "function jaxify(string) {\n",
       "    var mystring = string;\n",
       "\n",
       "    var count = 0;\n",
       "    var loc = mystring.search(/([^\\\\]|^)(\\$)/);\n",
       "\n",
       "    var count2 = 0;\n",
       "    var loc2 = mystring.search(/([^\\\\]|^)(\\$\\$)/);\n",
       "\n",
       "    //console.log(loc);\n",
       "\n",
       "    while ((loc >= 0) || (loc2 >= 0)) {\n",
       "\n",
       "        /* Have to replace all the double $$ first with current implementation */\n",
       "        if (loc2 >= 0) {\n",
       "            if (count2 % 2 == 0) {\n",
       "                mystring = mystring.replace(/([^\\\\]|^)(\\$\\$)/, \"$1\\\\[\");\n",
       "            } else {\n",
       "                mystring = mystring.replace(/([^\\\\]|^)(\\$\\$)/, \"$1\\\\]\");\n",
       "            }\n",
       "            count2++;\n",
       "        } else {\n",
       "            if (count % 2 == 0) {\n",
       "                mystring = mystring.replace(/([^\\\\]|^)(\\$)/, \"$1\\\\(\");\n",
       "            } else {\n",
       "                mystring = mystring.replace(/([^\\\\]|^)(\\$)/, \"$1\\\\)\");\n",
       "            }\n",
       "            count++;\n",
       "        }\n",
       "        loc = mystring.search(/([^\\\\]|^)(\\$)/);\n",
       "        loc2 = mystring.search(/([^\\\\]|^)(\\$\\$)/);\n",
       "        //console.log(mystring,\", loc:\",loc,\", loc2:\",loc2);\n",
       "    }\n",
       "\n",
       "    //console.log(mystring);\n",
       "    return mystring;\n",
       "}\n",
       "\n",
       "\n",
       "function show_questions(json, mydiv) {\n",
       "    console.log('show_questions');\n",
       "    //var mydiv=document.getElementById(myid);\n",
       "    var shuffle_questions = mydiv.dataset.shufflequestions;\n",
       "    var num_questions = mydiv.dataset.numquestions;\n",
       "    var shuffle_answers = mydiv.dataset.shuffleanswers;\n",
       "    var max_width = mydiv.dataset.maxwidth;\n",
       "\n",
       "    if (num_questions > json.length) {\n",
       "        num_questions = json.length;\n",
       "    }\n",
       "\n",
       "    var questions;\n",
       "    if ((num_questions < json.length) || (shuffle_questions == \"True\")) {\n",
       "        //console.log(num_questions+\",\"+json.length);\n",
       "        questions = getRandomSubarray(json, num_questions);\n",
       "    } else {\n",
       "        questions = json;\n",
       "    }\n",
       "\n",
       "    //console.log(\"SQ: \"+shuffle_questions+\", NQ: \" + num_questions + \", SA: \", shuffle_answers);\n",
       "\n",
       "    // Iterate over questions\n",
       "    questions.forEach((qa, index, array) => {\n",
       "        //console.log(qa.question); \n",
       "\n",
       "        var id = makeid(8);\n",
       "        //console.log(id);\n",
       "\n",
       "\n",
       "        // Create Div to contain question and answers\n",
       "        var iDiv = document.createElement('div');\n",
       "        //iDiv.id = 'quizWrap' + id + index;\n",
       "        iDiv.id = 'quizWrap' + id;\n",
       "        iDiv.className = 'Quiz';\n",
       "        iDiv.setAttribute('data-qnum', index);\n",
       "        iDiv.style.maxWidth  =max_width+\"px\";\n",
       "        mydiv.appendChild(iDiv);\n",
       "        // iDiv.innerHTML=qa.question;\n",
       "        \n",
       "        var outerqDiv = document.createElement('div');\n",
       "        outerqDiv.id = \"OuterquizQn\" + id + index;\n",
       "        // Create div to contain question part\n",
       "        var qDiv = document.createElement('div');\n",
       "        qDiv.id = \"quizQn\" + id + index;\n",
       "        \n",
       "        if (qa.question) {\n",
       "            iDiv.append(outerqDiv);\n",
       "\n",
       "            //qDiv.textContent=qa.question;\n",
       "            qDiv.innerHTML = jaxify(qa.question);\n",
       "            outerqDiv.append(qDiv);\n",
       "        }\n",
       "\n",
       "        // Create div for code inside question\n",
       "        var codeDiv;\n",
       "        if (\"code\" in qa) {\n",
       "            codeDiv = document.createElement('div');\n",
       "            codeDiv.id = \"code\" + id + index;\n",
       "            codeDiv.className = \"QuizCode\";\n",
       "            var codePre = document.createElement('pre');\n",
       "            codeDiv.append(codePre);\n",
       "            var codeCode = document.createElement('code');\n",
       "            codePre.append(codeCode);\n",
       "            codeCode.innerHTML = qa.code;\n",
       "            outerqDiv.append(codeDiv);\n",
       "            //console.log(codeDiv);\n",
       "        }\n",
       "\n",
       "\n",
       "        // Create div to contain answer part\n",
       "        var aDiv = document.createElement('div');\n",
       "        aDiv.id = \"quizAns\" + id + index;\n",
       "        aDiv.className = 'Answer';\n",
       "        iDiv.append(aDiv);\n",
       "\n",
       "        //console.log(qa.type);\n",
       "\n",
       "        var num_correct;\n",
       "        if ((qa.type == \"multiple_choice\") || (qa.type == \"many_choice\") ) {\n",
       "            num_correct = make_mc(qa, shuffle_answers, outerqDiv, qDiv, aDiv, id);\n",
       "            if (\"answer_cols\" in qa) {\n",
       "                //aDiv.style.gridTemplateColumns = 'auto '.repeat(qa.answer_cols);\n",
       "                aDiv.style.gridTemplateColumns = 'repeat(' + qa.answer_cols + ', 1fr)';\n",
       "            }\n",
       "        } else if (qa.type == \"numeric\") {\n",
       "            //console.log(\"numeric\");\n",
       "            make_numeric(qa, outerqDiv, qDiv, aDiv, id);\n",
       "        }\n",
       "\n",
       "\n",
       "        //Make div for feedback\n",
       "        var fb = document.createElement(\"div\");\n",
       "        fb.id = \"fb\" + id;\n",
       "        //fb.style=\"font-size: 20px;text-align:center;\";\n",
       "        fb.className = \"Feedback\";\n",
       "        fb.setAttribute(\"data-answeredcorrect\", 0);\n",
       "        fb.setAttribute(\"data-numcorrect\", num_correct);\n",
       "        iDiv.append(fb);\n",
       "\n",
       "\n",
       "    });\n",
       "    var preserveResponses = mydiv.dataset.preserveresponses;\n",
       "    console.log(preserveResponses);\n",
       "    console.log(preserveResponses == \"true\");\n",
       "    if (preserveResponses == \"true\") {\n",
       "        console.log(preserveResponses);\n",
       "        // Create Div to contain record of answers\n",
       "        var iDiv = document.createElement('div');\n",
       "        iDiv.id = 'responses' + mydiv.id;\n",
       "        iDiv.className = 'JCResponses';\n",
       "        // Create a place to store responses as an empty array\n",
       "        iDiv.setAttribute('data-responses', '[]');\n",
       "\n",
       "        // Dummy Text\n",
       "        iDiv.innerHTML=\"<b>Select your answers and then follow the directions that will appear here.</b>\"\n",
       "        //iDiv.className = 'Quiz';\n",
       "        mydiv.appendChild(iDiv);\n",
       "    }\n",
       "//console.log(\"At end of show_questions\");\n",
       "    if (typeof MathJax != 'undefined') {\n",
       "        console.log(\"MathJax version\", MathJax.version);\n",
       "        var version = MathJax.version;\n",
       "        setTimeout(function(){\n",
       "            var version = MathJax.version;\n",
       "            console.log('After sleep, MathJax version', version);\n",
       "            if (version[0] == \"2\") {\n",
       "                MathJax.Hub.Queue([\"Typeset\", MathJax.Hub]);\n",
       "            } else if (version[0] == \"3\") {\n",
       "                MathJax.typeset([mydiv]);\n",
       "            }\n",
       "        }, 500);\n",
       "if (typeof version == 'undefined') {\n",
       "        } else\n",
       "        {\n",
       "            if (version[0] == \"2\") {\n",
       "                MathJax.Hub.Queue([\"Typeset\", MathJax.Hub]);\n",
       "            } else if (version[0] == \"3\") {\n",
       "                MathJax.typeset([mydiv]);\n",
       "            } else {\n",
       "                console.log(\"MathJax not found\");\n",
       "            }\n",
       "        }\n",
       "    }\n",
       "    return false;\n",
       "}\n",
       "/* This is to handle asynchrony issues in loading Jupyter notebooks\n",
       "           where the quiz has been previously run. The Javascript was generally\n",
       "           being run before the div was added to the DOM. I tried to do this\n",
       "           more elegantly using Mutation Observer, but I didn't get it to work.\n",
       "\n",
       "           Someone more knowledgeable could make this better ;-) */\n",
       "\n",
       "        function try_show() {\n",
       "          if(document.getElementById(\"PrwfGOSrvNJq\")) {\n",
       "            show_questions(questionsPrwfGOSrvNJq,  PrwfGOSrvNJq); \n",
       "          } else {\n",
       "             setTimeout(try_show, 200);\n",
       "          }\n",
       "        };\n",
       "    \n",
       "        {\n",
       "        // console.log(element);\n",
       "\n",
       "        //console.log(\"PrwfGOSrvNJq\");\n",
       "        // console.log(document.getElementById(\"PrwfGOSrvNJq\"));\n",
       "\n",
       "        try_show();\n",
       "        }\n",
       "        "
      ],
      "text/plain": [
       "<IPython.core.display.Javascript object>"
      ]
     },
     "metadata": {},
     "output_type": "display_data"
    }
   ],
   "source": [
    "from jupyterquiz import display_quiz\n",
    "display_quiz(\"questions/mixed_effects_models.json\")"
   ]
  },
  {
   "cell_type": "markdown",
   "id": "96db1b31-d18f-4ff4-8600-ec858236a27e",
   "metadata": {},
   "source": [
    "## Fitting mixed effects models in R\n",
    "\n",
    "### The dataset"
   ]
  },
  {
   "cell_type": "code",
   "execution_count": 4,
   "id": "8081a414-57f7-44ee-8f7f-220d69a554a1",
   "metadata": {},
   "outputs": [
    {
     "name": "stdout",
     "output_type": "stream",
     "text": [
      " "
     ]
    },
    {
     "name": "stdout",
     "output_type": "stream",
     "text": [
      "     ID"
     ]
    },
    {
     "name": "stdout",
     "output_type": "stream",
     "text": [
      " VisitNum"
     ]
    },
    {
     "name": "stdout",
     "output_type": "stream",
     "text": [
      " Age"
     ]
    },
    {
     "name": "stdout",
     "output_type": "stream",
     "text": [
      " Sex"
     ]
    },
    {
     "name": "stdout",
     "output_type": "stream",
     "text": [
      " YearsEducation"
     ]
    },
    {
     "name": "stdout",
     "output_type": "stream",
     "text": [
      " Smoker"
     ]
    },
    {
     "name": "stdout",
     "output_type": "stream",
     "text": [
      " Intervention"
     ]
    },
    {
     "name": "stdout",
     "output_type": "stream",
     "text": [
      " CognitionA"
     ]
    },
    {
     "name": "stdout",
     "output_type": "stream",
     "text": [
      "\n",
      "1"
     ]
    },
    {
     "name": "stdout",
     "output_type": "stream",
     "text": [
      " X36948"
     ]
    },
    {
     "name": "stdout",
     "output_type": "stream",
     "text": [
      "        1"
     ]
    },
    {
     "name": "stdout",
     "output_type": "stream",
     "text": [
      "  40"
     ]
    },
    {
     "name": "stdout",
     "output_type": "stream",
     "text": [
      "   M"
     ]
    },
    {
     "name": "stdout",
     "output_type": "stream",
     "text": [
      "             12"
     ]
    },
    {
     "name": "stdout",
     "output_type": "stream",
     "text": [
      "    Yes"
     ]
    },
    {
     "name": "stdout",
     "output_type": "stream",
     "text": [
      "     Training"
     ]
    },
    {
     "name": "stdout",
     "output_type": "stream",
     "text": [
      "         24"
     ]
    },
    {
     "name": "stdout",
     "output_type": "stream",
     "text": [
      "\n",
      "2"
     ]
    },
    {
     "name": "stdout",
     "output_type": "stream",
     "text": [
      " X36948"
     ]
    },
    {
     "name": "stdout",
     "output_type": "stream",
     "text": [
      "        2"
     ]
    },
    {
     "name": "stdout",
     "output_type": "stream",
     "text": [
      "  41"
     ]
    },
    {
     "name": "stdout",
     "output_type": "stream",
     "text": [
      "   M"
     ]
    },
    {
     "name": "stdout",
     "output_type": "stream",
     "text": [
      "             12"
     ]
    },
    {
     "name": "stdout",
     "output_type": "stream",
     "text": [
      "    Yes"
     ]
    },
    {
     "name": "stdout",
     "output_type": "stream",
     "text": [
      "     Training"
     ]
    },
    {
     "name": "stdout",
     "output_type": "stream",
     "text": [
      "         23"
     ]
    },
    {
     "name": "stdout",
     "output_type": "stream",
     "text": [
      "\n",
      "3"
     ]
    },
    {
     "name": "stdout",
     "output_type": "stream",
     "text": [
      " X36948"
     ]
    },
    {
     "name": "stdout",
     "output_type": "stream",
     "text": [
      "        3"
     ]
    },
    {
     "name": "stdout",
     "output_type": "stream",
     "text": [
      "  42"
     ]
    },
    {
     "name": "stdout",
     "output_type": "stream",
     "text": [
      "   M"
     ]
    },
    {
     "name": "stdout",
     "output_type": "stream",
     "text": [
      "             12"
     ]
    },
    {
     "name": "stdout",
     "output_type": "stream",
     "text": [
      "    Yes"
     ]
    },
    {
     "name": "stdout",
     "output_type": "stream",
     "text": [
      "     Training"
     ]
    },
    {
     "name": "stdout",
     "output_type": "stream",
     "text": [
      "         21"
     ]
    },
    {
     "name": "stdout",
     "output_type": "stream",
     "text": [
      "\n",
      "4"
     ]
    },
    {
     "name": "stdout",
     "output_type": "stream",
     "text": [
      " X36948"
     ]
    },
    {
     "name": "stdout",
     "output_type": "stream",
     "text": [
      "        4"
     ]
    },
    {
     "name": "stdout",
     "output_type": "stream",
     "text": [
      "  43"
     ]
    },
    {
     "name": "stdout",
     "output_type": "stream",
     "text": [
      "   M"
     ]
    },
    {
     "name": "stdout",
     "output_type": "stream",
     "text": [
      "             12"
     ]
    },
    {
     "name": "stdout",
     "output_type": "stream",
     "text": [
      "    Yes"
     ]
    },
    {
     "name": "stdout",
     "output_type": "stream",
     "text": [
      "     Training"
     ]
    },
    {
     "name": "stdout",
     "output_type": "stream",
     "text": [
      "         26"
     ]
    },
    {
     "name": "stdout",
     "output_type": "stream",
     "text": [
      "\n",
      "5"
     ]
    },
    {
     "name": "stdout",
     "output_type": "stream",
     "text": [
      " X36948"
     ]
    },
    {
     "name": "stdout",
     "output_type": "stream",
     "text": [
      "        5"
     ]
    },
    {
     "name": "stdout",
     "output_type": "stream",
     "text": [
      "  44"
     ]
    },
    {
     "name": "stdout",
     "output_type": "stream",
     "text": [
      "   M"
     ]
    },
    {
     "name": "stdout",
     "output_type": "stream",
     "text": [
      "             12"
     ]
    },
    {
     "name": "stdout",
     "output_type": "stream",
     "text": [
      "    Yes"
     ]
    },
    {
     "name": "stdout",
     "output_type": "stream",
     "text": [
      "     Training"
     ]
    },
    {
     "name": "stdout",
     "output_type": "stream",
     "text": [
      "         19"
     ]
    },
    {
     "name": "stdout",
     "output_type": "stream",
     "text": [
      "\n",
      "6"
     ]
    },
    {
     "name": "stdout",
     "output_type": "stream",
     "text": [
      " X26082"
     ]
    },
    {
     "name": "stdout",
     "output_type": "stream",
     "text": [
      "        1"
     ]
    },
    {
     "name": "stdout",
     "output_type": "stream",
     "text": [
      "  22"
     ]
    },
    {
     "name": "stdout",
     "output_type": "stream",
     "text": [
      "   M"
     ]
    },
    {
     "name": "stdout",
     "output_type": "stream",
     "text": [
      "             14"
     ]
    },
    {
     "name": "stdout",
     "output_type": "stream",
     "text": [
      "    Yes"
     ]
    },
    {
     "name": "stdout",
     "output_type": "stream",
     "text": [
      "     Training"
     ]
    },
    {
     "name": "stdout",
     "output_type": "stream",
     "text": [
      "         28"
     ]
    },
    {
     "name": "stdout",
     "output_type": "stream",
     "text": [
      "\n"
     ]
    },
    {
     "name": "stdout",
     "output_type": "stream",
     "text": [
      " "
     ]
    },
    {
     "name": "stdout",
     "output_type": "stream",
     "text": [
      " CognitionB"
     ]
    },
    {
     "name": "stdout",
     "output_type": "stream",
     "text": [
      " CognitionC"
     ]
    },
    {
     "name": "stdout",
     "output_type": "stream",
     "text": [
      " PhysicalWellbeing"
     ]
    },
    {
     "name": "stdout",
     "output_type": "stream",
     "text": [
      " MentalWellbeing"
     ]
    },
    {
     "name": "stdout",
     "output_type": "stream",
     "text": [
      "\n",
      "1"
     ]
    },
    {
     "name": "stdout",
     "output_type": "stream",
     "text": [
      "   8.907434"
     ]
    },
    {
     "name": "stdout",
     "output_type": "stream",
     "text": [
      "   19.55151"
     ]
    },
    {
     "name": "stdout",
     "output_type": "stream",
     "text": [
      "              High"
     ]
    },
    {
     "name": "stdout",
     "output_type": "stream",
     "text": [
      "            High"
     ]
    },
    {
     "name": "stdout",
     "output_type": "stream",
     "text": [
      "\n",
      "2"
     ]
    },
    {
     "name": "stdout",
     "output_type": "stream",
     "text": [
      "   8.545244"
     ]
    },
    {
     "name": "stdout",
     "output_type": "stream",
     "text": [
      "   25.93143"
     ]
    },
    {
     "name": "stdout",
     "output_type": "stream",
     "text": [
      "              High"
     ]
    },
    {
     "name": "stdout",
     "output_type": "stream",
     "text": [
      "            High"
     ]
    },
    {
     "name": "stdout",
     "output_type": "stream",
     "text": [
      "\n",
      "3"
     ]
    },
    {
     "name": "stdout",
     "output_type": "stream",
     "text": [
      "  10.097223"
     ]
    },
    {
     "name": "stdout",
     "output_type": "stream",
     "text": [
      "   19.30359"
     ]
    },
    {
     "name": "stdout",
     "output_type": "stream",
     "text": [
      "              High"
     ]
    },
    {
     "name": "stdout",
     "output_type": "stream",
     "text": [
      "            High"
     ]
    },
    {
     "name": "stdout",
     "output_type": "stream",
     "text": [
      "\n",
      "4"
     ]
    },
    {
     "name": "stdout",
     "output_type": "stream",
     "text": [
      "   9.718655"
     ]
    },
    {
     "name": "stdout",
     "output_type": "stream",
     "text": [
      "   19.17890"
     ]
    },
    {
     "name": "stdout",
     "output_type": "stream",
     "text": [
      "              High"
     ]
    },
    {
     "name": "stdout",
     "output_type": "stream",
     "text": [
      "            High"
     ]
    },
    {
     "name": "stdout",
     "output_type": "stream",
     "text": [
      "\n",
      "5"
     ]
    },
    {
     "name": "stdout",
     "output_type": "stream",
     "text": [
      "   7.258144"
     ]
    },
    {
     "name": "stdout",
     "output_type": "stream",
     "text": [
      "   17.87744"
     ]
    },
    {
     "name": "stdout",
     "output_type": "stream",
     "text": [
      "              High"
     ]
    },
    {
     "name": "stdout",
     "output_type": "stream",
     "text": [
      "            High"
     ]
    },
    {
     "name": "stdout",
     "output_type": "stream",
     "text": [
      "\n",
      "6"
     ]
    },
    {
     "name": "stdout",
     "output_type": "stream",
     "text": [
      "   9.003513"
     ]
    },
    {
     "name": "stdout",
     "output_type": "stream",
     "text": [
      "   29.01686"
     ]
    },
    {
     "name": "stdout",
     "output_type": "stream",
     "text": [
      "               Low"
     ]
    },
    {
     "name": "stdout",
     "output_type": "stream",
     "text": [
      "             Low"
     ]
    },
    {
     "name": "stdout",
     "output_type": "stream",
     "text": [
      "\n"
     ]
    }
   ],
   "source": [
    "%%R\n",
    "head(cogDat)"
   ]
  },
  {
   "cell_type": "markdown",
   "id": "52db223c-2757-41fa-9f1c-4d0944d16482",
   "metadata": {},
   "source": [
    "To enable us to try out some multilevel regression models we have provided some longitudinal data looking at cognitive performance annually for an intervention study. All individuals have multiple entries capturing data collected at different assessments over time. For each individual we have a unique identifier code (`ID`). We have the individual's sex, smoking status, intervention status and years education. We then have a series of columns for the visit data, which includes scores from various cognitive tests `CognitionA`, `CognitionB`, etc as well their age at the time of assessment and physical or mental well being. We can use the `table()` function to tabulate how many visits each individual had, and then the `summary()` and `hist()` functions to calculate some descriptive statistics and plot a histogram of these data."
   ]
  },
  {
   "cell_type": "code",
   "execution_count": 5,
   "id": "74dd94e7-d6da-47d9-bec3-efd9eb586b35",
   "metadata": {},
   "outputs": [
    {
     "data": {
      "image/png": "[encoded data removed]",
      "text/plain": [
       "<IPython.core.display.Image object>"
      ]
     },
     "metadata": {},
     "output_type": "display_data"
    }
   ],
   "source": [
    "%%R\n",
    "nVisit<-table(cogDat$ID)\n",
    "summary(as.numeric(nVisit))\n",
    "\n",
    "hist(nVisit, main = \"\", xlab = \"nVisits\", ylab = \"nIndividuals\", breaks = c(0:max(nVisit)))"
   ]
  },
  {
   "cell_type": "markdown",
   "id": "0fc4dbca-67db-4f75-b19c-082f95330858",
   "metadata": {
    "editable": true,
    "slideshow": {
     "slide_type": ""
    },
    "tags": []
   },
   "source": [
    "We can see that the majority of individuals had more than one visit, with a mean of `r signif(mean(nVisit),3)` and a maximum of `r max(nVisit)` visits.\n",
    "\n",
    "Given we have multiple observations from the same person we can not use standard regression models and instead we need to use a mixed effects model, as it is likely that an individual's performance at one visit will predict their performance at a second visit.\n",
    "\n",
    "The functions to fit a multi-level model are not provided with the standard installation of R so we need to install a package which contains the functions we need. Packages are the fundamental units of reproducible R code and are the mechanism to increase R's usability. They include reusable R functions, the documentation that describes how to use them, and optionally sample data and tutorials. The package we will use here is called `lme4`. First we will cover how to install and load a package.\n",
    "\n",
    "### Installing and loading packages\n",
    "\n",
    "There are a number of places R packages can be downloaded from (NB not all packages are available in all locations so the package itself will dictate which method you use to install it). Many older packages are stored on CRAN[<https://cran.r-project.org/web/packages/>]. R provides a function to download such packages `install.packages()` where the name of the package is provided as an argument. Multiple packages can be provided as a vector using the `c()` function. The lme4 package we are interested in, can be installed in this way.\n"
   ]
  },
  {
   "cell_type": "markdown",
   "id": "c7a01dc6-3e63-4717-ab04-019b5ecc5ff9",
   "metadata": {
    "editable": true,
    "slideshow": {
     "slide_type": ""
    },
    "tags": []
   },
   "source": [
    "Alternatively in Rstudio, this can be achieved through the drop-down menus: Tools -\\> Install Packages... -\\> and the package name can be entered (Figure 1). The end of this document contains additional notes on other ways to install packages."
   ]
  },
  {
   "cell_type": "markdown",
   "id": "a1b1d602-56cf-4017-8c55-a2076529ceb5",
   "metadata": {},
   "source": [
    "![Figure 1: Install packages in RStudio via dropdown menus](images/installPackages.png)\n",
    "\n",
    "You may get a pop-up window asking you to choose a mirror (this is not overly important but logical to choose a local UK based mirror). When you install a package some text may be printed to the console, some of which won't be in plain English or easily understandable. You may get a warning say cannot write to the default library directory and R will suggest an alternative which you can choose to accept. Ultimately you should get a message saying `package 'lme4' successfully unpacked and MD5 sums checked` indicating the installation has worked, it should also tell you where it has installed the package. This information is not important, as it will automatically install it where R can find it, and you shouldn't need to to look at these files. Packages typically build on functionality from other packages and cannot be successfully installed if any packages it depends on are not installed on your system. By default these should be automatically installed along with the package you want. However errors may arise if the packages are hosted in different places and therefore cannot all be installed using the same command. See the end of this document for other methods to install packages from other repositories.\n",
    "\n",
    "Once we have installed the package we need to load it. As with all other software you install on a computer, it only needs to be installed once and in future R sessions you just need to load the package as follows. The caveat here is if you update the version of R you are using, as the packages are saved in folders relating to the version of R you are using.\n"
   ]
  },
  {
   "cell_type": "markdown",
   "id": "fdd5f4bf-42fc-4fc6-95d0-f3c87b0a26df",
   "metadata": {},
   "source": [
    "From the output you can see that it automatically loads any other packages it is dependent on, in this case the Matrix package.\n",
    "\n",
    "All packages hosted on CRAN come with a webpage which provides a description of what the package does, details on the version number, who wrote the package and other useful information. All packages also come with a manual which documents all the functions the package contains and some will also have vignettes providing an annotated typical workflow for using the package. These are put together by the package authors and therefore can be variable in how accessible the language is and useful the information is for users. Links to the manual and vignette can be accessed through the package's webpage. The documentation for each function can also be accessed through the help function in R. To fit a mixed effects model we will use the function `lmer`, but before we use it let's see what the help function has to say about it."
   ]
  },
  {
   "cell_type": "code",
   "execution_count": 6,
   "id": "dd60ae05-1d6e-4837-8a60-e603c6cacf3e",
   "metadata": {
    "editable": true,
    "slideshow": {
     "slide_type": ""
    },
    "tags": []
   },
   "outputs": [
    {
     "name": "stdout",
     "output_type": "stream",
     "text": [
      "File: /var/folders/r7/wblx0jw96hz08nvjz9p3zsgr0000gp/T//RtmpIzNUF3/Rtxt43c346b046d4\n",
      "lmer                   package:lme4                    R Documentation\n",
      "\n",
      "\n",
      "\n",
      "_\bF_\bi_\bt _\bL_\bi_\bn_\be_\ba_\br _\bM_\bi_\bx_\be_\bd-_\bE_\bf_\bf_\be_\bc_\bt_\bs _\bM_\bo_\bd_\be_\bl_\bs\n",
      "\n",
      "\n",
      "\n",
      "_\bD_\be_\bs_\bc_\br_\bi_\bp_\bt_\bi_\bo_\bn:\n",
      "\n",
      "\n",
      "\n",
      "     Fit a linear mixed-effects model (LMM) to data, via REML or\n",
      "\n",
      "     maximum likelihood.\n",
      "\n",
      "\n",
      "\n",
      "_\bU_\bs_\ba_\bg_\be:\n",
      "\n",
      "\n",
      "\n",
      "     lmer(formula, data = NULL, REML = TRUE, control = lmerControl(),\n",
      "\n",
      "          start = NULL, verbose = 0L, subset, weights, na.action,\n",
      "\n",
      "          offset, contrasts = NULL, devFunOnly = FALSE)\n",
      "\n",
      "     \n",
      "\n",
      "_\bA_\br_\bg_\bu_\bm_\be_\bn_\bt_\bs:\n",
      "\n",
      "\n",
      "\n",
      " formula: a two-sided linear formula object describing both the\n",
      "\n",
      "          fixed-effects and random-effects part of the model, with the\n",
      "\n",
      "          response on the left of a ‘~’ operator and the terms,\n",
      "\n",
      "          separated by ‘+’ operators, on the right.  Random-effects\n",
      "\n",
      "          terms are distinguished by vertical bars (‘|’) separating\n",
      "\n",
      "          expressions for design matrices from grouping factors.  Two\n",
      "\n",
      "          vertical bars (‘||’) can be used to specify multiple\n",
      "\n",
      "          uncorrelated random effects for the same grouping variable.\n",
      "\n",
      "          (Because of the way it is implemented, the ‘||’-syntax _works\n",
      "\n",
      "          only for design matrices containing numeric (continuous)\n",
      "\n",
      "          predictors_; to fit models with independent categorical\n",
      "\n",
      "          effects, see ‘dummy’ or the ‘lmer_alt’ function from the\n",
      "\n",
      "          ‘afex’ package.)\n",
      "\n",
      "\n",
      "\n",
      "    data: an optional data frame containing the variables named in\n",
      "\n",
      "          ‘formula’.  By default the variables are taken from the\n",
      "\n",
      "          environment from which ‘lmer’ is called. While ‘data’ is\n",
      "\n",
      "          optional, the package authors _strongly_ recommend its use,\n",
      "\n",
      "          especially when later applying methods such as ‘update’ and\n",
      "\n",
      "          ‘drop1’ to the fitted model (_such methods are not guaranteed\n",
      "\n",
      "          to work properly if ‘data’ is omitted_). If ‘data’ is\n",
      "\n",
      "          omitted, variables will be taken from the environment of\n",
      "\n",
      "          ‘formula’ (if specified as a formula) or from the parent\n",
      "\n",
      "          frame (if specified as a character vector).\n",
      "\n",
      "\n",
      "\n",
      "    REML: logical scalar - Should the estimates be chosen to optimize\n",
      "\n",
      "          the REML criterion (as opposed to the log-likelihood)?\n",
      "\n",
      "\n",
      "\n",
      " control: a list (of correct class, resulting from ‘lmerControl()’ or\n",
      "\n",
      "          ‘glmerControl()’ respectively) containing control parameters,\n",
      "\n",
      "          including the nonlinear optimizer to be used and parameters\n",
      "\n",
      "          to be passed through to the nonlinear optimizer, see the\n",
      "\n",
      "          ‘*lmerControl’ documentation for details.\n",
      "\n",
      "\n",
      "\n",
      "   start: a named ‘list’ of starting values for the parameters in the\n",
      "\n",
      "          model.  For ‘lmer’ this can be a numeric vector or a list\n",
      "\n",
      "          with one component named ‘\"theta\"’.\n",
      "\n",
      "\n",
      "\n",
      " verbose: integer scalar.  If ‘> 0’ verbose output is generated during\n",
      "\n",
      "          the optimization of the parameter estimates.  If ‘> 1’\n",
      "\n",
      "          verbose output is generated during the individual penalized\n",
      "\n",
      "          iteratively reweighted least squares (PIRLS) steps.\n",
      "\n",
      "\n",
      "\n",
      "  subset: an optional expression indicating the subset of the rows of\n",
      "\n",
      "          ‘data’ that should be used in the fit. This can be a logical\n",
      "\n",
      "          vector, or a numeric vector indicating which observation\n",
      "\n",
      "          numbers are to be included, or a character vector of the row\n",
      "\n",
      "          names to be included.  All observations are included by\n",
      "\n",
      "          default.\n",
      "\n",
      "\n",
      "\n",
      " weights: an optional vector of ‘prior weights’ to be used in the\n",
      "\n",
      "          fitting process.  Should be ‘NULL’ or a numeric vector.\n",
      "\n",
      "          Prior ‘weights’ are _not_ normalized or standardized in any\n",
      "\n",
      "          way.  In particular, the diagonal of the residual covariance\n",
      "\n",
      "          matrix is the squared residual standard deviation parameter\n",
      "\n",
      "          ‘sigma’ times the vector of inverse ‘weights’.  Therefore, if\n",
      "\n",
      "          the ‘weights’ have relatively large magnitudes, then in order\n",
      "\n",
      "          to compensate, the ‘sigma’ parameter will also need to have a\n",
      "\n",
      "          relatively large magnitude.\n",
      "\n",
      "\n",
      "\n",
      "na.action: a function that indicates what should happen when the data\n",
      "\n",
      "          contain ‘NA’s.  The default action (‘na.omit’, inherited from\n",
      "\n",
      "          the 'factory fresh' value of ‘getOption(\"na.action\")’) strips\n",
      "\n",
      "          any observations with any missing values in any variables.\n",
      "\n",
      "\n",
      "\n",
      "  offset: this can be used to specify an _a priori_ known component to\n",
      "\n",
      "          be included in the linear predictor during fitting. This\n",
      "\n",
      "          should be ‘NULL’ or a numeric vector of length equal to the\n",
      "\n",
      "          number of cases.  One or more ‘offset’ terms can be included\n",
      "\n",
      "          in the formula instead or as well, and if more than one is\n",
      "\n",
      "          specified their sum is used.  See ‘model.offset’.\n",
      "\n",
      "\n",
      "\n",
      "contrasts: an optional list. See the ‘contrasts.arg’ of\n",
      "\n",
      "          ‘model.matrix.default’.\n",
      "\n",
      "\n",
      "\n",
      "devFunOnly: logical - return only the deviance evaluation function.\n",
      "\n",
      "          Note that because the deviance function operates on variables\n",
      "\n",
      "          stored in its environment, it may not return _exactly_ the\n",
      "\n",
      "          same values on subsequent calls (but the results should\n",
      "\n",
      "          always be within machine tolerance).\n",
      "\n",
      "\n",
      "\n",
      "_\bD_\be_\bt_\ba_\bi_\bl_\bs:\n",
      "\n",
      "\n",
      "\n",
      "        • If the ‘formula’ argument is specified as a character vector,\n",
      "\n",
      "          the function will attempt to coerce it to a formula.\n",
      "\n",
      "          However, this is not recommended (users who want to construct\n",
      "\n",
      "          formulas by pasting together components are advised to use\n",
      "\n",
      "          ‘as.formula’ or ‘reformulate’); model fits will work but\n",
      "\n",
      "          subsequent methods such as ‘drop1’, ‘update’ may fail.\n",
      "\n",
      "\n",
      "\n",
      "        • When handling perfectly collinear predictor variables (i.e.\n",
      "\n",
      "          design matrices of less than full rank), ‘[gn]lmer’ is not\n",
      "\n",
      "          quite as sophisticated as some simpler modeling frameworks\n",
      "\n",
      "          such as ‘lm’ and ‘glm’. While it does automatically drop\n",
      "\n",
      "          collinear variables (with a message rather than a warning),\n",
      "\n",
      "          it does not automatically fill in ‘NA’ values for the dropped\n",
      "\n",
      "          coefficients; these can be added via\n",
      "\n",
      "          ‘fixef(fitted.model,add.dropped=TRUE)’.  This information can\n",
      "\n",
      "          also be retrieved via\n",
      "\n",
      "          ‘attr(getME(fitted.model,\"X\"),\"col.dropped\")’.\n",
      "\n",
      "\n",
      "\n",
      "        • the deviance function returned when ‘devFunOnly’ is ‘TRUE’\n",
      "\n",
      "          takes a single numeric vector argument, representing the\n",
      "\n",
      "          ‘theta’ vector.  This vector defines the scaled\n",
      "\n",
      "          variance-covariance matrices of the random effects, in the\n",
      "\n",
      "          Cholesky parameterization.  For models with only simple\n",
      "\n",
      "          (intercept-only) random effects, ‘theta’ is a vector of the\n",
      "\n",
      "          standard deviations of the random effects.  For more complex\n",
      "\n",
      "          or multiple random effects, running ‘getME(.,\"theta\")’ to\n",
      "\n",
      "          retrieve the ‘theta’ vector for a fitted model and examining\n",
      "\n",
      "          the names of the vector is probably the easiest way to\n",
      "\n",
      "          determine the correspondence between the elements of the\n",
      "\n",
      "          ‘theta’ vector and elements of the lower triangles of the\n",
      "\n",
      "          Cholesky factors of the random effects.\n",
      "\n",
      "\n",
      "\n",
      "_\bV_\ba_\bl_\bu_\be:\n",
      "\n",
      "\n",
      "\n",
      "     An object of class ‘merMod’ (more specifically, an object of\n",
      "\n",
      "     _subclass_ ‘lmerMod’), for which many methods are available (e.g.\n",
      "\n",
      "     ‘methods(class=\"merMod\")’)\n",
      "\n",
      "\n",
      "\n",
      "_\bN_\bo_\bt_\be:\n",
      "\n",
      "\n",
      "\n",
      "     In earlier version of the ‘lme4’ package, a ‘method’ argument was\n",
      "\n",
      "     used.  Its functionality has been replaced by the ‘REML’ argument.\n",
      "\n",
      "\n",
      "\n",
      "     Also, ‘lmer(.)’ allowed a ‘family’ argument (to effectively switch\n",
      "\n",
      "     to ‘glmer(.)’).  This has been deprecated in summer 2013, and been\n",
      "\n",
      "     disabled in spring 2019.\n",
      "\n",
      "\n",
      "\n",
      "_\bS_\be_\be _\bA_\bl_\bs_\bo:\n",
      "\n",
      "\n",
      "\n",
      "     ‘lm’ for linear models; ‘glmer’ for generalized linear; and\n",
      "\n",
      "     ‘nlmer’ for nonlinear mixed models.\n",
      "\n",
      "\n",
      "\n",
      "_\bE_\bx_\ba_\bm_\bp_\bl_\be_\bs:\n",
      "\n",
      "\n",
      "\n",
      "     ## linear mixed models - reference values from older code\n",
      "\n",
      "     (fm1 <- lmer(Reaction ~ Days + (Days | Subject), sleepstudy))\n",
      "\n",
      "     summary(fm1)# (with its own print method; see class?merMod % ./merMod-class.Rd\n",
      "\n",
      "     \n",
      "\n",
      "     str(terms(fm1))\n",
      "\n",
      "     stopifnot(identical(terms(fm1, fixed.only=FALSE),\n",
      "\n",
      "                         terms(model.frame(fm1))))\n",
      "\n",
      "     attr(terms(fm1, FALSE), \"dataClasses\") # fixed.only=FALSE needed for dataCl.\n",
      "\n",
      "     \n",
      "\n",
      "     ## Maximum Likelihood (ML), and \"monitor\" iterations via 'verbose':\n",
      "\n",
      "     fm1_ML <- update(fm1, REML=FALSE, verbose = 1)\n",
      "\n",
      "     (fm2 <- lmer(Reaction ~ Days + (Days || Subject), sleepstudy))\n",
      "\n",
      "     anova(fm1, fm2)\n",
      "\n",
      "     sm2 <- summary(fm2)\n",
      "\n",
      "     print(fm2, digits=7, ranef.comp=\"Var\") # the print.merMod()         method\n",
      "\n",
      "     print(sm2, digits=3, corr=FALSE)       # the print.summary.merMod() method\n",
      "\n",
      "     \n",
      "\n",
      "     (vv <- vcov.merMod(fm2, corr=TRUE))\n",
      "\n",
      "     as(vv, \"corMatrix\")# extracts the (\"hidden\") 'correlation' entry in @factors\n",
      "\n",
      "     \n",
      "\n",
      "     ## Fit sex-specific variances by constructing numeric dummy variables\n",
      "\n",
      "     ## for sex and sex:age; in this case the estimated variance differences\n",
      "\n",
      "     ## between groups in both intercept and slope are zero ...\n",
      "\n",
      "     data(Orthodont,package=\"nlme\")\n",
      "\n",
      "     Orthodont$nsex <- as.numeric(Orthodont$Sex==\"Male\")\n",
      "\n",
      "     Orthodont$nsexage <- with(Orthodont, nsex*age)\n",
      "\n",
      "     lmer(distance ~ age + (age|Subject) + (0+nsex|Subject) +\n",
      "\n",
      "          (0 + nsexage|Subject), data=Orthodont)\n",
      "\n",
      "     \n",
      "\n",
      "---\n"
     ]
    },
    {
     "data": {
      "text/plain": [
       "Loading required package: Matrix\n"
      ]
     },
     "metadata": {},
     "output_type": "display_data"
    }
   ],
   "source": [
    "%%R\n",
    "library(\"lme4\")\n",
    "help(lmer)"
   ]
  },
  {
   "cell_type": "markdown",
   "id": "32832fa2-27dc-45c3-89d4-4f0901f3fb90",
   "metadata": {
    "editable": true,
    "slideshow": {
     "slide_type": ""
    },
    "tags": []
   },
   "source": [
    "You may need to update the package in the future. `update.packages()` can be run to update all packages on your system. Note that every time you update your version of R, you will likely need to reinstall all your packages.\n",
    "\n",
    "## Coding a mixed effects model\n",
    "\n",
    "We are going to model how the performance in cognitive test A, varies over the course of the study. As we have repeated measures for most individuals in our study, we are going to include a random intercept for individual. This means that each individual can have a different baseline performance, and we can look for a common trend in the change in cognitive performance. The key features of our model are\n",
    "\n",
    "-   `CognitionA` is our outcome or dependent variable.\n",
    "-   `VisitNum` is the independent variable that captures time in the study. This will be modelled as a fixed effect and is what we are interested in measuring the effect of.\n",
    "-   `ID` is our random effect, i.e. the variable which groups assessment data from the same individual together.\n",
    "\n",
    "We can tell R to fit this model as follows using the `lmer()` function.\n"
   ]
  },
  {
   "cell_type": "code",
   "execution_count": 7,
   "id": "064c063c-4639-44cb-b95d-5848e0bfd151",
   "metadata": {
    "editable": true,
    "slideshow": {
     "slide_type": ""
    },
    "tags": []
   },
   "outputs": [],
   "source": [
    "%%R\n",
    "model.rand.int<-lmer(CognitionA ~ VisitNum  + (1 | ID), data = cogDat)"
   ]
  },
  {
   "cell_type": "markdown",
   "id": "04d598f4-fb19-4559-8213-3fcec524615c",
   "metadata": {},
   "source": [
    "Fixed effects are included using the standard formula notation as used in linear regression models andthe function `lm()`, with the outcome variable on the left and the predictor on the right separated by a `~`. The `1|` notation is how we specify the inclusion of random intercepts. Unlike standard linear regression, there are choices to be made as to what algorithm to use to derive the parameter estimates from the data you have. This decision is more important if you have a small sample size, in larger sample sizes it shouldn't matter too much. The default behaviour in R is to fit a mixed effects regression model using restricted maximum likelihood (REML), which will given unbiased estimates. We can force R to use maximum likelihood by adding the argument `REML = FALSE`.\n",
    "\n",
    "## Significance testing in mixed effects regression models\n",
    "\n",
    "We can extract the statistics in a similar manner to linear regression. First, we can use `summary()` to print a nicely formatted output of some of the results and statistics to the console."
   ]
  },
  {
   "cell_type": "code",
   "execution_count": 8,
   "id": "d792b9dd-eaa0-4740-8780-4aad99867606",
   "metadata": {},
   "outputs": [
    {
     "name": "stdout",
     "output_type": "stream",
     "text": [
      "Linear mixed model fit by REML ['lmerMod']\n"
     ]
    },
    {
     "name": "stdout",
     "output_type": "stream",
     "text": [
      "Formula:"
     ]
    },
    {
     "name": "stdout",
     "output_type": "stream",
     "text": [
      " "
     ]
    },
    {
     "name": "stdout",
     "output_type": "stream",
     "text": [
      "CognitionA ~ VisitNum + (1 | ID)"
     ]
    },
    {
     "name": "stdout",
     "output_type": "stream",
     "text": [
      "\n"
     ]
    },
    {
     "name": "stdout",
     "output_type": "stream",
     "text": [
      "   Data:"
     ]
    },
    {
     "name": "stdout",
     "output_type": "stream",
     "text": [
      " "
     ]
    },
    {
     "name": "stdout",
     "output_type": "stream",
     "text": [
      "cogDat"
     ]
    },
    {
     "name": "stdout",
     "output_type": "stream",
     "text": [
      "\n"
     ]
    },
    {
     "name": "stdout",
     "output_type": "stream",
     "text": [
      "\n"
     ]
    },
    {
     "name": "stdout",
     "output_type": "stream",
     "text": [
      "REML criterion at convergence:"
     ]
    },
    {
     "name": "stdout",
     "output_type": "stream",
     "text": [
      " "
     ]
    },
    {
     "name": "stdout",
     "output_type": "stream",
     "text": [
      "676.9"
     ]
    },
    {
     "name": "stdout",
     "output_type": "stream",
     "text": [
      "\n"
     ]
    },
    {
     "name": "stdout",
     "output_type": "stream",
     "text": [
      "\n"
     ]
    },
    {
     "name": "stdout",
     "output_type": "stream",
     "text": [
      "Scaled residuals:"
     ]
    },
    {
     "name": "stdout",
     "output_type": "stream",
     "text": [
      " "
     ]
    },
    {
     "name": "stdout",
     "output_type": "stream",
     "text": [
      "\n"
     ]
    },
    {
     "name": "stdout",
     "output_type": "stream",
     "text": [
      "     Min "
     ]
    },
    {
     "name": "stdout",
     "output_type": "stream",
     "text": [
      "      1Q "
     ]
    },
    {
     "name": "stdout",
     "output_type": "stream",
     "text": [
      "  Median "
     ]
    },
    {
     "name": "stdout",
     "output_type": "stream",
     "text": [
      "      3Q "
     ]
    },
    {
     "name": "stdout",
     "output_type": "stream",
     "text": [
      "     Max "
     ]
    },
    {
     "name": "stdout",
     "output_type": "stream",
     "text": [
      "\n"
     ]
    },
    {
     "name": "stdout",
     "output_type": "stream",
     "text": [
      "-2.38629 "
     ]
    },
    {
     "name": "stdout",
     "output_type": "stream",
     "text": [
      "-0.53396 "
     ]
    },
    {
     "name": "stdout",
     "output_type": "stream",
     "text": [
      " 0.02805 "
     ]
    },
    {
     "name": "stdout",
     "output_type": "stream",
     "text": [
      " 0.54615 "
     ]
    },
    {
     "name": "stdout",
     "output_type": "stream",
     "text": [
      " 1.76433 "
     ]
    },
    {
     "name": "stdout",
     "output_type": "stream",
     "text": [
      "\n"
     ]
    },
    {
     "name": "stdout",
     "output_type": "stream",
     "text": [
      "\n"
     ]
    },
    {
     "name": "stdout",
     "output_type": "stream",
     "text": [
      "Random effects:\n"
     ]
    },
    {
     "name": "stdout",
     "output_type": "stream",
     "text": [
      " Groups  "
     ]
    },
    {
     "name": "stdout",
     "output_type": "stream",
     "text": [
      " Name       "
     ]
    },
    {
     "name": "stdout",
     "output_type": "stream",
     "text": [
      " Variance"
     ]
    },
    {
     "name": "stdout",
     "output_type": "stream",
     "text": [
      " Std.Dev."
     ]
    },
    {
     "name": "stdout",
     "output_type": "stream",
     "text": [
      "\n"
     ]
    },
    {
     "name": "stdout",
     "output_type": "stream",
     "text": [
      " ID      "
     ]
    },
    {
     "name": "stdout",
     "output_type": "stream",
     "text": [
      " (Intercept)"
     ]
    },
    {
     "name": "stdout",
     "output_type": "stream",
     "text": [
      " 25.329  "
     ]
    },
    {
     "name": "stdout",
     "output_type": "stream",
     "text": [
      " 5.033   "
     ]
    },
    {
     "name": "stdout",
     "output_type": "stream",
     "text": [
      "\n"
     ]
    },
    {
     "name": "stdout",
     "output_type": "stream",
     "text": [
      " Residual"
     ]
    },
    {
     "name": "stdout",
     "output_type": "stream",
     "text": [
      "            "
     ]
    },
    {
     "name": "stdout",
     "output_type": "stream",
     "text": [
      "  3.284  "
     ]
    },
    {
     "name": "stdout",
     "output_type": "stream",
     "text": [
      " 1.812   "
     ]
    },
    {
     "name": "stdout",
     "output_type": "stream",
     "text": [
      "\n"
     ]
    },
    {
     "name": "stdout",
     "output_type": "stream",
     "text": [
      "Number of obs: 136, groups: "
     ]
    },
    {
     "name": "stdout",
     "output_type": "stream",
     "text": [
      " "
     ]
    },
    {
     "name": "stdout",
     "output_type": "stream",
     "text": [
      "ID, 41"
     ]
    },
    {
     "name": "stdout",
     "output_type": "stream",
     "text": [
      "\n"
     ]
    },
    {
     "name": "stdout",
     "output_type": "stream",
     "text": [
      "\n",
      "Fixed effects:\n"
     ]
    },
    {
     "name": "stdout",
     "output_type": "stream",
     "text": [
      "           "
     ]
    },
    {
     "name": "stdout",
     "output_type": "stream",
     "text": [
      " Estimate"
     ]
    },
    {
     "name": "stdout",
     "output_type": "stream",
     "text": [
      " Std. Error"
     ]
    },
    {
     "name": "stdout",
     "output_type": "stream",
     "text": [
      " t value"
     ]
    },
    {
     "name": "stdout",
     "output_type": "stream",
     "text": [
      "\n",
      "(Intercept)"
     ]
    },
    {
     "name": "stdout",
     "output_type": "stream",
     "text": [
      "  21.3931"
     ]
    },
    {
     "name": "stdout",
     "output_type": "stream",
     "text": [
      "     0.8534"
     ]
    },
    {
     "name": "stdout",
     "output_type": "stream",
     "text": [
      "  25.068"
     ]
    },
    {
     "name": "stdout",
     "output_type": "stream",
     "text": [
      "\n",
      "VisitNum   "
     ]
    },
    {
     "name": "stdout",
     "output_type": "stream",
     "text": [
      "   0.2169"
     ]
    },
    {
     "name": "stdout",
     "output_type": "stream",
     "text": [
      "     0.1302"
     ]
    },
    {
     "name": "stdout",
     "output_type": "stream",
     "text": [
      "   1.666"
     ]
    },
    {
     "name": "stdout",
     "output_type": "stream",
     "text": [
      "\n"
     ]
    },
    {
     "name": "stdout",
     "output_type": "stream",
     "text": [
      "\n",
      "Correlation of Fixed Effects:\n"
     ]
    },
    {
     "name": "stdout",
     "output_type": "stream",
     "text": [
      "        "
     ]
    },
    {
     "name": "stdout",
     "output_type": "stream",
     "text": [
      " (Intr)"
     ]
    },
    {
     "name": "stdout",
     "output_type": "stream",
     "text": [
      "\n",
      "VisitNum"
     ]
    },
    {
     "name": "stdout",
     "output_type": "stream",
     "text": [
      " -0.332"
     ]
    },
    {
     "name": "stdout",
     "output_type": "stream",
     "text": [
      "\n"
     ]
    }
   ],
   "source": [
    "%%R\n",
    "summary(model.rand.int)"
   ]
  },
  {
   "cell_type": "markdown",
   "id": "589497d5-4f07-463f-bf83-38dd5f2645c5",
   "metadata": {},
   "source": [
    "The output is similar to that from a linear regression model, fitted with `lm()`. It starts with a statement of what type of model and the form of the model fitted. It then gives a summary of the algorithm used to estimate the effects. We have a summary of the scaled residuals (errors), the random effects and fixed effects.\n",
    "\n",
    "You may have noticed that there are no p-values in the fixed effects co-efficients table. Significance testing in mixed effects models is not as straight forward as it is for linear regression. Our objective for significance testing of the fixed effects is the same as for standard regression, to see if there is a relationship between the predictor variable and the outcome. We do this by seeing if the data supports the alternative hypothesis that the regression parameter is non-zero (compared to the null hypothesis that it's value is equal to 0). As they are conceptually the same, test statistics for fixed effects can be calculated in the same way as the estimated value of the parameter divided by it's standard error. To go from a test statistic to a p value we need to know what distribution to use and this is where it gets tricky. The challenge is that it is not obvious what distribution these test statistics should follow, and how many degrees of freedom should be applied. It could be influenced by\n",
    "\n",
    "-   Number of observations (level 1)\n",
    "-   Number of groups (level 2)\n",
    "-   Number of random effects\n",
    "-   Combination of the above.\n",
    "\n",
    "So to determine significance we either need to make an approximation for the degrees of freedom or a perform simulations to establish a distribution which we can use to calculate a p-value. There are methods that have been proposed to calculate approximations for the degrees of freedom (e.g. Kenward-Roger, Satterthwaite) such that the t-distribution can be used in a manner similar to standard regression analysis. Crucially though there is no widely accepted method for calculating degrees of freedom exists. The `lme4` package does not calculate p-values for the coefficients on principle [see discussion](https://stat.ethz.ch/pipermail/r-help/2006-May/094765.html).\n",
    "\n",
    "However, for many this is not a satisfactory conclusion, so a second package `lmerTest` has been developed, which if loaded alongside lme4, adds p-values to the above table. It is worthwhile noting that, there are multiple methods to calculate p-values, and that might introduce some variation in results across software. More importantly the different methods are based on different assumptions and therefore may introduce misleading results if these are not appropriate for your data set.\n",
    "\n",
    "To use the `lmerTest` functionality, as before we need to install and load this package.\n"
   ]
  },
  {
   "cell_type": "code",
   "execution_count": 9,
   "id": "faf7e669-c7fa-4f30-8f26-7337ca10b93d",
   "metadata": {},
   "outputs": [
    {
     "data": {
      "text/plain": [
       "\n",
       "Attaching package: ‘lmerTest’\n",
       "\n",
       "The following object is masked from ‘package:lme4’:\n",
       "\n",
       "    lmer\n",
       "\n",
       "The following object is masked from ‘package:stats’:\n",
       "\n",
       "    step\n",
       "\n"
      ]
     },
     "metadata": {},
     "output_type": "display_data"
    }
   ],
   "source": [
    "%%R\n",
    "#install.packages(\"lmerTest\")\n",
    "library(lmerTest)"
   ]
  },
  {
   "cell_type": "markdown",
   "id": "9884ab63-b23c-42f8-9e70-0a9c8460975c",
   "metadata": {},
   "source": [
    "We then have to refit our mixed effects model for the p-values to be calculated."
   ]
  },
  {
   "cell_type": "code",
   "execution_count": 10,
   "id": "3939573e-98e1-41f8-b2fa-9e8ff8dadce9",
   "metadata": {},
   "outputs": [
    {
     "name": "stdout",
     "output_type": "stream",
     "text": [
      "Linear mixed model fit by REML. t-tests use Satterthwaite's method"
     ]
    },
    {
     "name": "stdout",
     "output_type": "stream",
     "text": [
      " ["
     ]
    },
    {
     "name": "stdout",
     "output_type": "stream",
     "text": [
      "\n"
     ]
    },
    {
     "name": "stdout",
     "output_type": "stream",
     "text": [
      "lmerModLmerTest"
     ]
    },
    {
     "name": "stdout",
     "output_type": "stream",
     "text": [
      "]"
     ]
    },
    {
     "name": "stdout",
     "output_type": "stream",
     "text": [
      "\n"
     ]
    },
    {
     "name": "stdout",
     "output_type": "stream",
     "text": [
      "Formula:"
     ]
    },
    {
     "name": "stdout",
     "output_type": "stream",
     "text": [
      " "
     ]
    },
    {
     "name": "stdout",
     "output_type": "stream",
     "text": [
      "CognitionA ~ VisitNum + (1 | ID)"
     ]
    },
    {
     "name": "stdout",
     "output_type": "stream",
     "text": [
      "\n"
     ]
    },
    {
     "name": "stdout",
     "output_type": "stream",
     "text": [
      "   Data:"
     ]
    },
    {
     "name": "stdout",
     "output_type": "stream",
     "text": [
      " "
     ]
    },
    {
     "name": "stdout",
     "output_type": "stream",
     "text": [
      "cogDat"
     ]
    },
    {
     "name": "stdout",
     "output_type": "stream",
     "text": [
      "\n"
     ]
    },
    {
     "name": "stdout",
     "output_type": "stream",
     "text": [
      "\n"
     ]
    },
    {
     "name": "stdout",
     "output_type": "stream",
     "text": [
      "REML criterion at convergence:"
     ]
    },
    {
     "name": "stdout",
     "output_type": "stream",
     "text": [
      " "
     ]
    },
    {
     "name": "stdout",
     "output_type": "stream",
     "text": [
      "676.9"
     ]
    },
    {
     "name": "stdout",
     "output_type": "stream",
     "text": [
      "\n"
     ]
    },
    {
     "name": "stdout",
     "output_type": "stream",
     "text": [
      "\n"
     ]
    },
    {
     "name": "stdout",
     "output_type": "stream",
     "text": [
      "Scaled residuals:"
     ]
    },
    {
     "name": "stdout",
     "output_type": "stream",
     "text": [
      " "
     ]
    },
    {
     "name": "stdout",
     "output_type": "stream",
     "text": [
      "\n"
     ]
    },
    {
     "name": "stdout",
     "output_type": "stream",
     "text": [
      "     Min "
     ]
    },
    {
     "name": "stdout",
     "output_type": "stream",
     "text": [
      "      1Q "
     ]
    },
    {
     "name": "stdout",
     "output_type": "stream",
     "text": [
      "  Median "
     ]
    },
    {
     "name": "stdout",
     "output_type": "stream",
     "text": [
      "      3Q "
     ]
    },
    {
     "name": "stdout",
     "output_type": "stream",
     "text": [
      "     Max "
     ]
    },
    {
     "name": "stdout",
     "output_type": "stream",
     "text": [
      "\n"
     ]
    },
    {
     "name": "stdout",
     "output_type": "stream",
     "text": [
      "-2.38629 "
     ]
    },
    {
     "name": "stdout",
     "output_type": "stream",
     "text": [
      "-0.53396 "
     ]
    },
    {
     "name": "stdout",
     "output_type": "stream",
     "text": [
      " 0.02805 "
     ]
    },
    {
     "name": "stdout",
     "output_type": "stream",
     "text": [
      " 0.54615 "
     ]
    },
    {
     "name": "stdout",
     "output_type": "stream",
     "text": [
      " 1.76433 "
     ]
    },
    {
     "name": "stdout",
     "output_type": "stream",
     "text": [
      "\n"
     ]
    },
    {
     "name": "stdout",
     "output_type": "stream",
     "text": [
      "\n"
     ]
    },
    {
     "name": "stdout",
     "output_type": "stream",
     "text": [
      "Random effects:\n"
     ]
    },
    {
     "name": "stdout",
     "output_type": "stream",
     "text": [
      " Groups  "
     ]
    },
    {
     "name": "stdout",
     "output_type": "stream",
     "text": [
      " Name       "
     ]
    },
    {
     "name": "stdout",
     "output_type": "stream",
     "text": [
      " Variance"
     ]
    },
    {
     "name": "stdout",
     "output_type": "stream",
     "text": [
      " Std.Dev."
     ]
    },
    {
     "name": "stdout",
     "output_type": "stream",
     "text": [
      "\n"
     ]
    },
    {
     "name": "stdout",
     "output_type": "stream",
     "text": [
      " ID      "
     ]
    },
    {
     "name": "stdout",
     "output_type": "stream",
     "text": [
      " (Intercept)"
     ]
    },
    {
     "name": "stdout",
     "output_type": "stream",
     "text": [
      " 25.329  "
     ]
    },
    {
     "name": "stdout",
     "output_type": "stream",
     "text": [
      " 5.033   "
     ]
    },
    {
     "name": "stdout",
     "output_type": "stream",
     "text": [
      "\n"
     ]
    },
    {
     "name": "stdout",
     "output_type": "stream",
     "text": [
      " Residual"
     ]
    },
    {
     "name": "stdout",
     "output_type": "stream",
     "text": [
      "            "
     ]
    },
    {
     "name": "stdout",
     "output_type": "stream",
     "text": [
      "  3.284  "
     ]
    },
    {
     "name": "stdout",
     "output_type": "stream",
     "text": [
      " 1.812   "
     ]
    },
    {
     "name": "stdout",
     "output_type": "stream",
     "text": [
      "\n"
     ]
    },
    {
     "name": "stdout",
     "output_type": "stream",
     "text": [
      "Number of obs: 136, groups: "
     ]
    },
    {
     "name": "stdout",
     "output_type": "stream",
     "text": [
      " "
     ]
    },
    {
     "name": "stdout",
     "output_type": "stream",
     "text": [
      "ID, 41"
     ]
    },
    {
     "name": "stdout",
     "output_type": "stream",
     "text": [
      "\n"
     ]
    },
    {
     "name": "stdout",
     "output_type": "stream",
     "text": [
      "\n",
      "Fixed effects:\n"
     ]
    },
    {
     "name": "stdout",
     "output_type": "stream",
     "text": [
      "           "
     ]
    },
    {
     "name": "stdout",
     "output_type": "stream",
     "text": [
      " Estimate"
     ]
    },
    {
     "name": "stdout",
     "output_type": "stream",
     "text": [
      " Std. Error"
     ]
    },
    {
     "name": "stdout",
     "output_type": "stream",
     "text": [
      "      df"
     ]
    },
    {
     "name": "stdout",
     "output_type": "stream",
     "text": [
      " t value"
     ]
    },
    {
     "name": "stdout",
     "output_type": "stream",
     "text": [
      " Pr(>|t|)"
     ]
    },
    {
     "name": "stdout",
     "output_type": "stream",
     "text": [
      "    "
     ]
    },
    {
     "name": "stdout",
     "output_type": "stream",
     "text": [
      "\n",
      "(Intercept)"
     ]
    },
    {
     "name": "stdout",
     "output_type": "stream",
     "text": [
      "  21.3931"
     ]
    },
    {
     "name": "stdout",
     "output_type": "stream",
     "text": [
      "     0.8534"
     ]
    },
    {
     "name": "stdout",
     "output_type": "stream",
     "text": [
      " 50.2640"
     ]
    },
    {
     "name": "stdout",
     "output_type": "stream",
     "text": [
      "  25.068"
     ]
    },
    {
     "name": "stdout",
     "output_type": "stream",
     "text": [
      "   <2e-16"
     ]
    },
    {
     "name": "stdout",
     "output_type": "stream",
     "text": [
      " ***"
     ]
    },
    {
     "name": "stdout",
     "output_type": "stream",
     "text": [
      "\n",
      "VisitNum   "
     ]
    },
    {
     "name": "stdout",
     "output_type": "stream",
     "text": [
      "   0.2169"
     ]
    },
    {
     "name": "stdout",
     "output_type": "stream",
     "text": [
      "     0.1302"
     ]
    },
    {
     "name": "stdout",
     "output_type": "stream",
     "text": [
      " 96.7361"
     ]
    },
    {
     "name": "stdout",
     "output_type": "stream",
     "text": [
      "   1.666"
     ]
    },
    {
     "name": "stdout",
     "output_type": "stream",
     "text": [
      "    0.099"
     ]
    },
    {
     "name": "stdout",
     "output_type": "stream",
     "text": [
      " .  "
     ]
    },
    {
     "name": "stdout",
     "output_type": "stream",
     "text": [
      "\n"
     ]
    },
    {
     "name": "stdout",
     "output_type": "stream",
     "text": [
      "---\n",
      "Signif. codes:  "
     ]
    },
    {
     "name": "stdout",
     "output_type": "stream",
     "text": [
      "0 ‘***’ 0.001 ‘**’ 0.01 ‘*’ 0.05 ‘.’ 0.1 ‘ ’ 1"
     ]
    },
    {
     "name": "stdout",
     "output_type": "stream",
     "text": [
      "\n"
     ]
    },
    {
     "name": "stdout",
     "output_type": "stream",
     "text": [
      "\n",
      "Correlation of Fixed Effects:\n"
     ]
    },
    {
     "name": "stdout",
     "output_type": "stream",
     "text": [
      "        "
     ]
    },
    {
     "name": "stdout",
     "output_type": "stream",
     "text": [
      " (Intr)"
     ]
    },
    {
     "name": "stdout",
     "output_type": "stream",
     "text": [
      "\n",
      "VisitNum"
     ]
    },
    {
     "name": "stdout",
     "output_type": "stream",
     "text": [
      " -0.332"
     ]
    },
    {
     "name": "stdout",
     "output_type": "stream",
     "text": [
      "\n"
     ]
    }
   ],
   "source": [
    "%%R\n",
    "model.rand.int<-lmer(CognitionA ~ VisitNum  + (1 | ID), data = cogDat)\n",
    "summary(model.rand.int)"
   ]
  },
  {
   "cell_type": "markdown",
   "id": "9d74fc38-fd21-43b8-a755-4e9ae62f7b25",
   "metadata": {},
   "source": [
    "We can see from the coefficients table, that R has used the t-distribution to calculate p-values for the fixed effects. By default `lmerTest` uses the Satterwaite approximation to calculate the degrees of freedom for this test (stated at the top of the output, alongside the method for estimating the coefficients). In the results we can see that the `VisitNum` variable is significantly positively associated with the performance in cognitive test A (p = `r signif(summary(model.rand.int)$coefficients[\"VisitNum\",5],2)`). We can interpret the parameter for this variable as we would for a standard regression model, where the value represents the change in the outcome for one unit increase in the predictor variable, i.e. the change in score for cognitive test A for each extra visit. Specifically, participants had a mean increase in score of `r signif(summary(model.rand.int)$coefficients[\"VisitNum\",1],2)` per visit.\n",
    "\n",
    "We can also extract information about the variables we fitted as random effects. As described above for these, we are estimating parameters of their distribution and specifically the variance of this distribution. For this model, the variance of the individual intercepts is `r signif(as.data.frame(VarCorr(model.rand.int))[1,\"vcov\"], 3)`. These are hard to attribute much meaning to, but they represent the width of the distribution that the individual effects come from. A larger number implies a wider distribution and consequently more variation in the individual effects.\n",
    "\n",
    "We can also do significance testing of the random effects, to determine if the random intercept is needed. Just because we conceptualize that there should/might be structure in our data doesn't mean that there is or that it's effects are dramatic enough for us to need to model it. Given the complexities of significance testing a fixed effect in a mixed effects model, if we can get away with a simpler regression model, we should favour that.\n",
    "\n",
    "The principle behind a random effect is that each group needs it's own value taken from a distribution and the effects of the groups can not be represented by a single value (as they would it is was modelled as a fixed effect). Therefore, our null hypothesis (which equates to the random effects not being necessary) requires there to be no distribution of effects, which would occur if the variance of the distribution was 0. The alternative hypothesis (which equates to random effects being necessary) is that there is a distribution and it has a non-zero variance. These situations can be represented below.\n",
    "\n",
    "$$H_{null}: \\sigma_{u}^2 = 0$$ $$H_{alternative}: \\sigma_{u}^2 \\neq 0$$\n",
    "\n",
    "To determine whether we can reject the null hypothesis, we will use the likelihood ratio test to see if the inclusion of the random effect significantly improves the fit of the model. To make this comparison we need to fit a standard linear model with the same fixed effects terms, but omitting the random effect. We can then use the `anova()` function to calculate the test statistics and perform the comparison with the $\\chi^2_{1}$ distribution to calculate a p-value.\n"
   ]
  },
  {
   "cell_type": "code",
   "execution_count": 11,
   "id": "2bbf7e12-a620-499d-91d0-76e3d638aaac",
   "metadata": {},
   "outputs": [
    {
     "name": "stdout",
     "output_type": "stream",
     "text": [
      "Data: cogDat"
     ]
    },
    {
     "name": "stdout",
     "output_type": "stream",
     "text": [
      "\n"
     ]
    },
    {
     "name": "stdout",
     "output_type": "stream",
     "text": [
      "Models:"
     ]
    },
    {
     "name": "stdout",
     "output_type": "stream",
     "text": [
      "\n"
     ]
    },
    {
     "name": "stdout",
     "output_type": "stream",
     "text": [
      "model.lm: CognitionA ~ VisitNum"
     ]
    },
    {
     "name": "stdout",
     "output_type": "stream",
     "text": [
      "\n"
     ]
    },
    {
     "name": "stdout",
     "output_type": "stream",
     "text": [
      "model.rand.int: CognitionA ~ VisitNum + (1 | ID)"
     ]
    },
    {
     "name": "stdout",
     "output_type": "stream",
     "text": [
      "\n"
     ]
    },
    {
     "name": "stdout",
     "output_type": "stream",
     "text": [
      "              "
     ]
    },
    {
     "name": "stdout",
     "output_type": "stream",
     "text": [
      " npar"
     ]
    },
    {
     "name": "stdout",
     "output_type": "stream",
     "text": [
      "    AIC"
     ]
    },
    {
     "name": "stdout",
     "output_type": "stream",
     "text": [
      "    BIC"
     ]
    },
    {
     "name": "stdout",
     "output_type": "stream",
     "text": [
      "  logLik"
     ]
    },
    {
     "name": "stdout",
     "output_type": "stream",
     "text": [
      " deviance"
     ]
    },
    {
     "name": "stdout",
     "output_type": "stream",
     "text": [
      "  Chisq"
     ]
    },
    {
     "name": "stdout",
     "output_type": "stream",
     "text": [
      " Df"
     ]
    },
    {
     "name": "stdout",
     "output_type": "stream",
     "text": [
      " Pr(>Chisq)"
     ]
    },
    {
     "name": "stdout",
     "output_type": "stream",
     "text": [
      "    "
     ]
    },
    {
     "name": "stdout",
     "output_type": "stream",
     "text": [
      "\n",
      "model.lm      "
     ]
    },
    {
     "name": "stdout",
     "output_type": "stream",
     "text": [
      "    3"
     ]
    },
    {
     "name": "stdout",
     "output_type": "stream",
     "text": [
      " 847.94"
     ]
    },
    {
     "name": "stdout",
     "output_type": "stream",
     "text": [
      " 856.68"
     ]
    },
    {
     "name": "stdout",
     "output_type": "stream",
     "text": [
      " -420.97"
     ]
    },
    {
     "name": "stdout",
     "output_type": "stream",
     "text": [
      "   841.94"
     ]
    },
    {
     "name": "stdout",
     "output_type": "stream",
     "text": [
      "       "
     ]
    },
    {
     "name": "stdout",
     "output_type": "stream",
     "text": [
      "   "
     ]
    },
    {
     "name": "stdout",
     "output_type": "stream",
     "text": [
      "           "
     ]
    },
    {
     "name": "stdout",
     "output_type": "stream",
     "text": [
      "    "
     ]
    },
    {
     "name": "stdout",
     "output_type": "stream",
     "text": [
      "\n",
      "model.rand.int"
     ]
    },
    {
     "name": "stdout",
     "output_type": "stream",
     "text": [
      "    4"
     ]
    },
    {
     "name": "stdout",
     "output_type": "stream",
     "text": [
      " 684.08"
     ]
    },
    {
     "name": "stdout",
     "output_type": "stream",
     "text": [
      " 695.73"
     ]
    },
    {
     "name": "stdout",
     "output_type": "stream",
     "text": [
      " -338.04"
     ]
    },
    {
     "name": "stdout",
     "output_type": "stream",
     "text": [
      "   676.08"
     ]
    },
    {
     "name": "stdout",
     "output_type": "stream",
     "text": [
      " 165.87"
     ]
    },
    {
     "name": "stdout",
     "output_type": "stream",
     "text": [
      "  1"
     ]
    },
    {
     "name": "stdout",
     "output_type": "stream",
     "text": [
      "  < 2.2e-16"
     ]
    },
    {
     "name": "stdout",
     "output_type": "stream",
     "text": [
      " ***"
     ]
    },
    {
     "name": "stdout",
     "output_type": "stream",
     "text": [
      "\n"
     ]
    },
    {
     "name": "stdout",
     "output_type": "stream",
     "text": [
      "---\n",
      "Signif. codes:  "
     ]
    },
    {
     "name": "stdout",
     "output_type": "stream",
     "text": [
      "0 ‘***’ 0.001 ‘**’ 0.01 ‘*’ 0.05 ‘.’ 0.1 ‘ ’ 1"
     ]
    },
    {
     "name": "stdout",
     "output_type": "stream",
     "text": [
      "\n"
     ]
    },
    {
     "data": {
      "text/plain": [
       "refitting model(s) with ML (instead of REML)\n"
      ]
     },
     "metadata": {},
     "output_type": "display_data"
    }
   ],
   "source": [
    "%%R \n",
    "model.lm<-lm(CognitionA ~ VisitNum, data = cogDat)\n",
    "anova(model.rand.int, model.lm)"
   ]
  },
  {
   "cell_type": "markdown",
   "id": "cbedfb43-f77a-46ce-9ab6-db71f1e7edcc",
   "metadata": {},
   "source": [
    "You will see in the first line of the output, R first refits the random intercepts model with maximum likelihood so that we can perform the likelihood ratio test. It then proceeds to summarise the statistics of the test and provides the p-value from a $\\chi^2_{1}$ distribution, which is significant (P = `r signif(anova(model.rand.int, model.lm)[2,8],2)`). Therefore we can conclude that the addition of a random intercept for individual is an important component of the model. Note if we want a more specific p values than 2.2e-16, we can get that by using the fact that the anova output is a matrix and \"slicing\" the specific element."
   ]
  },
  {
   "cell_type": "code",
   "execution_count": 12,
   "id": "ad25f3bf-361f-4d00-8cd2-18643712c55c",
   "metadata": {},
   "outputs": [
    {
     "name": "stdout",
     "output_type": "stream",
     "text": [
      "[1]"
     ]
    },
    {
     "name": "stdout",
     "output_type": "stream",
     "text": [
      " 5.915128e-38"
     ]
    },
    {
     "name": "stdout",
     "output_type": "stream",
     "text": [
      "\n"
     ]
    },
    {
     "data": {
      "text/plain": [
       "refitting model(s) with ML (instead of REML)\n"
      ]
     },
     "metadata": {},
     "output_type": "display_data"
    }
   ],
   "source": [
    "%%R\n",
    "anova(model.rand.int, model.lm)[2,8]"
   ]
  },
  {
   "cell_type": "markdown",
   "id": "fcb40c71-93d0-4fbc-b9ca-fe73fd29042e",
   "metadata": {},
   "source": [
    "Note that there is also an inbuilt function to perform a test for significant random effects `ranova()`. Let's try it out."
   ]
  },
  {
   "cell_type": "code",
   "execution_count": 13,
   "id": "f7eb6b76-e553-4dbc-9282-c8a580f14350",
   "metadata": {},
   "outputs": [
    {
     "name": "stdout",
     "output_type": "stream",
     "text": [
      "ANOVA-like table for random-effects: Single term deletions"
     ]
    },
    {
     "name": "stdout",
     "output_type": "stream",
     "text": [
      "\n"
     ]
    },
    {
     "name": "stdout",
     "output_type": "stream",
     "text": [
      "\n",
      "Model:"
     ]
    },
    {
     "name": "stdout",
     "output_type": "stream",
     "text": [
      "\n"
     ]
    },
    {
     "name": "stdout",
     "output_type": "stream",
     "text": [
      "CognitionA ~ VisitNum + (1 | ID)"
     ]
    },
    {
     "name": "stdout",
     "output_type": "stream",
     "text": [
      "\n"
     ]
    },
    {
     "name": "stdout",
     "output_type": "stream",
     "text": [
      "        "
     ]
    },
    {
     "name": "stdout",
     "output_type": "stream",
     "text": [
      " npar"
     ]
    },
    {
     "name": "stdout",
     "output_type": "stream",
     "text": [
      "  logLik"
     ]
    },
    {
     "name": "stdout",
     "output_type": "stream",
     "text": [
      "    AIC"
     ]
    },
    {
     "name": "stdout",
     "output_type": "stream",
     "text": [
      "    LRT"
     ]
    },
    {
     "name": "stdout",
     "output_type": "stream",
     "text": [
      " Df"
     ]
    },
    {
     "name": "stdout",
     "output_type": "stream",
     "text": [
      " Pr(>Chisq)"
     ]
    },
    {
     "name": "stdout",
     "output_type": "stream",
     "text": [
      "    "
     ]
    },
    {
     "name": "stdout",
     "output_type": "stream",
     "text": [
      "\n",
      "<none>  "
     ]
    },
    {
     "name": "stdout",
     "output_type": "stream",
     "text": [
      "    4"
     ]
    },
    {
     "name": "stdout",
     "output_type": "stream",
     "text": [
      " -338.46"
     ]
    },
    {
     "name": "stdout",
     "output_type": "stream",
     "text": [
      " 684.93"
     ]
    },
    {
     "name": "stdout",
     "output_type": "stream",
     "text": [
      "       "
     ]
    },
    {
     "name": "stdout",
     "output_type": "stream",
     "text": [
      "   "
     ]
    },
    {
     "name": "stdout",
     "output_type": "stream",
     "text": [
      "           "
     ]
    },
    {
     "name": "stdout",
     "output_type": "stream",
     "text": [
      "    "
     ]
    },
    {
     "name": "stdout",
     "output_type": "stream",
     "text": [
      "\n",
      "(1 | ID)"
     ]
    },
    {
     "name": "stdout",
     "output_type": "stream",
     "text": [
      "    3"
     ]
    },
    {
     "name": "stdout",
     "output_type": "stream",
     "text": [
      " -421.02"
     ]
    },
    {
     "name": "stdout",
     "output_type": "stream",
     "text": [
      " 848.04"
     ]
    },
    {
     "name": "stdout",
     "output_type": "stream",
     "text": [
      " 165.11"
     ]
    },
    {
     "name": "stdout",
     "output_type": "stream",
     "text": [
      "  1"
     ]
    },
    {
     "name": "stdout",
     "output_type": "stream",
     "text": [
      "  < 2.2e-16"
     ]
    },
    {
     "name": "stdout",
     "output_type": "stream",
     "text": [
      " ***"
     ]
    },
    {
     "name": "stdout",
     "output_type": "stream",
     "text": [
      "\n"
     ]
    },
    {
     "name": "stdout",
     "output_type": "stream",
     "text": [
      "---\n",
      "Signif. codes:  "
     ]
    },
    {
     "name": "stdout",
     "output_type": "stream",
     "text": [
      "0 ‘***’ 0.001 ‘**’ 0.01 ‘*’ 0.05 ‘.’ 0.1 ‘ ’ 1"
     ]
    },
    {
     "name": "stdout",
     "output_type": "stream",
     "text": [
      "\n"
     ]
    }
   ],
   "source": [
    "%%R\n",
    "ranova(model.rand.int)"
   ]
  },
  {
   "cell_type": "markdown",
   "id": "1081170e-fc7d-4e95-8fb7-4e85758de4e2",
   "metadata": {},
   "source": [
    "Looking at the output, we can see two rows, one for each model and the the number of degrees of freedom for the two models is right. If we just look at the p-value it is the same as when we manually coded the anova therefore we might think that we have performed the same analysis. But on closer inspection we can see the log likelihood values and therefore the test statistic are subtly different. This method is in fact using the likelihood statistics from the model fitted using REML, rather than maximum likelihood which is statistically incorrect. We can confirm this by extracting the log likelihood from our lmer model object (which we fitted using REML rather than ML), rather than refitting using maximum likelihood."
   ]
  },
  {
   "cell_type": "code",
   "execution_count": 14,
   "id": "1b4395d9-387f-40ef-8708-7432896c859d",
   "metadata": {},
   "outputs": [
    {
     "name": "stdout",
     "output_type": "stream",
     "text": [
      "'log Lik.' "
     ]
    },
    {
     "name": "stdout",
     "output_type": "stream",
     "text": [
      "-338.4643"
     ]
    },
    {
     "name": "stdout",
     "output_type": "stream",
     "text": [
      " (df="
     ]
    },
    {
     "name": "stdout",
     "output_type": "stream",
     "text": [
      "4"
     ]
    },
    {
     "name": "stdout",
     "output_type": "stream",
     "text": [
      ")\n"
     ]
    }
   ],
   "source": [
    "%%R\n",
    "## log likelihood of linear model\n",
    "logLik(model.lm)\n",
    "\n",
    "## log likelihood of random intercepts model fitted with REML\n",
    "logLik(model.rand.int)"
   ]
  },
  {
   "cell_type": "markdown",
   "id": "7c57c9cc-7afa-4903-97b0-a20b714a381d",
   "metadata": {},
   "source": [
    "Now in reality the results are essentially the same, and indeed they would have been had we used ML to fit our regression model initially. But it may be preferable to use the `anova()` function to explicitly make the model comparisons, so that you can be confident that you know exactly what methods were used.\n",
    "\n",
    "## Exercise 1\n",
    "\n",
    "*Let's see if the other cognitive tests also change consistently over time*\n",
    "\n",
    "Write the R code required, to test using a mixed effects regression model, the following:\n",
    "\n",
    "1.  Is cognitive test B significantly associated with visit number?\n",
    "2.  Is cognitive test C significantly associated with visit number?\n",
    "\n",
    "For each test, is the random intercept necessary?"
   ]
  },
  {
   "cell_type": "markdown",
   "id": "2c22d53f-ba82-472e-bac1-7d0ccedecd99",
   "metadata": {
    "editable": true,
    "slideshow": {
     "slide_type": ""
    },
    "tags": []
   },
   "source": [
    "```{admonition} Solution\n",
    ":class: dropdown\n",
    "``` R\n",
    "model1<-lmer(CognitionB ~ VisitNum  + (1 | ID), data = cogDat)\n",
    "model1.null <- lm(CognitionB ~ VisitNum, data = cogDat)\n",
    "summary(model1)\n",
    "anova(model1, model1.null)\n",
    "\n",
    "model2<-lmer(CognitionC ~ VisitNum  + (1 | ID), data = cogDat)\n",
    "model2.null<-lm(CognitionC ~ VisitNum, data = cogDat)\n",
    "summary(model2)\n",
    "anova(model2, model2.null)\n",
    "```\n",
    "```"
   ]
  },
  {
   "cell_type": "code",
   "execution_count": 15,
   "id": "9e5b9668-1081-44f2-9e3d-1011dd7e0d53",
   "metadata": {
    "editable": true,
    "slideshow": {
     "slide_type": ""
    },
    "tags": [
     "remove-input"
    ]
   },
   "outputs": [
    {
     "data": {
      "text/html": [
       "<div id=\"vBvzTrCiyoTl\" data-shufflequestions=\"False\"\n",
       "               data-shuffleanswers=\"True\"\n",
       "               data-preserveresponses=\"false\"\n",
       "               data-numquestions=\"1000000\"\n",
       "               data-maxwidth=\"600\"\n",
       "               style=\"border-radius: 10px; text-align: left\"> <style>\n",
       "#vBvzTrCiyoTl {\n",
       "   --jq-multiple-choice-bg: #6f78ffff;\n",
       "   --jq-mc-button-bg: #fafafa;\n",
       "   --jq-mc-button-border: #e0e0e0e0;\n",
       "   --jq-mc-button-inset-shadow: #555555;\n",
       "   --jq-many-choice-bg: #f75c03ff;\n",
       "   --jq-numeric-bg: #392061ff;\n",
       "   --jq-numeric-input-bg: #c0c0c0;\n",
       "   --jq-numeric-input-label: #101010;\n",
       "   --jq-numeric-input-shadow: #999999;\n",
       "   --jq-incorrect-color: #c80202;\n",
       "   --jq-correct-color: #009113;\n",
       "   --jq-text-color: #fafafa;\n",
       "}\n",
       "\n",
       ".Quiz {\n",
       "    max-width: 600px;\n",
       "    margin-top: 15px;\n",
       "    margin-left: auto;\n",
       "    margin-right: auto;\n",
       "    margin-bottom: 15px;\n",
       "    padding-bottom: 4px;\n",
       "    padding-top: 4px;\n",
       "    line-height: 1.1;\n",
       "    font-size: 16pt;\n",
       "    border-radius: inherit;\n",
       "}\n",
       "\n",
       ".QuizCode {\n",
       "    font-size: 14pt;\n",
       "    margin-top: 10px;\n",
       "    margin-left: 20px;\n",
       "    margin-right: 20px;\n",
       "}\n",
       "\n",
       ".QuizCode>pre {\n",
       "    padding: 4px;\n",
       "}\n",
       "\n",
       ".Answer {\n",
       "    margin: 10px 0;\n",
       "    display: grid;\n",
       "    grid-template-columns: 1fr 1fr;\n",
       "    grid-gap: 10px;\n",
       "    border-radius: inherit;\n",
       "}\n",
       "\n",
       ".Feedback {\n",
       "    font-size: 16pt;\n",
       "    text-align: center;\n",
       "    min-height: 2em;\n",
       "}\n",
       "\n",
       ".Input {\n",
       "    align: left;\n",
       "    font-size: 20pt;\n",
       "}\n",
       "\n",
       ".Input-text {\n",
       "    display: block;\n",
       "    margin: 10px;\n",
       "    color: inherit;\n",
       "    width: 140px;\n",
       "    background-color: var(--jq-numeric-input-bg);\n",
       "    color: var(--jq-text-color);\n",
       "    padding: 5px;\n",
       "    padding-left: 10px;\n",
       "    font-family: inherit;\n",
       "    font-size: 20px;\n",
       "    font-weight: inherit;\n",
       "    line-height: 20pt;\n",
       "    border: none;\n",
       "    border-radius: 0.2rem;\n",
       "    transition: box-shadow 0.1s);\n",
       "}\n",
       "\n",
       ".Input-text:focus {\n",
       "    outline: none;\n",
       "    background-color: var(--jq-numeric-input-bg);\n",
       "    box-shadow: 0.6rem 0.8rem 1.4rem -0.5rem var(--jq-numeric-input-shadow);\n",
       "}\n",
       "\n",
       ".MCButton {\n",
       "    background: var(--jq-mc-button-bg);\n",
       "    border: 1px solid var(--jq-mc-button-border);\n",
       "    border-radius: inherit;\n",
       "    padding: 10px;\n",
       "    font-size: 16px;\n",
       "    cursor: pointer;\n",
       "    text-align: center;\n",
       "    display: flex;\n",
       "    align-items: center;\n",
       "    justify-content: center;\n",
       "}\n",
       "\n",
       ".MCButton p {\n",
       "    color: inherit;\n",
       "}\n",
       "\n",
       ".MultipleChoiceQn {\n",
       "    padding: 10px;\n",
       "    background: var(--jq-multiple-choice-bg);\n",
       "    color: var(--jq-text-color);\n",
       "    border-radius: inherit;\n",
       "}\n",
       "\n",
       ".ManyChoiceQn {\n",
       "    padding: 10px;\n",
       "    background: var(--jq-many-choice-bg);\n",
       "    color: var(--jq-text-color);\n",
       "    border-radius: inherit;\n",
       "}\n",
       "\n",
       ".NumericQn {\n",
       "    padding: 10px;\n",
       "    background: var(--jq-numeric-bg);\n",
       "    color: var(--jq-text-color);\n",
       "    border-radius: inherit;\n",
       "}\n",
       "\n",
       ".NumericQn p {\n",
       "    color: inherit;\n",
       "}\n",
       "\n",
       ".InpLabel {\n",
       "    line-height: 34px;\n",
       "    float: left;\n",
       "    margin-right: 10px;\n",
       "    color: var(--jq-numeric-input-label);\n",
       "    font-size: 15pt;\n",
       "}\n",
       "\n",
       ".incorrect {\n",
       "    color: var(--jq-incorrect-color);\n",
       "}\n",
       "\n",
       ".correct {\n",
       "    color: var(--jq-correct-color);\n",
       "}\n",
       "\n",
       ".correctButton {\n",
       "    /*\n",
       "    background: var(--jq-correct-color);\n",
       "   */\n",
       "    animation: correct-anim 0.6s ease;\n",
       "    animation-fill-mode: forwards;\n",
       "    color: var(--jq-text-color);\n",
       "    box-shadow: inset 0px 0px 5px var(--jq-mc-button-inset-shadow);\n",
       "    outline: none;\n",
       "}\n",
       "\n",
       ".incorrectButton {\n",
       "    animation: incorrect-anim 0.8s ease;\n",
       "    animation-fill-mode: forwards;\n",
       "    color: var(--jq-text-color);\n",
       "    box-shadow: inset 0px 0px 5px var(--jq-mc-button-inset-shadow);\n",
       "    outline: none;\n",
       "}\n",
       "\n",
       "@keyframes incorrect-anim {\n",
       "    100% {\n",
       "        background-color: var(--jq-incorrect-color);\n",
       "    }\n",
       "}\n",
       "\n",
       "@keyframes correct-anim {\n",
       "    100% {\n",
       "        background-color: var(--jq-correct-color);\n",
       "    }\n",
       "}\n",
       "</style>"
      ],
      "text/plain": [
       "<IPython.core.display.HTML object>"
      ]
     },
     "metadata": {},
     "output_type": "display_data"
    },
    {
     "data": {
      "application/javascript": [
       "var questionsvBvzTrCiyoTl=[\n",
       "    {\n",
       "        \"question\": \"For cognitive test B, which of these statements is true?\",\n",
       "        \"type\": \"many_choice\",\n",
       "        \"answers\": [\n",
       "            {\n",
       "                \"answer\": \"The cognitive scores are increasing with visit number although not significantly.\",\n",
       "                \"correct\": false,\n",
       "                \"feedback\": \"Incorrect.\"\n",
       "            },\n",
       "            {\n",
       "                \"answer\": \"The cognitive scores are increasing significantly with visit number.\",\n",
       "                \"correct\": true,\n",
       "                \"feedback\": \"Correct.\"\n",
       "            },\n",
       "            {\n",
       "                \"answer\": \"The cognitive scores are decreasing with visit number although not significantly.\",\n",
       "                \"correct\": false,\n",
       "                \"feedback\": \"Incorrect.\"\n",
       "            },\n",
       "            {\n",
       "                \"answer\": \"The cognitive scores are decreasing significantly with visit number.\",\n",
       "                \"correct\": false,\n",
       "                \"feedback\": \"Incorrect.\"\n",
       "            }\n",
       "        ]\n",
       "    },\n",
       "    {\n",
       "        \"question\": \"What is the estimated mean change per visit in cognitive test B?\",\n",
       "        \"type\": \"many_choice\",\n",
       "        \"answers\": [\n",
       "            {\n",
       "                \"answer\": \"7.85\",\n",
       "                \"correct\": false,\n",
       "                \"feedback\": \"Incorrect.\"\n",
       "            },\n",
       "            {\n",
       "                \"answer\": \"0.079\",\n",
       "                \"correct\": true,\n",
       "                \"feedback\": \"Correct.\"\n",
       "            },\n",
       "            {\n",
       "                \"answer\": \"0.0010\",\n",
       "                \"correct\": false,\n",
       "                \"feedback\": \"Incorrect.\"\n",
       "            },\n",
       "            {\n",
       "                \"answer\": \"17.7\",\n",
       "                \"correct\": false,\n",
       "                \"feedback\": \"Incorrect.\"\n",
       "            }\n",
       "        ]\n",
       "    },\n",
       "    {\n",
       "        \"question\": \"For cognitive test C, which of these statements is true?\",\n",
       "        \"type\": \"many_choice\",\n",
       "        \"answers\": [\n",
       "            {\n",
       "                \"answer\": \"The cognitive scores are increasing with visit number although not significantly.\",\n",
       "                \"correct\": true,\n",
       "                \"feedback\": \"Correct.\"\n",
       "            },\n",
       "            {\n",
       "                \"answer\": \"The cognitive scores are increasing significantly with visit number.\",\n",
       "                \"correct\": false,\n",
       "                \"feedback\": \"Incorrect.\"\n",
       "            },\n",
       "            {\n",
       "                \"answer\": \"The cognitive scores are decreasing with visit number although not significantly.\",\n",
       "                \"correct\": false,\n",
       "                \"feedback\": \"Incorrect.\"\n",
       "            },\n",
       "            {\n",
       "                \"answer\": \"The cognitive scores are decreasing significantly with visit number.\",\n",
       "                \"correct\": false,\n",
       "                \"feedback\": \"Incorrect.\"\n",
       "            }\n",
       "        ]\n",
       "    },\n",
       "    {\n",
       "        \"question\": \"What is the variance of the individual intercepts for cognitive test C?\",\n",
       "        \"type\": \"many_choice\",\n",
       "        \"answers\": [\n",
       "            {\n",
       "                \"answer\": \"4.61\",\n",
       "                \"correct\": true,\n",
       "                \"feedback\": \"Correct.\"\n",
       "            },\n",
       "            {\n",
       "                \"answer\": \"2.15\",\n",
       "                \"correct\": false,\n",
       "                \"feedback\": \"Incorrect.\"\n",
       "            },\n",
       "            {\n",
       "                \"answer\": \"19.99\",\n",
       "                \"correct\": false,\n",
       "                \"feedback\": \"Incorrect.\"\n",
       "            },\n",
       "            {\n",
       "                \"answer\": \"0.011\",\n",
       "                \"correct\": false,\n",
       "                \"feedback\": \"Incorrect.\"\n",
       "            }\n",
       "        ]\n",
       "    },\n",
       "    {\n",
       "        \"question\": \"The random intercept significantly improves the model fit for which cognitive score?\",\n",
       "        \"type\": \"many_choice\",\n",
       "        \"answers\": [\n",
       "            {\n",
       "                \"answer\": \"Neither B or C\",\n",
       "                \"correct\": false,\n",
       "                \"feedback\": \"Incorrect\"\n",
       "            },\n",
       "            {\n",
       "                \"answer\": \"B only\",\n",
       "                \"correct\": false,\n",
       "                \"feedback\": \"Incorrect\"\n",
       "            },\n",
       "            {\n",
       "                \"answer\": \"C only\",\n",
       "                \"correct\": false,\n",
       "                \"feedback\": \"Incorrect.\"\n",
       "            },\n",
       "            {\n",
       "                \"answer\": \"Both B and C\",\n",
       "                \"correct\": true,\n",
       "                \"feedback\": \"Correct.\"\n",
       "            }\n",
       "        ]\n",
       "    }\n",
       "];\n",
       "    // Make a random ID\n",
       "function makeid(length) {\n",
       "    var result = [];\n",
       "    var characters = 'ABCDEFGHIJKLMNOPQRSTUVWXYZabcdefghijklmnopqrstuvwxyz';\n",
       "    var charactersLength = characters.length;\n",
       "    for (var i = 0; i < length; i++) {\n",
       "        result.push(characters.charAt(Math.floor(Math.random() * charactersLength)));\n",
       "    }\n",
       "    return result.join('');\n",
       "}\n",
       "\n",
       "// Choose a random subset of an array. Can also be used to shuffle the array\n",
       "function getRandomSubarray(arr, size) {\n",
       "    var shuffled = arr.slice(0), i = arr.length, temp, index;\n",
       "    while (i--) {\n",
       "        index = Math.floor((i + 1) * Math.random());\n",
       "        temp = shuffled[index];\n",
       "        shuffled[index] = shuffled[i];\n",
       "        shuffled[i] = temp;\n",
       "    }\n",
       "    return shuffled.slice(0, size);\n",
       "}\n",
       "\n",
       "function printResponses(responsesContainer) {\n",
       "    var responses=JSON.parse(responsesContainer.dataset.responses);\n",
       "    var stringResponses='<B>IMPORTANT!</B>To preserve this answer sequence for submission, when you have finalized your answers: <ol> <li> Copy the text in this cell below \"Answer String\"</li> <li> Double click on the cell directly below the Answer String, labeled \"Replace Me\"</li> <li> Select the whole \"Replace Me\" text</li> <li> Paste in your answer string and press shift-Enter.</li><li>Save the notebook using the save icon or File->Save Notebook menu item</li></ul><br><br><br><b>Answer String:</b><br> ';\n",
       "    console.log(responses);\n",
       "    responses.forEach((response, index) => {\n",
       "        if (response) {\n",
       "            console.log(index + ': ' + response);\n",
       "            stringResponses+= index + ': ' + response +\"<BR>\";\n",
       "        }\n",
       "    });\n",
       "    responsesContainer.innerHTML=stringResponses;\n",
       "}\n",
       "function check_mc() {\n",
       "    var id = this.id.split('-')[0];\n",
       "    //var response = this.id.split('-')[1];\n",
       "    //console.log(response);\n",
       "    //console.log(\"In check_mc(), id=\"+id);\n",
       "    //console.log(event.srcElement.id)           \n",
       "    //console.log(event.srcElement.dataset.correct)   \n",
       "    //console.log(event.srcElement.dataset.feedback)\n",
       "\n",
       "    var label = event.srcElement;\n",
       "    //console.log(label, label.nodeName);\n",
       "    var depth = 0;\n",
       "    while ((label.nodeName != \"LABEL\") && (depth < 20)) {\n",
       "        label = label.parentElement;\n",
       "        console.log(depth, label);\n",
       "        depth++;\n",
       "    }\n",
       "\n",
       "\n",
       "\n",
       "    var answers = label.parentElement.children;\n",
       "\n",
       "    //console.log(answers);\n",
       "\n",
       "\n",
       "    // Split behavior based on multiple choice vs many choice:\n",
       "    var fb = document.getElementById(\"fb\" + id);\n",
       "\n",
       "\n",
       "\n",
       "\n",
       "    if (fb.dataset.numcorrect == 1) {\n",
       "        // What follows is for the saved responses stuff\n",
       "        var outerContainer = fb.parentElement.parentElement;\n",
       "        var responsesContainer = document.getElementById(\"responses\" + outerContainer.id);\n",
       "        if (responsesContainer) {\n",
       "            //console.log(responsesContainer);\n",
       "            var response = label.firstChild.innerText;\n",
       "            if (label.querySelector(\".QuizCode\")){\n",
       "                response+= label.querySelector(\".QuizCode\").firstChild.innerText;\n",
       "            }\n",
       "            console.log(response);\n",
       "            //console.log(document.getElementById(\"quizWrap\"+id));\n",
       "            var qnum = document.getElementById(\"quizWrap\"+id).dataset.qnum;\n",
       "            console.log(\"Question \" + qnum);\n",
       "            //console.log(id, \", got numcorrect=\",fb.dataset.numcorrect);\n",
       "            var responses=JSON.parse(responsesContainer.dataset.responses);\n",
       "            console.log(responses);\n",
       "            responses[qnum]= response;\n",
       "            responsesContainer.setAttribute('data-responses', JSON.stringify(responses));\n",
       "            printResponses(responsesContainer);\n",
       "        }\n",
       "        // End code to preserve responses\n",
       "        \n",
       "        for (var i = 0; i < answers.length; i++) {\n",
       "            var child = answers[i];\n",
       "            //console.log(child);\n",
       "            child.className = \"MCButton\";\n",
       "        }\n",
       "\n",
       "\n",
       "\n",
       "        if (label.dataset.correct == \"true\") {\n",
       "            // console.log(\"Correct action\");\n",
       "            if (\"feedback\" in label.dataset) {\n",
       "                fb.textContent = jaxify(label.dataset.feedback);\n",
       "            } else {\n",
       "                fb.textContent = \"Correct!\";\n",
       "            }\n",
       "            label.classList.add(\"correctButton\");\n",
       "\n",
       "            fb.className = \"Feedback\";\n",
       "            fb.classList.add(\"correct\");\n",
       "\n",
       "        } else {\n",
       "            if (\"feedback\" in label.dataset) {\n",
       "                fb.textContent = jaxify(label.dataset.feedback);\n",
       "            } else {\n",
       "                fb.textContent = \"Incorrect -- try again.\";\n",
       "            }\n",
       "            //console.log(\"Error action\");\n",
       "            label.classList.add(\"incorrectButton\");\n",
       "            fb.className = \"Feedback\";\n",
       "            fb.classList.add(\"incorrect\");\n",
       "        }\n",
       "    }\n",
       "    else {\n",
       "        var reset = false;\n",
       "        var feedback;\n",
       "         if (label.dataset.correct == \"true\") {\n",
       "            if (\"feedback\" in label.dataset) {\n",
       "                feedback = jaxify(label.dataset.feedback);\n",
       "            } else {\n",
       "                feedback = \"Correct!\";\n",
       "            }\n",
       "            if (label.dataset.answered <= 0) {\n",
       "                if (fb.dataset.answeredcorrect < 0) {\n",
       "                    fb.dataset.answeredcorrect = 1;\n",
       "                    reset = true;\n",
       "                } else {\n",
       "                    fb.dataset.answeredcorrect++;\n",
       "                }\n",
       "                if (reset) {\n",
       "                    for (var i = 0; i < answers.length; i++) {\n",
       "                        var child = answers[i];\n",
       "                        child.className = \"MCButton\";\n",
       "                        child.dataset.answered = 0;\n",
       "                    }\n",
       "                }\n",
       "                label.classList.add(\"correctButton\");\n",
       "                label.dataset.answered = 1;\n",
       "                fb.className = \"Feedback\";\n",
       "                fb.classList.add(\"correct\");\n",
       "\n",
       "            }\n",
       "        } else {\n",
       "            if (\"feedback\" in label.dataset) {\n",
       "                feedback = jaxify(label.dataset.feedback);\n",
       "            } else {\n",
       "                feedback = \"Incorrect -- try again.\";\n",
       "            }\n",
       "            if (fb.dataset.answeredcorrect > 0) {\n",
       "                fb.dataset.answeredcorrect = -1;\n",
       "                reset = true;\n",
       "            } else {\n",
       "                fb.dataset.answeredcorrect--;\n",
       "            }\n",
       "\n",
       "            if (reset) {\n",
       "                for (var i = 0; i < answers.length; i++) {\n",
       "                    var child = answers[i];\n",
       "                    child.className = \"MCButton\";\n",
       "                    child.dataset.answered = 0;\n",
       "                }\n",
       "            }\n",
       "            label.classList.add(\"incorrectButton\");\n",
       "            fb.className = \"Feedback\";\n",
       "            fb.classList.add(\"incorrect\");\n",
       "        }\n",
       "        // What follows is for the saved responses stuff\n",
       "        var outerContainer = fb.parentElement.parentElement;\n",
       "        var responsesContainer = document.getElementById(\"responses\" + outerContainer.id);\n",
       "        if (responsesContainer) {\n",
       "            //console.log(responsesContainer);\n",
       "            var response = label.firstChild.innerText;\n",
       "            if (label.querySelector(\".QuizCode\")){\n",
       "                response+= label.querySelector(\".QuizCode\").firstChild.innerText;\n",
       "            }\n",
       "            console.log(response);\n",
       "            //console.log(document.getElementById(\"quizWrap\"+id));\n",
       "            var qnum = document.getElementById(\"quizWrap\"+id).dataset.qnum;\n",
       "            console.log(\"Question \" + qnum);\n",
       "            //console.log(id, \", got numcorrect=\",fb.dataset.numcorrect);\n",
       "            var responses=JSON.parse(responsesContainer.dataset.responses);\n",
       "            if (label.dataset.correct == \"true\") {\n",
       "                if (typeof(responses[qnum]) == \"object\"){\n",
       "                    if (!responses[qnum].includes(response))\n",
       "                        responses[qnum].push(response);\n",
       "                } else{\n",
       "                    responses[qnum]= [ response ];\n",
       "                }\n",
       "            } else {\n",
       "                responses[qnum]= response;\n",
       "            }\n",
       "            console.log(responses);\n",
       "            responsesContainer.setAttribute('data-responses', JSON.stringify(responses));\n",
       "            printResponses(responsesContainer);\n",
       "        }\n",
       "        // End save responses stuff\n",
       "\n",
       "\n",
       "\n",
       "        var numcorrect = fb.dataset.numcorrect;\n",
       "        var answeredcorrect = fb.dataset.answeredcorrect;\n",
       "        if (answeredcorrect >= 0) {\n",
       "            fb.textContent = feedback + \" [\" + answeredcorrect + \"/\" + numcorrect + \"]\";\n",
       "        } else {\n",
       "            fb.textContent = feedback + \" [\" + 0 + \"/\" + numcorrect + \"]\";\n",
       "        }\n",
       "\n",
       "\n",
       "    }\n",
       "\n",
       "    if (typeof MathJax != 'undefined') {\n",
       "        var version = MathJax.version;\n",
       "        console.log('MathJax version', version);\n",
       "        if (version[0] == \"2\") {\n",
       "            MathJax.Hub.Queue([\"Typeset\", MathJax.Hub]);\n",
       "        } else if (version[0] == \"3\") {\n",
       "            MathJax.typeset([fb]);\n",
       "        }\n",
       "    } else {\n",
       "        console.log('MathJax not detected');\n",
       "    }\n",
       "\n",
       "}\n",
       "\n",
       "function make_mc(qa, shuffle_answers, outerqDiv, qDiv, aDiv, id) {\n",
       "    var shuffled;\n",
       "    if (shuffle_answers == \"True\") {\n",
       "        //console.log(shuffle_answers+\" read as true\");\n",
       "        shuffled = getRandomSubarray(qa.answers, qa.answers.length);\n",
       "    } else {\n",
       "        //console.log(shuffle_answers+\" read as false\");\n",
       "        shuffled = qa.answers;\n",
       "    }\n",
       "\n",
       "\n",
       "    var num_correct = 0;\n",
       "\n",
       "\n",
       "\n",
       "    shuffled.forEach((item, index, ans_array) => {\n",
       "        //console.log(answer);\n",
       "\n",
       "        // Make input element\n",
       "        var inp = document.createElement(\"input\");\n",
       "        inp.type = \"radio\";\n",
       "        inp.id = \"quizo\" + id + index;\n",
       "        inp.style = \"display:none;\";\n",
       "        aDiv.append(inp);\n",
       "\n",
       "        //Make label for input element\n",
       "        var lab = document.createElement(\"label\");\n",
       "        lab.className = \"MCButton\";\n",
       "        lab.id = id + '-' + index;\n",
       "        lab.onclick = check_mc;\n",
       "        var aSpan = document.createElement('span');\n",
       "        aSpan.classsName = \"\";\n",
       "        //qDiv.id=\"quizQn\"+id+index;\n",
       "        if (\"answer\" in item) {\n",
       "            aSpan.innerHTML = jaxify(item.answer);\n",
       "            //aSpan.innerHTML=item.answer;\n",
       "        }\n",
       "        lab.append(aSpan);\n",
       "\n",
       "        // Create div for code inside question\n",
       "        var codeSpan;\n",
       "        if (\"code\" in item) {\n",
       "            codeSpan = document.createElement('span');\n",
       "            codeSpan.id = \"code\" + id + index;\n",
       "            codeSpan.className = \"QuizCode\";\n",
       "            var codePre = document.createElement('pre');\n",
       "            codeSpan.append(codePre);\n",
       "            var codeCode = document.createElement('code');\n",
       "            codePre.append(codeCode);\n",
       "            codeCode.innerHTML = item.code;\n",
       "            lab.append(codeSpan);\n",
       "            //console.log(codeSpan);\n",
       "        }\n",
       "\n",
       "        //lab.textContent=item.answer;\n",
       "\n",
       "        // Set the data attributes for the answer\n",
       "        lab.setAttribute('data-correct', item.correct);\n",
       "        if (item.correct) {\n",
       "            num_correct++;\n",
       "        }\n",
       "        if (\"feedback\" in item) {\n",
       "            lab.setAttribute('data-feedback', item.feedback);\n",
       "        }\n",
       "        lab.setAttribute('data-answered', 0);\n",
       "\n",
       "        aDiv.append(lab);\n",
       "\n",
       "    });\n",
       "\n",
       "    if (num_correct > 1) {\n",
       "        outerqDiv.className = \"ManyChoiceQn\";\n",
       "    } else {\n",
       "        outerqDiv.className = \"MultipleChoiceQn\";\n",
       "    }\n",
       "\n",
       "    return num_correct;\n",
       "\n",
       "}\n",
       "function check_numeric(ths, event) {\n",
       "\n",
       "    if (event.keyCode === 13) {\n",
       "        ths.blur();\n",
       "\n",
       "        var id = ths.id.split('-')[0];\n",
       "\n",
       "        var submission = ths.value;\n",
       "        if (submission.indexOf('/') != -1) {\n",
       "            var sub_parts = submission.split('/');\n",
       "            //console.log(sub_parts);\n",
       "            submission = sub_parts[0] / sub_parts[1];\n",
       "        }\n",
       "        //console.log(\"Reader entered\", submission);\n",
       "\n",
       "        if (\"precision\" in ths.dataset) {\n",
       "            var precision = ths.dataset.precision;\n",
       "            // console.log(\"1:\", submission)\n",
       "            submission = Math.round((1 * submission + Number.EPSILON) * 10 ** precision) / 10 ** precision;\n",
       "            // console.log(\"Rounded to \", submission, \" precision=\", precision  );\n",
       "        }\n",
       "\n",
       "\n",
       "        //console.log(\"In check_numeric(), id=\"+id);\n",
       "        //console.log(event.srcElement.id)           \n",
       "        //console.log(event.srcElement.dataset.feedback)\n",
       "\n",
       "        var fb = document.getElementById(\"fb\" + id);\n",
       "        fb.style.display = \"none\";\n",
       "        fb.textContent = \"Incorrect -- try again.\";\n",
       "\n",
       "        var answers = JSON.parse(ths.dataset.answers);\n",
       "        //console.log(answers);\n",
       "\n",
       "        var defaultFB = \"\";\n",
       "        var correct;\n",
       "        var done = false;\n",
       "        answers.every(answer => {\n",
       "            //console.log(answer.type);\n",
       "\n",
       "            correct = false;\n",
       "            // if (answer.type==\"value\"){\n",
       "            if ('value' in answer) {\n",
       "                if (submission == answer.value) {\n",
       "                    if (\"feedback\" in answer) {\n",
       "                        fb.textContent = jaxify(answer.feedback);\n",
       "                    } else {\n",
       "                        fb.textContent = jaxify(\"Correct\");\n",
       "                    }\n",
       "                    correct = answer.correct;\n",
       "                    //console.log(answer.correct);\n",
       "                    done = true;\n",
       "                }\n",
       "                // } else if (answer.type==\"range\") {\n",
       "            } else if ('range' in answer) {\n",
       "                //console.log(answer.range);\n",
       "                if ((submission >= answer.range[0]) && (submission < answer.range[1])) {\n",
       "                    fb.textContent = jaxify(answer.feedback);\n",
       "                    correct = answer.correct;\n",
       "                    //console.log(answer.correct);\n",
       "                    done = true;\n",
       "                }\n",
       "            } else if (answer.type == \"default\") {\n",
       "                defaultFB = answer.feedback;\n",
       "            }\n",
       "            if (done) {\n",
       "                return false; // Break out of loop if this has been marked correct\n",
       "            } else {\n",
       "                return true; // Keep looking for case that includes this as a correct answer\n",
       "            }\n",
       "        });\n",
       "\n",
       "        if ((!done) && (defaultFB != \"\")) {\n",
       "            fb.innerHTML = jaxify(defaultFB);\n",
       "            //console.log(\"Default feedback\", defaultFB);\n",
       "        }\n",
       "\n",
       "        fb.style.display = \"block\";\n",
       "        if (correct) {\n",
       "            ths.className = \"Input-text\";\n",
       "            ths.classList.add(\"correctButton\");\n",
       "            fb.className = \"Feedback\";\n",
       "            fb.classList.add(\"correct\");\n",
       "        } else {\n",
       "            ths.className = \"Input-text\";\n",
       "            ths.classList.add(\"incorrectButton\");\n",
       "            fb.className = \"Feedback\";\n",
       "            fb.classList.add(\"incorrect\");\n",
       "        }\n",
       "\n",
       "        // What follows is for the saved responses stuff\n",
       "        var outerContainer = fb.parentElement.parentElement;\n",
       "        var responsesContainer = document.getElementById(\"responses\" + outerContainer.id);\n",
       "        if (responsesContainer) {\n",
       "            console.log(submission);\n",
       "            var qnum = document.getElementById(\"quizWrap\"+id).dataset.qnum;\n",
       "            //console.log(\"Question \" + qnum);\n",
       "            //console.log(id, \", got numcorrect=\",fb.dataset.numcorrect);\n",
       "            var responses=JSON.parse(responsesContainer.dataset.responses);\n",
       "            console.log(responses);\n",
       "            if (submission == ths.value){\n",
       "                responses[qnum]= submission;\n",
       "            } else {\n",
       "                responses[qnum]= ths.value + \"(\" + submission +\")\";\n",
       "            }\n",
       "            responsesContainer.setAttribute('data-responses', JSON.stringify(responses));\n",
       "            printResponses(responsesContainer);\n",
       "        }\n",
       "        // End code to preserve responses\n",
       "\n",
       "        if (typeof MathJax != 'undefined') {\n",
       "            var version = MathJax.version;\n",
       "            console.log('MathJax version', version);\n",
       "            if (version[0] == \"2\") {\n",
       "                MathJax.Hub.Queue([\"Typeset\", MathJax.Hub]);\n",
       "            } else if (version[0] == \"3\") {\n",
       "                MathJax.typeset([fb]);\n",
       "            }\n",
       "        } else {\n",
       "            console.log('MathJax not detected');\n",
       "        }\n",
       "        return false;\n",
       "    }\n",
       "\n",
       "}\n",
       "\n",
       "function isValid(el, charC) {\n",
       "    //console.log(\"Input char: \", charC);\n",
       "    if (charC == 46) {\n",
       "        if (el.value.indexOf('.') === -1) {\n",
       "            return true;\n",
       "        } else if (el.value.indexOf('/') != -1) {\n",
       "            var parts = el.value.split('/');\n",
       "            if (parts[1].indexOf('.') === -1) {\n",
       "                return true;\n",
       "            }\n",
       "        }\n",
       "        else {\n",
       "            return false;\n",
       "        }\n",
       "    } else if (charC == 47) {\n",
       "        if (el.value.indexOf('/') === -1) {\n",
       "            if ((el.value != \"\") && (el.value != \".\")) {\n",
       "                return true;\n",
       "            } else {\n",
       "                return false;\n",
       "            }\n",
       "        } else {\n",
       "            return false;\n",
       "        }\n",
       "    } else if (charC == 45) {\n",
       "        var edex = el.value.indexOf('e');\n",
       "        if (edex == -1) {\n",
       "            edex = el.value.indexOf('E');\n",
       "        }\n",
       "\n",
       "        if (el.value == \"\") {\n",
       "            return true;\n",
       "        } else if (edex == (el.value.length - 1)) { // If just after e or E\n",
       "            return true;\n",
       "        } else {\n",
       "            return false;\n",
       "        }\n",
       "    } else if (charC == 101) { // \"e\"\n",
       "        if ((el.value.indexOf('e') === -1) && (el.value.indexOf('E') === -1) && (el.value.indexOf('/') == -1)) {\n",
       "            // Prev symbol must be digit or decimal point:\n",
       "            if (el.value.slice(-1).search(/\\d/) >= 0) {\n",
       "                return true;\n",
       "            } else if (el.value.slice(-1).search(/\\./) >= 0) {\n",
       "                return true;\n",
       "            } else {\n",
       "                return false;\n",
       "            }\n",
       "        } else {\n",
       "            return false;\n",
       "        }\n",
       "    } else {\n",
       "        if (charC > 31 && (charC < 48 || charC > 57))\n",
       "            return false;\n",
       "    }\n",
       "    return true;\n",
       "}\n",
       "\n",
       "function numeric_keypress(evnt) {\n",
       "    var charC = (evnt.which) ? evnt.which : evnt.keyCode;\n",
       "\n",
       "    if (charC == 13) {\n",
       "        check_numeric(this, evnt);\n",
       "    } else {\n",
       "        return isValid(this, charC);\n",
       "    }\n",
       "}\n",
       "\n",
       "\n",
       "\n",
       "\n",
       "\n",
       "function make_numeric(qa, outerqDiv, qDiv, aDiv, id) {\n",
       "\n",
       "\n",
       "\n",
       "    //console.log(answer);\n",
       "\n",
       "\n",
       "    outerqDiv.className = \"NumericQn\";\n",
       "    aDiv.style.display = 'block';\n",
       "\n",
       "    var lab = document.createElement(\"label\");\n",
       "    lab.className = \"InpLabel\";\n",
       "    lab.textContent = \"Type numeric answer here:\";\n",
       "    aDiv.append(lab);\n",
       "\n",
       "    var inp = document.createElement(\"input\");\n",
       "    inp.type = \"text\";\n",
       "    //inp.id=\"input-\"+id;\n",
       "    inp.id = id + \"-0\";\n",
       "    inp.className = \"Input-text\";\n",
       "    inp.setAttribute('data-answers', JSON.stringify(qa.answers));\n",
       "    if (\"precision\" in qa) {\n",
       "        inp.setAttribute('data-precision', qa.precision);\n",
       "    }\n",
       "    aDiv.append(inp);\n",
       "    //console.log(inp);\n",
       "\n",
       "    //inp.addEventListener(\"keypress\", check_numeric);\n",
       "    //inp.addEventListener(\"keypress\", numeric_keypress);\n",
       "    /*\n",
       "    inp.addEventListener(\"keypress\", function(event) {\n",
       "        return numeric_keypress(this, event);\n",
       "    }\n",
       "                        );\n",
       "                        */\n",
       "    //inp.onkeypress=\"return numeric_keypress(this, event)\";\n",
       "    inp.onkeypress = numeric_keypress;\n",
       "    inp.onpaste = event => false;\n",
       "\n",
       "    inp.addEventListener(\"focus\", function (event) {\n",
       "        this.value = \"\";\n",
       "        return false;\n",
       "    }\n",
       "    );\n",
       "\n",
       "\n",
       "}\n",
       "function jaxify(string) {\n",
       "    var mystring = string;\n",
       "\n",
       "    var count = 0;\n",
       "    var loc = mystring.search(/([^\\\\]|^)(\\$)/);\n",
       "\n",
       "    var count2 = 0;\n",
       "    var loc2 = mystring.search(/([^\\\\]|^)(\\$\\$)/);\n",
       "\n",
       "    //console.log(loc);\n",
       "\n",
       "    while ((loc >= 0) || (loc2 >= 0)) {\n",
       "\n",
       "        /* Have to replace all the double $$ first with current implementation */\n",
       "        if (loc2 >= 0) {\n",
       "            if (count2 % 2 == 0) {\n",
       "                mystring = mystring.replace(/([^\\\\]|^)(\\$\\$)/, \"$1\\\\[\");\n",
       "            } else {\n",
       "                mystring = mystring.replace(/([^\\\\]|^)(\\$\\$)/, \"$1\\\\]\");\n",
       "            }\n",
       "            count2++;\n",
       "        } else {\n",
       "            if (count % 2 == 0) {\n",
       "                mystring = mystring.replace(/([^\\\\]|^)(\\$)/, \"$1\\\\(\");\n",
       "            } else {\n",
       "                mystring = mystring.replace(/([^\\\\]|^)(\\$)/, \"$1\\\\)\");\n",
       "            }\n",
       "            count++;\n",
       "        }\n",
       "        loc = mystring.search(/([^\\\\]|^)(\\$)/);\n",
       "        loc2 = mystring.search(/([^\\\\]|^)(\\$\\$)/);\n",
       "        //console.log(mystring,\", loc:\",loc,\", loc2:\",loc2);\n",
       "    }\n",
       "\n",
       "    //console.log(mystring);\n",
       "    return mystring;\n",
       "}\n",
       "\n",
       "\n",
       "function show_questions(json, mydiv) {\n",
       "    console.log('show_questions');\n",
       "    //var mydiv=document.getElementById(myid);\n",
       "    var shuffle_questions = mydiv.dataset.shufflequestions;\n",
       "    var num_questions = mydiv.dataset.numquestions;\n",
       "    var shuffle_answers = mydiv.dataset.shuffleanswers;\n",
       "    var max_width = mydiv.dataset.maxwidth;\n",
       "\n",
       "    if (num_questions > json.length) {\n",
       "        num_questions = json.length;\n",
       "    }\n",
       "\n",
       "    var questions;\n",
       "    if ((num_questions < json.length) || (shuffle_questions == \"True\")) {\n",
       "        //console.log(num_questions+\",\"+json.length);\n",
       "        questions = getRandomSubarray(json, num_questions);\n",
       "    } else {\n",
       "        questions = json;\n",
       "    }\n",
       "\n",
       "    //console.log(\"SQ: \"+shuffle_questions+\", NQ: \" + num_questions + \", SA: \", shuffle_answers);\n",
       "\n",
       "    // Iterate over questions\n",
       "    questions.forEach((qa, index, array) => {\n",
       "        //console.log(qa.question); \n",
       "\n",
       "        var id = makeid(8);\n",
       "        //console.log(id);\n",
       "\n",
       "\n",
       "        // Create Div to contain question and answers\n",
       "        var iDiv = document.createElement('div');\n",
       "        //iDiv.id = 'quizWrap' + id + index;\n",
       "        iDiv.id = 'quizWrap' + id;\n",
       "        iDiv.className = 'Quiz';\n",
       "        iDiv.setAttribute('data-qnum', index);\n",
       "        iDiv.style.maxWidth  =max_width+\"px\";\n",
       "        mydiv.appendChild(iDiv);\n",
       "        // iDiv.innerHTML=qa.question;\n",
       "        \n",
       "        var outerqDiv = document.createElement('div');\n",
       "        outerqDiv.id = \"OuterquizQn\" + id + index;\n",
       "        // Create div to contain question part\n",
       "        var qDiv = document.createElement('div');\n",
       "        qDiv.id = \"quizQn\" + id + index;\n",
       "        \n",
       "        if (qa.question) {\n",
       "            iDiv.append(outerqDiv);\n",
       "\n",
       "            //qDiv.textContent=qa.question;\n",
       "            qDiv.innerHTML = jaxify(qa.question);\n",
       "            outerqDiv.append(qDiv);\n",
       "        }\n",
       "\n",
       "        // Create div for code inside question\n",
       "        var codeDiv;\n",
       "        if (\"code\" in qa) {\n",
       "            codeDiv = document.createElement('div');\n",
       "            codeDiv.id = \"code\" + id + index;\n",
       "            codeDiv.className = \"QuizCode\";\n",
       "            var codePre = document.createElement('pre');\n",
       "            codeDiv.append(codePre);\n",
       "            var codeCode = document.createElement('code');\n",
       "            codePre.append(codeCode);\n",
       "            codeCode.innerHTML = qa.code;\n",
       "            outerqDiv.append(codeDiv);\n",
       "            //console.log(codeDiv);\n",
       "        }\n",
       "\n",
       "\n",
       "        // Create div to contain answer part\n",
       "        var aDiv = document.createElement('div');\n",
       "        aDiv.id = \"quizAns\" + id + index;\n",
       "        aDiv.className = 'Answer';\n",
       "        iDiv.append(aDiv);\n",
       "\n",
       "        //console.log(qa.type);\n",
       "\n",
       "        var num_correct;\n",
       "        if ((qa.type == \"multiple_choice\") || (qa.type == \"many_choice\") ) {\n",
       "            num_correct = make_mc(qa, shuffle_answers, outerqDiv, qDiv, aDiv, id);\n",
       "            if (\"answer_cols\" in qa) {\n",
       "                //aDiv.style.gridTemplateColumns = 'auto '.repeat(qa.answer_cols);\n",
       "                aDiv.style.gridTemplateColumns = 'repeat(' + qa.answer_cols + ', 1fr)';\n",
       "            }\n",
       "        } else if (qa.type == \"numeric\") {\n",
       "            //console.log(\"numeric\");\n",
       "            make_numeric(qa, outerqDiv, qDiv, aDiv, id);\n",
       "        }\n",
       "\n",
       "\n",
       "        //Make div for feedback\n",
       "        var fb = document.createElement(\"div\");\n",
       "        fb.id = \"fb\" + id;\n",
       "        //fb.style=\"font-size: 20px;text-align:center;\";\n",
       "        fb.className = \"Feedback\";\n",
       "        fb.setAttribute(\"data-answeredcorrect\", 0);\n",
       "        fb.setAttribute(\"data-numcorrect\", num_correct);\n",
       "        iDiv.append(fb);\n",
       "\n",
       "\n",
       "    });\n",
       "    var preserveResponses = mydiv.dataset.preserveresponses;\n",
       "    console.log(preserveResponses);\n",
       "    console.log(preserveResponses == \"true\");\n",
       "    if (preserveResponses == \"true\") {\n",
       "        console.log(preserveResponses);\n",
       "        // Create Div to contain record of answers\n",
       "        var iDiv = document.createElement('div');\n",
       "        iDiv.id = 'responses' + mydiv.id;\n",
       "        iDiv.className = 'JCResponses';\n",
       "        // Create a place to store responses as an empty array\n",
       "        iDiv.setAttribute('data-responses', '[]');\n",
       "\n",
       "        // Dummy Text\n",
       "        iDiv.innerHTML=\"<b>Select your answers and then follow the directions that will appear here.</b>\"\n",
       "        //iDiv.className = 'Quiz';\n",
       "        mydiv.appendChild(iDiv);\n",
       "    }\n",
       "//console.log(\"At end of show_questions\");\n",
       "    if (typeof MathJax != 'undefined') {\n",
       "        console.log(\"MathJax version\", MathJax.version);\n",
       "        var version = MathJax.version;\n",
       "        setTimeout(function(){\n",
       "            var version = MathJax.version;\n",
       "            console.log('After sleep, MathJax version', version);\n",
       "            if (version[0] == \"2\") {\n",
       "                MathJax.Hub.Queue([\"Typeset\", MathJax.Hub]);\n",
       "            } else if (version[0] == \"3\") {\n",
       "                MathJax.typeset([mydiv]);\n",
       "            }\n",
       "        }, 500);\n",
       "if (typeof version == 'undefined') {\n",
       "        } else\n",
       "        {\n",
       "            if (version[0] == \"2\") {\n",
       "                MathJax.Hub.Queue([\"Typeset\", MathJax.Hub]);\n",
       "            } else if (version[0] == \"3\") {\n",
       "                MathJax.typeset([mydiv]);\n",
       "            } else {\n",
       "                console.log(\"MathJax not found\");\n",
       "            }\n",
       "        }\n",
       "    }\n",
       "    return false;\n",
       "}\n",
       "/* This is to handle asynchrony issues in loading Jupyter notebooks\n",
       "           where the quiz has been previously run. The Javascript was generally\n",
       "           being run before the div was added to the DOM. I tried to do this\n",
       "           more elegantly using Mutation Observer, but I didn't get it to work.\n",
       "\n",
       "           Someone more knowledgeable could make this better ;-) */\n",
       "\n",
       "        function try_show() {\n",
       "          if(document.getElementById(\"vBvzTrCiyoTl\")) {\n",
       "            show_questions(questionsvBvzTrCiyoTl,  vBvzTrCiyoTl); \n",
       "          } else {\n",
       "             setTimeout(try_show, 200);\n",
       "          }\n",
       "        };\n",
       "    \n",
       "        {\n",
       "        // console.log(element);\n",
       "\n",
       "        //console.log(\"vBvzTrCiyoTl\");\n",
       "        // console.log(document.getElementById(\"vBvzTrCiyoTl\"));\n",
       "\n",
       "        try_show();\n",
       "        }\n",
       "        "
      ],
      "text/plain": [
       "<IPython.core.display.Javascript object>"
      ]
     },
     "metadata": {},
     "output_type": "display_data"
    }
   ],
   "source": [
    "from jupyterquiz import display_quiz\n",
    "display_quiz(\"questions/mixed_effects_models_exercise.json\")"
   ]
  },
  {
   "cell_type": "markdown",
   "id": "d8331813-e588-4aee-a09d-c429d02d5e3c",
   "metadata": {
    "editable": true,
    "slideshow": {
     "slide_type": ""
    },
    "tags": []
   },
   "source": [
    "## Extracting the results\n",
    "\n",
    "To pull out specific parts of the output we can then use the `$` or use built in functions. We can use `names()` to get a list of all the elements we can extract from the summary object. NB with a linear regression model we extract results using functions applied to the `lm()` output,(e.g `coef(model.lm)`) here we apply functions to the summary output of the `lmer` model (e.g. `coef(summary(model.rand.int))`).\n"
   ]
  },
  {
   "cell_type": "code",
   "execution_count": 16,
   "id": "adb409e1-0a50-41aa-9136-89888bf70427",
   "metadata": {
    "editable": true,
    "slideshow": {
     "slide_type": ""
    },
    "tags": []
   },
   "outputs": [
    {
     "name": "stdout",
     "output_type": "stream",
     "text": [
      " [1]"
     ]
    },
    {
     "name": "stdout",
     "output_type": "stream",
     "text": [
      " \"methTitle\"   "
     ]
    },
    {
     "name": "stdout",
     "output_type": "stream",
     "text": [
      " \"objClass\"    "
     ]
    },
    {
     "name": "stdout",
     "output_type": "stream",
     "text": [
      " \"devcomp\"     "
     ]
    },
    {
     "name": "stdout",
     "output_type": "stream",
     "text": [
      " \"isLmer\"      "
     ]
    },
    {
     "name": "stdout",
     "output_type": "stream",
     "text": [
      " \"useScale\"    "
     ]
    },
    {
     "name": "stdout",
     "output_type": "stream",
     "text": [
      "\n"
     ]
    },
    {
     "name": "stdout",
     "output_type": "stream",
     "text": [
      " [6]"
     ]
    },
    {
     "name": "stdout",
     "output_type": "stream",
     "text": [
      " \"logLik\"      "
     ]
    },
    {
     "name": "stdout",
     "output_type": "stream",
     "text": [
      " \"family\"      "
     ]
    },
    {
     "name": "stdout",
     "output_type": "stream",
     "text": [
      " \"link\"        "
     ]
    },
    {
     "name": "stdout",
     "output_type": "stream",
     "text": [
      " \"ngrps\"       "
     ]
    },
    {
     "name": "stdout",
     "output_type": "stream",
     "text": [
      " \"coefficients\""
     ]
    },
    {
     "name": "stdout",
     "output_type": "stream",
     "text": [
      "\n"
     ]
    },
    {
     "name": "stdout",
     "output_type": "stream",
     "text": [
      "[11]"
     ]
    },
    {
     "name": "stdout",
     "output_type": "stream",
     "text": [
      " \"sigma\"       "
     ]
    },
    {
     "name": "stdout",
     "output_type": "stream",
     "text": [
      " \"vcov\"        "
     ]
    },
    {
     "name": "stdout",
     "output_type": "stream",
     "text": [
      " \"varcor\"      "
     ]
    },
    {
     "name": "stdout",
     "output_type": "stream",
     "text": [
      " \"AICtab\"      "
     ]
    },
    {
     "name": "stdout",
     "output_type": "stream",
     "text": [
      " \"call\"        "
     ]
    },
    {
     "name": "stdout",
     "output_type": "stream",
     "text": [
      "\n"
     ]
    },
    {
     "name": "stdout",
     "output_type": "stream",
     "text": [
      "[16]"
     ]
    },
    {
     "name": "stdout",
     "output_type": "stream",
     "text": [
      " \"residuals\"   "
     ]
    },
    {
     "name": "stdout",
     "output_type": "stream",
     "text": [
      " \"fitMsgs\"     "
     ]
    },
    {
     "name": "stdout",
     "output_type": "stream",
     "text": [
      " \"optinfo\"     "
     ]
    },
    {
     "name": "stdout",
     "output_type": "stream",
     "text": [
      " \"corrSet\"     "
     ]
    },
    {
     "name": "stdout",
     "output_type": "stream",
     "text": [
      "\n"
     ]
    }
   ],
   "source": [
    "%%R\n",
    "summary(model.rand.int)$coefficients\n",
    "names(summary(model.rand.int))"
   ]
  },
  {
   "cell_type": "markdown",
   "id": "c6523099-9902-4f9d-8a30-108891252447",
   "metadata": {
    "editable": true,
    "slideshow": {
     "slide_type": ""
    },
    "tags": []
   },
   "source": [
    "For example we can extract the variance covariance matrix:"
   ]
  },
  {
   "cell_type": "code",
   "execution_count": 17,
   "id": "b779dd48-1945-4425-9f0f-f973daf77bfc",
   "metadata": {
    "editable": true,
    "slideshow": {
     "slide_type": ""
    },
    "tags": []
   },
   "outputs": [
    {
     "name": "stdout",
     "output_type": "stream",
     "text": [
      "2 x 2 Matrix of class \"dpoMatrix\"\n"
     ]
    },
    {
     "name": "stdout",
     "output_type": "stream",
     "text": [
      "           "
     ]
    },
    {
     "name": "stdout",
     "output_type": "stream",
     "text": [
      " (Intercept)"
     ]
    },
    {
     "name": "stdout",
     "output_type": "stream",
     "text": [
      "    VisitNum"
     ]
    },
    {
     "name": "stdout",
     "output_type": "stream",
     "text": [
      "\n",
      "(Intercept)"
     ]
    },
    {
     "name": "stdout",
     "output_type": "stream",
     "text": [
      "  0.72828888"
     ]
    },
    {
     "name": "stdout",
     "output_type": "stream",
     "text": [
      " -0.03687879"
     ]
    },
    {
     "name": "stdout",
     "output_type": "stream",
     "text": [
      "\n",
      "VisitNum   "
     ]
    },
    {
     "name": "stdout",
     "output_type": "stream",
     "text": [
      " -0.03687879"
     ]
    },
    {
     "name": "stdout",
     "output_type": "stream",
     "text": [
      "  0.01695542"
     ]
    },
    {
     "name": "stdout",
     "output_type": "stream",
     "text": [
      "\n"
     ]
    }
   ],
   "source": [
    "%%R\n",
    "vcov(summary(model.rand.int))"
   ]
  },
  {
   "cell_type": "markdown",
   "id": "041283af-ff05-47d6-9b95-1a77729847b1",
   "metadata": {
    "editable": true,
    "slideshow": {
     "slide_type": ""
    },
    "tags": []
   },
   "source": [
    "## Graphical representation of random intercept model\n",
    "\n",
    "When we fit a regression model we are estimating the parameters of a model we have specified that enables us to characterise the relationship between variables. One way we can understand the nature of the graph is to create a plot of it. Let's do that here to visualise what is happening.\n",
    "\n",
    "To plot the relationship we need to extract the estimates of the parameters of the regression model for both the fixed and random effects. Compare the output of the following two commands.\n"
   ]
  },
  {
   "cell_type": "code",
   "execution_count": 18,
   "id": "faad0270-7182-430d-8613-e3283959092d",
   "metadata": {
    "editable": true,
    "slideshow": {
     "slide_type": ""
    },
    "tags": []
   },
   "outputs": [
    {
     "name": "stdout",
     "output_type": "stream",
     "text": [
      "$ID\n"
     ]
    },
    {
     "name": "stdout",
     "output_type": "stream",
     "text": [
      "      "
     ]
    },
    {
     "name": "stdout",
     "output_type": "stream",
     "text": [
      " (Intercept)"
     ]
    },
    {
     "name": "stdout",
     "output_type": "stream",
     "text": [
      "  VisitNum"
     ]
    },
    {
     "name": "stdout",
     "output_type": "stream",
     "text": [
      "\n",
      "X10096"
     ]
    },
    {
     "name": "stdout",
     "output_type": "stream",
     "text": [
      "    31.04876"
     ]
    },
    {
     "name": "stdout",
     "output_type": "stream",
     "text": [
      " 0.2168967"
     ]
    },
    {
     "name": "stdout",
     "output_type": "stream",
     "text": [
      "\n",
      "X10410"
     ]
    },
    {
     "name": "stdout",
     "output_type": "stream",
     "text": [
      "    19.27637"
     ]
    },
    {
     "name": "stdout",
     "output_type": "stream",
     "text": [
      " 0.2168967"
     ]
    },
    {
     "name": "stdout",
     "output_type": "stream",
     "text": [
      "\n",
      "X10964"
     ]
    },
    {
     "name": "stdout",
     "output_type": "stream",
     "text": [
      "    20.97143"
     ]
    },
    {
     "name": "stdout",
     "output_type": "stream",
     "text": [
      " 0.2168967"
     ]
    },
    {
     "name": "stdout",
     "output_type": "stream",
     "text": [
      "\n",
      "X11583"
     ]
    },
    {
     "name": "stdout",
     "output_type": "stream",
     "text": [
      "    21.55904"
     ]
    },
    {
     "name": "stdout",
     "output_type": "stream",
     "text": [
      " 0.2168967"
     ]
    },
    {
     "name": "stdout",
     "output_type": "stream",
     "text": [
      "\n",
      "X12230"
     ]
    },
    {
     "name": "stdout",
     "output_type": "stream",
     "text": [
      "    25.39334"
     ]
    },
    {
     "name": "stdout",
     "output_type": "stream",
     "text": [
      " 0.2168967"
     ]
    },
    {
     "name": "stdout",
     "output_type": "stream",
     "text": [
      "\n",
      "X13318"
     ]
    },
    {
     "name": "stdout",
     "output_type": "stream",
     "text": [
      "    17.31218"
     ]
    },
    {
     "name": "stdout",
     "output_type": "stream",
     "text": [
      " 0.2168967"
     ]
    },
    {
     "name": "stdout",
     "output_type": "stream",
     "text": [
      "\n"
     ]
    },
    {
     "name": "stdout",
     "output_type": "stream",
     "text": [
      "\n"
     ]
    }
   ],
   "source": [
    "%%R\n",
    "coef(summary(model.rand.int))\n",
    "lapply(coef(model.rand.int), head)"
   ]
  },
  {
   "cell_type": "markdown",
   "id": "3905b673-89a2-4a06-bb84-a00b315e08f0",
   "metadata": {
    "editable": true,
    "slideshow": {
     "slide_type": ""
    },
    "tags": []
   },
   "source": [
    "The first command `coef(summary(model.rand.int))` gives us just the fixed effects along with the test statistics and p-values. From these coefficients we can make predictions for the average individual in the study, from which we can make generalised conclusions.\n",
    "\n",
    "The second command `coef(model.rand.int)` gives us the intercept and slope values for each level of our grouping variable, one per row. We have only extracted this output for the first six individuals, as otherwise it would run on for pages. This data is stored in a list, where each random variable has it's own slot, within which is a matrix of the regression parameters. As we have only one random variable we have only slot in our list, so it perhaps seems an unnecessary complicated structure, but it is designed to anticipate models with multiple random variables. `lapply()` is a efficiency function in R which allows us to perform the same function to each slot of the list. Here we wanted to run the command `head()` to pull out the first 6 rows, so that we could make the output more manageable and get a sense of what the output looked like.\n",
    "\n",
    "Note that the intercepts vary for each individual but the coefficients for `VisitNum` do not. These individual level intercept are calculated as the overall mean intercept estimate (`r coef(summary(model.rand.int))[\"(Intercept)\",\"Estimate\"]`) added to the estimated individual specific effects. The slope coefficient is taken just from the fixed effect estimate. This is in line with the fact that we fitted a random intercept model. From this output we can make individual level predictions for the individuals in our observed data, which doesn't have much meaning for individuals not in our study.\n",
    "\n",
    "With these coefficients we can visualise the results"
   ]
  },
  {
   "cell_type": "code",
   "execution_count": 19,
   "id": "26e3f80e-3f08-4238-8683-6fb3a293e6eb",
   "metadata": {
    "editable": true,
    "slideshow": {
     "slide_type": ""
    },
    "tags": []
   },
   "outputs": [
    {
     "data": {
      "image/png": "[encoded data removed]",
      "text/plain": [
       "<IPython.core.display.Image object>"
      ]
     },
     "metadata": {},
     "output_type": "display_data"
    }
   ],
   "source": [
    "%%R\n",
    "par(mar = c(4,4,1,1))\n",
    "# extract model coefficients\n",
    "ind.effects <- coef(model.rand.int)$ID\n",
    "mean.effects <- coef(summary(model.rand.int))[,\"Estimate\"]\n",
    "\n",
    "# create x variable that covers visit numbers\n",
    "x.sample <- as.matrix(c(0:9))\n",
    "\n",
    "# predict outcome using individual level coefficients\n",
    "y.ind <- ind.effects[,1]+ t(x.sample %*% t(as.matrix(ind.effects[,2])))\n",
    "# predict outcome using overal mean effect coefficients\n",
    "y.mean <- mean.effects[1] + x.sample * mean.effects[2]\n",
    "\n",
    "y_lim <-range(y.ind)\n",
    "plot(x.sample, y.mean, ylim = y_lim, xlab = \"Visit Number\", ylab = \"Cognitive Score\")\n",
    "for(i in 1:nrow(y.ind)){\n",
    "    lines(x.sample, y.ind[i,], lty = 2, col = \"grey\")\n",
    "}\n",
    "lines(x.sample, y.mean, ylim = y_lim, xlab = \"Visit Number\", ylab = \"Cognitive Score\")"
   ]
  },
  {
   "cell_type": "markdown",
   "id": "800abd8a-e562-4563-a517-2948b17d69e9",
   "metadata": {
    "editable": true,
    "slideshow": {
     "slide_type": ""
    },
    "tags": []
   },
   "source": [
    "In this plot each dashed grey line represents an individual, while the black solid line represents the overall mean effect. What we can see is that each line starts at a different height on the y axis courtesy of the individual specific intercepts. All the lines are parallel however. The slope of the line is determined by the slope coefficient for `VisitNum` and as this isn't dependent on the random variable there is no variation across individuals. Hence all the lines changes at the same rate. The solid black line falls approximately in the middle, with approximately half on the individual specific lines above and below. This is due to the mean do the distribution of the individual effects being set to 0. The black line tells us about the average individual, and is what we would use to make predictions about an individual outside of this cohort and describe the effect.\n",
    "\n",
    "## Assumptions for random intercept model\n",
    "\n",
    "As with all statistical tests, the ability to calculate estimates of the parameters and perform significance testing relies of assumptions about the data you are using. For a random intercepts model these are:\n",
    "\n",
    "-   Linear relationship between predictors and outcomes.\n",
    "-   Constant variance across range of predictor variables (homoscedasticity).\n",
    "-   Errors at every level are normally distributed.\n",
    "-   The level 1 and level 2 residuals are uncorrelated.\n",
    "-   The errors at the highest level are uncorrelated.\n",
    "\n",
    "## Diagnostic plots\n",
    "\n",
    "There is no automatic way to produce the diagnostic plots like you can from the linear regression function (`lm()`). However we can recreate these plots by extracting the required statistics from the `lmer` model object.\n",
    "\n",
    "Firstly, we can plot the residuals against the fitted values. In this plot we want the points to be randomly scattered with no evidence of a relationship between the x and y axis. Any evidence of the residuals being related to the fitted values may be indicative of a non-linear relationship between the dependent and independent variables. In this example they look pretty random with no obvious pattern.\n"
   ]
  },
  {
   "cell_type": "code",
   "execution_count": 20,
   "id": "0dfe016c-1d9a-4951-b502-76f2fb39e521",
   "metadata": {
    "editable": true,
    "slideshow": {
     "slide_type": ""
    },
    "tags": []
   },
   "outputs": [
    {
     "data": {
      "image/png": "[encoded data removed]",
      "text/plain": [
       "<IPython.core.display.Image object>"
      ]
     },
     "metadata": {},
     "output_type": "display_data"
    }
   ],
   "source": [
    "%%R\n",
    "# a plot to check the constant standard deviation\n",
    "plot(fitted(model.rand.int),resid(model.rand.int,type=\"pearson\"),col=\"blue\", xlab = \"fitted values\", ylab = \"residuals\") \n",
    "abline(h=0,lwd=2)"
   ]
  },
  {
   "cell_type": "markdown",
   "id": "a1e3e846-907b-46ab-9a39-60a0c2e860f6",
   "metadata": {
    "editable": true,
    "slideshow": {
     "slide_type": ""
    },
    "tags": []
   },
   "source": [
    "Secondly, we will consider the distribution of the residuals. Similar to linear regression, the residuals are assumed to be normally distributed with constant standard deviation. Therefore we can use a QQ plot to assess this (as well as look at the values provided in the summary of the model fit which should be symmetric and have a median \\~ 0). With a qq plot (or quantile-quantile plot), we are looking for the points to follow the diagonal line, any deviation indicates that the data are not normally distributed. In this example it looks pretty good."
   ]
  },
  {
   "cell_type": "code",
   "execution_count": 21,
   "id": "f38fab46-3db9-4426-ac67-c164384af163",
   "metadata": {
    "editable": true,
    "slideshow": {
     "slide_type": ""
    },
    "tags": []
   },
   "outputs": [
    {
     "data": {
      "image/png": "[encoded data removed]",
      "text/plain": [
       "<IPython.core.display.Image object>"
      ]
     },
     "metadata": {},
     "output_type": "display_data"
    }
   ],
   "source": [
    "%%R\n",
    "# normality of the residuals\n",
    "qqnorm(resid(model.rand.int)) \n",
    "qqline(resid(model.rand.int))"
   ]
  },
  {
   "cell_type": "markdown",
   "id": "0f7877b5-1910-40b3-b0c4-4254f7123388",
   "metadata": {
    "editable": true,
    "slideshow": {
     "slide_type": ""
    },
    "tags": []
   },
   "source": [
    "Thirdly, an assumption specific to mixed effects models is that the random effects are also normally distributed. Again we can use a qq plot to assess this and it looks good."
   ]
  },
  {
   "cell_type": "code",
   "execution_count": 22,
   "id": "44359d1b-e72a-4edc-a60a-98f57aba7eea",
   "metadata": {
    "editable": true,
    "slideshow": {
     "slide_type": ""
    },
    "tags": []
   },
   "outputs": [
    {
     "data": {
      "image/png": "[encoded data removed]",
      "text/plain": [
       "<IPython.core.display.Image object>"
      ]
     },
     "metadata": {},
     "output_type": "display_data"
    }
   ],
   "source": [
    "%%R\n",
    "# normality of the random intercept estimates\n",
    "qqnorm(ranef(model.rand.int)$`ID`[,1]) \n",
    "qqline(ranef(model.rand.int)$`ID`[,1])"
   ]
  },
  {
   "cell_type": "markdown",
   "id": "50f5dc1b-1000-47f1-a9bf-94c6604d3a72",
   "metadata": {
    "editable": true,
    "slideshow": {
     "slide_type": ""
    },
    "tags": []
   },
   "source": [
    "## Adding random effects for regression coefficients (random slopes)\n",
    "\n",
    "As well as individual specific intercepts, perhaps we also think that individuals will have a specific relationship between the predictor and outcome variables. We can incorporate this into our model by including a random slope as well as a random intercept. To do this we need to add more parameters to our random intercept model. The random slopes model takes the form:\n",
    "\n",
    "$$y_{ij} = \\beta_{0} + u_{0j} + (\\beta_{1} + u_{1j})x_{ij}  + \\varepsilon_{ij}$$\n",
    "\n",
    "where for observation i, in group j:\n",
    "\n",
    "-   $y_{ij}$ represents the value for individual i in group j\n",
    "-   $\\beta_{0}$ is the overall mean\n",
    "-   $u_{0j}$ is the difference between the group mean and the overall mean\n",
    "-   $\\beta_{1}$ is the mean slope coefficient (i.e. the effect on Y of a one unit increase in X)\n",
    "-   $u_{1j}$ is the difference between the group slope coefficient and the overall mean slope coefficient\n",
    "-   $\\varepsilon_{ij}$ is the error for individual i in group j\n",
    "\n",
    "As before the group level effects (both intercepts and slope coefficients) are assumed to come from a distribution. Specifically the normal distribution, with a mean of 0 and variance $\\Omega_{u}$, where $\\Omega_{u}$ is the variance covariance matrix of the group effects. The diagonal elements are the variance of the group intercepts and group slope coefficients, respectively and the off diagonal elements are the covariances between the group intercepts and group slope coefficients.\n",
    "\n",
    "While we have only introduced one more coefficient to our equation we in fact have two more parameters to estimate, the variance of the group slope coefficients ($\\sigma_{u1}^2$), and the covariance ($\\sigma_{u01}$) between the group intercepts and group slope coefficients. So in total we have 6 regression parameters to estimate:\n",
    "\n",
    "-   two regression parameters for our fixed effects ($\\beta_{0}$, $\\beta_{1}$)\n",
    "-   four variances for the random effects ($\\sigma^{2}_{u0}$,$\\sigma^{2}_{u1}$,$\\sigma^{2}_{u01}$, $\\sigma^{2}_{\\varepsilon}$).\n",
    "\n",
    "To specify a random slopes model in R, we use similar syntax as before. Random effect terms are specified in `()`, with a `|` separating the terms to add random effects for on the left from the grouping variable on the right. We want to fit a random intercept and random coefficient for `VisitNum` so the left hand part of the argument becomes `1 + VisitNum`.\n"
   ]
  },
  {
   "cell_type": "code",
   "execution_count": 23,
   "id": "df9f5736-f74a-40eb-bfec-7b24324ccdb5",
   "metadata": {
    "editable": true,
    "slideshow": {
     "slide_type": ""
    },
    "tags": []
   },
   "outputs": [
    {
     "name": "stdout",
     "output_type": "stream",
     "text": [
      "Linear mixed model fit by REML. t-tests use Satterthwaite's method"
     ]
    },
    {
     "name": "stdout",
     "output_type": "stream",
     "text": [
      " ["
     ]
    },
    {
     "name": "stdout",
     "output_type": "stream",
     "text": [
      "\n"
     ]
    },
    {
     "name": "stdout",
     "output_type": "stream",
     "text": [
      "lmerModLmerTest"
     ]
    },
    {
     "name": "stdout",
     "output_type": "stream",
     "text": [
      "]"
     ]
    },
    {
     "name": "stdout",
     "output_type": "stream",
     "text": [
      "\n"
     ]
    },
    {
     "name": "stdout",
     "output_type": "stream",
     "text": [
      "Formula:"
     ]
    },
    {
     "name": "stdout",
     "output_type": "stream",
     "text": [
      " "
     ]
    },
    {
     "name": "stdout",
     "output_type": "stream",
     "text": [
      "CognitionA ~ VisitNum + (1 + VisitNum | ID)"
     ]
    },
    {
     "name": "stdout",
     "output_type": "stream",
     "text": [
      "\n"
     ]
    },
    {
     "name": "stdout",
     "output_type": "stream",
     "text": [
      "   Data:"
     ]
    },
    {
     "name": "stdout",
     "output_type": "stream",
     "text": [
      " "
     ]
    },
    {
     "name": "stdout",
     "output_type": "stream",
     "text": [
      "cogDat"
     ]
    },
    {
     "name": "stdout",
     "output_type": "stream",
     "text": [
      "\n"
     ]
    },
    {
     "name": "stdout",
     "output_type": "stream",
     "text": [
      "\n"
     ]
    },
    {
     "name": "stdout",
     "output_type": "stream",
     "text": [
      "REML criterion at convergence:"
     ]
    },
    {
     "name": "stdout",
     "output_type": "stream",
     "text": [
      " "
     ]
    },
    {
     "name": "stdout",
     "output_type": "stream",
     "text": [
      "675.1"
     ]
    },
    {
     "name": "stdout",
     "output_type": "stream",
     "text": [
      "\n"
     ]
    },
    {
     "name": "stdout",
     "output_type": "stream",
     "text": [
      "\n"
     ]
    },
    {
     "name": "stdout",
     "output_type": "stream",
     "text": [
      "Scaled residuals:"
     ]
    },
    {
     "name": "stdout",
     "output_type": "stream",
     "text": [
      " "
     ]
    },
    {
     "name": "stdout",
     "output_type": "stream",
     "text": [
      "\n"
     ]
    },
    {
     "name": "stdout",
     "output_type": "stream",
     "text": [
      "     Min "
     ]
    },
    {
     "name": "stdout",
     "output_type": "stream",
     "text": [
      "      1Q "
     ]
    },
    {
     "name": "stdout",
     "output_type": "stream",
     "text": [
      "  Median "
     ]
    },
    {
     "name": "stdout",
     "output_type": "stream",
     "text": [
      "      3Q "
     ]
    },
    {
     "name": "stdout",
     "output_type": "stream",
     "text": [
      "     Max "
     ]
    },
    {
     "name": "stdout",
     "output_type": "stream",
     "text": [
      "\n"
     ]
    },
    {
     "name": "stdout",
     "output_type": "stream",
     "text": [
      "-2.43022 "
     ]
    },
    {
     "name": "stdout",
     "output_type": "stream",
     "text": [
      "-0.46801 "
     ]
    },
    {
     "name": "stdout",
     "output_type": "stream",
     "text": [
      "-0.02107 "
     ]
    },
    {
     "name": "stdout",
     "output_type": "stream",
     "text": [
      " 0.63191 "
     ]
    },
    {
     "name": "stdout",
     "output_type": "stream",
     "text": [
      " 1.91525 "
     ]
    },
    {
     "name": "stdout",
     "output_type": "stream",
     "text": [
      "\n"
     ]
    },
    {
     "name": "stdout",
     "output_type": "stream",
     "text": [
      "\n"
     ]
    },
    {
     "name": "stdout",
     "output_type": "stream",
     "text": [
      "Random effects:\n"
     ]
    },
    {
     "name": "stdout",
     "output_type": "stream",
     "text": [
      " Groups  "
     ]
    },
    {
     "name": "stdout",
     "output_type": "stream",
     "text": [
      " Name       "
     ]
    },
    {
     "name": "stdout",
     "output_type": "stream",
     "text": [
      " Variance"
     ]
    },
    {
     "name": "stdout",
     "output_type": "stream",
     "text": [
      " Std.Dev."
     ]
    },
    {
     "name": "stdout",
     "output_type": "stream",
     "text": [
      " Corr"
     ]
    },
    {
     "name": "stdout",
     "output_type": "stream",
     "text": [
      "\n"
     ]
    },
    {
     "name": "stdout",
     "output_type": "stream",
     "text": [
      " ID      "
     ]
    },
    {
     "name": "stdout",
     "output_type": "stream",
     "text": [
      " (Intercept)"
     ]
    },
    {
     "name": "stdout",
     "output_type": "stream",
     "text": [
      " 22.27357"
     ]
    },
    {
     "name": "stdout",
     "output_type": "stream",
     "text": [
      " 4.7195  "
     ]
    },
    {
     "name": "stdout",
     "output_type": "stream",
     "text": [
      "     "
     ]
    },
    {
     "name": "stdout",
     "output_type": "stream",
     "text": [
      "\n"
     ]
    },
    {
     "name": "stdout",
     "output_type": "stream",
     "text": [
      "         "
     ]
    },
    {
     "name": "stdout",
     "output_type": "stream",
     "text": [
      " VisitNum   "
     ]
    },
    {
     "name": "stdout",
     "output_type": "stream",
     "text": [
      "  0.06491"
     ]
    },
    {
     "name": "stdout",
     "output_type": "stream",
     "text": [
      " 0.2548  "
     ]
    },
    {
     "name": "stdout",
     "output_type": "stream",
     "text": [
      " 0.51"
     ]
    },
    {
     "name": "stdout",
     "output_type": "stream",
     "text": [
      "\n"
     ]
    },
    {
     "name": "stdout",
     "output_type": "stream",
     "text": [
      " Residual"
     ]
    },
    {
     "name": "stdout",
     "output_type": "stream",
     "text": [
      "            "
     ]
    },
    {
     "name": "stdout",
     "output_type": "stream",
     "text": [
      "  3.15533"
     ]
    },
    {
     "name": "stdout",
     "output_type": "stream",
     "text": [
      " 1.7763  "
     ]
    },
    {
     "name": "stdout",
     "output_type": "stream",
     "text": [
      "     "
     ]
    },
    {
     "name": "stdout",
     "output_type": "stream",
     "text": [
      "\n"
     ]
    },
    {
     "name": "stdout",
     "output_type": "stream",
     "text": [
      "Number of obs: 136, groups: "
     ]
    },
    {
     "name": "stdout",
     "output_type": "stream",
     "text": [
      " "
     ]
    },
    {
     "name": "stdout",
     "output_type": "stream",
     "text": [
      "ID, 41"
     ]
    },
    {
     "name": "stdout",
     "output_type": "stream",
     "text": [
      "\n"
     ]
    },
    {
     "name": "stdout",
     "output_type": "stream",
     "text": [
      "\n",
      "Fixed effects:\n"
     ]
    },
    {
     "name": "stdout",
     "output_type": "stream",
     "text": [
      "           "
     ]
    },
    {
     "name": "stdout",
     "output_type": "stream",
     "text": [
      " Estimate"
     ]
    },
    {
     "name": "stdout",
     "output_type": "stream",
     "text": [
      " Std. Error"
     ]
    },
    {
     "name": "stdout",
     "output_type": "stream",
     "text": [
      "      df"
     ]
    },
    {
     "name": "stdout",
     "output_type": "stream",
     "text": [
      " t value"
     ]
    },
    {
     "name": "stdout",
     "output_type": "stream",
     "text": [
      " Pr(>|t|)"
     ]
    },
    {
     "name": "stdout",
     "output_type": "stream",
     "text": [
      "    "
     ]
    },
    {
     "name": "stdout",
     "output_type": "stream",
     "text": [
      "\n",
      "(Intercept)"
     ]
    },
    {
     "name": "stdout",
     "output_type": "stream",
     "text": [
      "  21.5301"
     ]
    },
    {
     "name": "stdout",
     "output_type": "stream",
     "text": [
      "     0.8096"
     ]
    },
    {
     "name": "stdout",
     "output_type": "stream",
     "text": [
      " 37.9029"
     ]
    },
    {
     "name": "stdout",
     "output_type": "stream",
     "text": [
      "  26.594"
     ]
    },
    {
     "name": "stdout",
     "output_type": "stream",
     "text": [
      "   <2e-16"
     ]
    },
    {
     "name": "stdout",
     "output_type": "stream",
     "text": [
      " ***"
     ]
    },
    {
     "name": "stdout",
     "output_type": "stream",
     "text": [
      "\n",
      "VisitNum   "
     ]
    },
    {
     "name": "stdout",
     "output_type": "stream",
     "text": [
      "   0.1370"
     ]
    },
    {
     "name": "stdout",
     "output_type": "stream",
     "text": [
      "     0.1423"
     ]
    },
    {
     "name": "stdout",
     "output_type": "stream",
     "text": [
      " 11.3499"
     ]
    },
    {
     "name": "stdout",
     "output_type": "stream",
     "text": [
      "   0.963"
     ]
    },
    {
     "name": "stdout",
     "output_type": "stream",
     "text": [
      "    0.355"
     ]
    },
    {
     "name": "stdout",
     "output_type": "stream",
     "text": [
      "    "
     ]
    },
    {
     "name": "stdout",
     "output_type": "stream",
     "text": [
      "\n"
     ]
    },
    {
     "name": "stdout",
     "output_type": "stream",
     "text": [
      "---\n",
      "Signif. codes:  "
     ]
    },
    {
     "name": "stdout",
     "output_type": "stream",
     "text": [
      "0 ‘***’ 0.001 ‘**’ 0.01 ‘*’ 0.05 ‘.’ 0.1 ‘ ’ 1"
     ]
    },
    {
     "name": "stdout",
     "output_type": "stream",
     "text": [
      "\n"
     ]
    },
    {
     "name": "stdout",
     "output_type": "stream",
     "text": [
      "\n",
      "Correlation of Fixed Effects:\n"
     ]
    },
    {
     "name": "stdout",
     "output_type": "stream",
     "text": [
      "        "
     ]
    },
    {
     "name": "stdout",
     "output_type": "stream",
     "text": [
      " (Intr)"
     ]
    },
    {
     "name": "stdout",
     "output_type": "stream",
     "text": [
      "\n",
      "VisitNum"
     ]
    },
    {
     "name": "stdout",
     "output_type": "stream",
     "text": [
      " -0.210"
     ]
    },
    {
     "name": "stdout",
     "output_type": "stream",
     "text": [
      "\n"
     ]
    }
   ],
   "source": [
    "%%R\n",
    "model.rand.slope<-lmer(CognitionA ~ VisitNum  + (1 + VisitNum| ID), data = cogDat)\n",
    "summary(model.rand.slope)"
   ]
  },
  {
   "cell_type": "markdown",
   "id": "48f4f520-a172-438b-8d9c-2b84d25097a9",
   "metadata": {
    "editable": true,
    "slideshow": {
     "slide_type": ""
    },
    "tags": []
   },
   "source": [
    "This time when we fit the model we can see that we get some output printed to the console and that it is a \"Warning\" message, saying \"Model failed to converge\". It is essentially a caution applied to the result. This is different to an error, whereby the function is prematurely stopped due to some unexpected input or result. If you are executing some R code as a script, then a warning will not cause the script to stop, but an error will. We can see that despite the warning, the `lmer()` command has completed and produced an output by the fact that we are able to call `summary()` on the fitted lmer object. However, the fact that there was a warning, means we should treat this result with some caution.\n",
    "\n",
    "The output from the random slopes model is very similar to that from the random intercepts model. The difference is that under the `Random effects` section, there is an extra row for the random slope, and an extra column for the estimated covariance. We interpret and do hypothesis testing of the fixed effects as we did before. Again in this example, Visit Number is significantly positively correlated with the performance in cognitive test A. More than that the values of fixed effect coefficients are very similar.\n",
    "\n",
    "If we look at the estimated parameters for the random effects provided in the summary output we can see that the estimated variance for the random intercepts is `r signif(as.data.frame(VarCorr(model.rand.slope))[1,4],3)` and the variance for the random slopes is `r signif(as.data.frame(VarCorr(model.rand.slope))[2,4],3)`. While the magnitude of these is quite dramatically different, their values are relative to the values of the coefficients. We can also see that the correlation between an individual's random intercept and random slope is `r signif(as.data.frame(VarCorr(model.rand.slope))[3,\"sdcor\"],3)`, indicating that individuals with larger intercepts have smaller slopes. In other words, individuals who have higher baseline cognitive scores, have smaller changes in cognition across the course of the study.\n",
    "\n",
    "To formally test whether the random slopes for `VisitNum` improve the fit of the model we can use the likelihood ratio test through the `anova()` function. Specifically we want to compare our random slopes model with the random intercepts model which we fitted earlier. Hence we can just run the command\n"
   ]
  },
  {
   "cell_type": "code",
   "execution_count": 24,
   "id": "53925a76-ed6f-49b8-b351-163d113ccd41",
   "metadata": {
    "editable": true,
    "slideshow": {
     "slide_type": ""
    },
    "tags": []
   },
   "outputs": [
    {
     "name": "stdout",
     "output_type": "stream",
     "text": [
      "Data: cogDat"
     ]
    },
    {
     "name": "stdout",
     "output_type": "stream",
     "text": [
      "\n"
     ]
    },
    {
     "name": "stdout",
     "output_type": "stream",
     "text": [
      "Models:"
     ]
    },
    {
     "name": "stdout",
     "output_type": "stream",
     "text": [
      "\n"
     ]
    },
    {
     "name": "stdout",
     "output_type": "stream",
     "text": [
      "model.rand.int: CognitionA ~ VisitNum + (1 | ID)"
     ]
    },
    {
     "name": "stdout",
     "output_type": "stream",
     "text": [
      "\n"
     ]
    },
    {
     "name": "stdout",
     "output_type": "stream",
     "text": [
      "model.rand.slope: CognitionA ~ VisitNum + (1 + VisitNum | ID)"
     ]
    },
    {
     "name": "stdout",
     "output_type": "stream",
     "text": [
      "\n"
     ]
    },
    {
     "name": "stdout",
     "output_type": "stream",
     "text": [
      "                "
     ]
    },
    {
     "name": "stdout",
     "output_type": "stream",
     "text": [
      " npar"
     ]
    },
    {
     "name": "stdout",
     "output_type": "stream",
     "text": [
      "    AIC"
     ]
    },
    {
     "name": "stdout",
     "output_type": "stream",
     "text": [
      "    BIC"
     ]
    },
    {
     "name": "stdout",
     "output_type": "stream",
     "text": [
      "  logLik"
     ]
    },
    {
     "name": "stdout",
     "output_type": "stream",
     "text": [
      " deviance"
     ]
    },
    {
     "name": "stdout",
     "output_type": "stream",
     "text": [
      "  Chisq"
     ]
    },
    {
     "name": "stdout",
     "output_type": "stream",
     "text": [
      " Df"
     ]
    },
    {
     "name": "stdout",
     "output_type": "stream",
     "text": [
      " Pr(>Chisq)"
     ]
    },
    {
     "name": "stdout",
     "output_type": "stream",
     "text": [
      "\n",
      "model.rand.int  "
     ]
    },
    {
     "name": "stdout",
     "output_type": "stream",
     "text": [
      "    4"
     ]
    },
    {
     "name": "stdout",
     "output_type": "stream",
     "text": [
      " 684.08"
     ]
    },
    {
     "name": "stdout",
     "output_type": "stream",
     "text": [
      " 695.73"
     ]
    },
    {
     "name": "stdout",
     "output_type": "stream",
     "text": [
      " -338.04"
     ]
    },
    {
     "name": "stdout",
     "output_type": "stream",
     "text": [
      "   676.08"
     ]
    },
    {
     "name": "stdout",
     "output_type": "stream",
     "text": [
      "       "
     ]
    },
    {
     "name": "stdout",
     "output_type": "stream",
     "text": [
      "   "
     ]
    },
    {
     "name": "stdout",
     "output_type": "stream",
     "text": [
      "           "
     ]
    },
    {
     "name": "stdout",
     "output_type": "stream",
     "text": [
      "\n",
      "model.rand.slope"
     ]
    },
    {
     "name": "stdout",
     "output_type": "stream",
     "text": [
      "    6"
     ]
    },
    {
     "name": "stdout",
     "output_type": "stream",
     "text": [
      " 686.36"
     ]
    },
    {
     "name": "stdout",
     "output_type": "stream",
     "text": [
      " 703.84"
     ]
    },
    {
     "name": "stdout",
     "output_type": "stream",
     "text": [
      " -337.18"
     ]
    },
    {
     "name": "stdout",
     "output_type": "stream",
     "text": [
      "   674.36"
     ]
    },
    {
     "name": "stdout",
     "output_type": "stream",
     "text": [
      " 1.7156"
     ]
    },
    {
     "name": "stdout",
     "output_type": "stream",
     "text": [
      "  2"
     ]
    },
    {
     "name": "stdout",
     "output_type": "stream",
     "text": [
      "     0.4241"
     ]
    },
    {
     "name": "stdout",
     "output_type": "stream",
     "text": [
      "\n"
     ]
    },
    {
     "data": {
      "text/plain": [
       "refitting model(s) with ML (instead of REML)\n"
      ]
     },
     "metadata": {},
     "output_type": "display_data"
    }
   ],
   "source": [
    "%%R\n",
    "anova(model.rand.int, model.rand.slope)"
   ]
  },
  {
   "cell_type": "markdown",
   "id": "5b16b629-ffbd-4ece-a460-8ed31bc6f2cb",
   "metadata": {
    "editable": true,
    "slideshow": {
     "slide_type": ""
    },
    "tags": []
   },
   "source": [
    "This test returns a p-value \\> 0.05, indicating that the data are consistent with the random slopes having no variance and therefore do not offer an improvement to the model. In this situation, the random slopes model is unnecessarily complex and we can revert to a simpler model.\n",
    "\n",
    "## Exercise 2\n",
    "\n",
    "*Let's try fitting some random slopes models.*\n",
    "\n",
    "Write the R code required,to test using a mixed effects regression model, the following:\n",
    "\n",
    "1.  Are there individual specific associations exist between cognitive test B and visit number?\n",
    "2.  Are there individual specific associations exist between cognitive test C and visit number?\n",
    "\n",
    "\n",
    "```{admonition} Solution\n",
    ":class: dropdown\n",
    "``` R\n",
    "model1b<-lmer(CognitionB ~ VisitNum  + (1 + VisitNum | ID), data = cogDat)\n",
    "summary(model1b)\n",
    "anova(model1b, model1)\n",
    "\n",
    "model2b<-lmer(CognitionC ~ VisitNum  + (1 + VisitNum | ID), data = cogDat)\n",
    "summary(model2b)\n",
    "anova(model2b, model2)\n",
    "```\n",
    "```"
   ]
  },
  {
   "cell_type": "code",
   "execution_count": 25,
   "id": "a5314b69-1e16-485a-a64b-a2331acd0391",
   "metadata": {
    "editable": true,
    "slideshow": {
     "slide_type": ""
    },
    "tags": [
     "remove-input"
    ]
   },
   "outputs": [
    {
     "data": {
      "text/html": [
       "<div id=\"rowOXBwGRYPO\" data-shufflequestions=\"False\"\n",
       "               data-shuffleanswers=\"True\"\n",
       "               data-preserveresponses=\"false\"\n",
       "               data-numquestions=\"1000000\"\n",
       "               data-maxwidth=\"600\"\n",
       "               style=\"border-radius: 10px; text-align: left\"> <style>\n",
       "#rowOXBwGRYPO {\n",
       "   --jq-multiple-choice-bg: #6f78ffff;\n",
       "   --jq-mc-button-bg: #fafafa;\n",
       "   --jq-mc-button-border: #e0e0e0e0;\n",
       "   --jq-mc-button-inset-shadow: #555555;\n",
       "   --jq-many-choice-bg: #f75c03ff;\n",
       "   --jq-numeric-bg: #392061ff;\n",
       "   --jq-numeric-input-bg: #c0c0c0;\n",
       "   --jq-numeric-input-label: #101010;\n",
       "   --jq-numeric-input-shadow: #999999;\n",
       "   --jq-incorrect-color: #c80202;\n",
       "   --jq-correct-color: #009113;\n",
       "   --jq-text-color: #fafafa;\n",
       "}\n",
       "\n",
       ".Quiz {\n",
       "    max-width: 600px;\n",
       "    margin-top: 15px;\n",
       "    margin-left: auto;\n",
       "    margin-right: auto;\n",
       "    margin-bottom: 15px;\n",
       "    padding-bottom: 4px;\n",
       "    padding-top: 4px;\n",
       "    line-height: 1.1;\n",
       "    font-size: 16pt;\n",
       "    border-radius: inherit;\n",
       "}\n",
       "\n",
       ".QuizCode {\n",
       "    font-size: 14pt;\n",
       "    margin-top: 10px;\n",
       "    margin-left: 20px;\n",
       "    margin-right: 20px;\n",
       "}\n",
       "\n",
       ".QuizCode>pre {\n",
       "    padding: 4px;\n",
       "}\n",
       "\n",
       ".Answer {\n",
       "    margin: 10px 0;\n",
       "    display: grid;\n",
       "    grid-template-columns: 1fr 1fr;\n",
       "    grid-gap: 10px;\n",
       "    border-radius: inherit;\n",
       "}\n",
       "\n",
       ".Feedback {\n",
       "    font-size: 16pt;\n",
       "    text-align: center;\n",
       "    min-height: 2em;\n",
       "}\n",
       "\n",
       ".Input {\n",
       "    align: left;\n",
       "    font-size: 20pt;\n",
       "}\n",
       "\n",
       ".Input-text {\n",
       "    display: block;\n",
       "    margin: 10px;\n",
       "    color: inherit;\n",
       "    width: 140px;\n",
       "    background-color: var(--jq-numeric-input-bg);\n",
       "    color: var(--jq-text-color);\n",
       "    padding: 5px;\n",
       "    padding-left: 10px;\n",
       "    font-family: inherit;\n",
       "    font-size: 20px;\n",
       "    font-weight: inherit;\n",
       "    line-height: 20pt;\n",
       "    border: none;\n",
       "    border-radius: 0.2rem;\n",
       "    transition: box-shadow 0.1s);\n",
       "}\n",
       "\n",
       ".Input-text:focus {\n",
       "    outline: none;\n",
       "    background-color: var(--jq-numeric-input-bg);\n",
       "    box-shadow: 0.6rem 0.8rem 1.4rem -0.5rem var(--jq-numeric-input-shadow);\n",
       "}\n",
       "\n",
       ".MCButton {\n",
       "    background: var(--jq-mc-button-bg);\n",
       "    border: 1px solid var(--jq-mc-button-border);\n",
       "    border-radius: inherit;\n",
       "    padding: 10px;\n",
       "    font-size: 16px;\n",
       "    cursor: pointer;\n",
       "    text-align: center;\n",
       "    display: flex;\n",
       "    align-items: center;\n",
       "    justify-content: center;\n",
       "}\n",
       "\n",
       ".MCButton p {\n",
       "    color: inherit;\n",
       "}\n",
       "\n",
       ".MultipleChoiceQn {\n",
       "    padding: 10px;\n",
       "    background: var(--jq-multiple-choice-bg);\n",
       "    color: var(--jq-text-color);\n",
       "    border-radius: inherit;\n",
       "}\n",
       "\n",
       ".ManyChoiceQn {\n",
       "    padding: 10px;\n",
       "    background: var(--jq-many-choice-bg);\n",
       "    color: var(--jq-text-color);\n",
       "    border-radius: inherit;\n",
       "}\n",
       "\n",
       ".NumericQn {\n",
       "    padding: 10px;\n",
       "    background: var(--jq-numeric-bg);\n",
       "    color: var(--jq-text-color);\n",
       "    border-radius: inherit;\n",
       "}\n",
       "\n",
       ".NumericQn p {\n",
       "    color: inherit;\n",
       "}\n",
       "\n",
       ".InpLabel {\n",
       "    line-height: 34px;\n",
       "    float: left;\n",
       "    margin-right: 10px;\n",
       "    color: var(--jq-numeric-input-label);\n",
       "    font-size: 15pt;\n",
       "}\n",
       "\n",
       ".incorrect {\n",
       "    color: var(--jq-incorrect-color);\n",
       "}\n",
       "\n",
       ".correct {\n",
       "    color: var(--jq-correct-color);\n",
       "}\n",
       "\n",
       ".correctButton {\n",
       "    /*\n",
       "    background: var(--jq-correct-color);\n",
       "   */\n",
       "    animation: correct-anim 0.6s ease;\n",
       "    animation-fill-mode: forwards;\n",
       "    color: var(--jq-text-color);\n",
       "    box-shadow: inset 0px 0px 5px var(--jq-mc-button-inset-shadow);\n",
       "    outline: none;\n",
       "}\n",
       "\n",
       ".incorrectButton {\n",
       "    animation: incorrect-anim 0.8s ease;\n",
       "    animation-fill-mode: forwards;\n",
       "    color: var(--jq-text-color);\n",
       "    box-shadow: inset 0px 0px 5px var(--jq-mc-button-inset-shadow);\n",
       "    outline: none;\n",
       "}\n",
       "\n",
       "@keyframes incorrect-anim {\n",
       "    100% {\n",
       "        background-color: var(--jq-incorrect-color);\n",
       "    }\n",
       "}\n",
       "\n",
       "@keyframes correct-anim {\n",
       "    100% {\n",
       "        background-color: var(--jq-correct-color);\n",
       "    }\n",
       "}\n",
       "</style>"
      ],
      "text/plain": [
       "<IPython.core.display.HTML object>"
      ]
     },
     "metadata": {},
     "output_type": "display_data"
    },
    {
     "data": {
      "application/javascript": [
       "var questionsrowOXBwGRYPO=[\n",
       "    {\n",
       "        \"question\": \"What is the variance of the random intrcepts for cognitive score B?\",\n",
       "        \"type\": \"many_choice\",\n",
       "        \"answers\": [\n",
       "            {\n",
       "                \"answer\": \"10.7\",\n",
       "                \"correct\": true,\n",
       "                \"feedback\": \"Correct.\"\n",
       "            },\n",
       "            {\n",
       "                \"answer\": \"3.27\",\n",
       "                \"correct\": false,\n",
       "                \"feedback\": \"Incorrect.\"\n",
       "            },\n",
       "            {\n",
       "                \"answer\": \"0.144\",\n",
       "                \"correct\": false,\n",
       "                \"feedback\": \"Incorrect.\"\n",
       "            },\n",
       "            {\n",
       "                \"answer\": \"-0.95\",\n",
       "                \"correct\": false,\n",
       "                \"feedback\": \"Incorrect.\"\n",
       "            }\n",
       "        ]\n",
       "    },\n",
       "    {\n",
       "        \"question\": \"What is the variance of the random slopes for cognitive score B?\",\n",
       "        \"type\": \"many_choice\",\n",
       "        \"answers\": [\n",
       "            {\n",
       "                \"answer\": \"10.7\",\n",
       "                \"correct\": false,\n",
       "                \"feedback\": \"Incorrect.\"\n",
       "            },\n",
       "            {\n",
       "                \"answer\": \"3.27\",\n",
       "                \"correct\": false,\n",
       "                \"feedback\": \"Incorrect.\"\n",
       "            },\n",
       "            {\n",
       "                \"answer\": \"0.144\",\n",
       "                \"correct\": false,\n",
       "                \"feedback\": \"Incorrect.\"\n",
       "            },\n",
       "            {\n",
       "                \"answer\": \"-0.95\",\n",
       "                \"correct\": false,\n",
       "                \"feedback\": \"Incorrect.\"\n",
       "            }\n",
       "        ]\n",
       "    },\n",
       "    {\n",
       "        \"question\": \"What is the correlation between individual specific random intercepts and random slopes for cognitive score B?\",\n",
       "        \"type\": \"many_choice\",\n",
       "        \"answers\": [\n",
       "            {\n",
       "                \"answer\": \"10.7\",\n",
       "                \"correct\": false,\n",
       "                \"feedback\": \"Incorrect.\"\n",
       "            },\n",
       "            {\n",
       "                \"answer\": \"3.27\",\n",
       "                \"correct\": false,\n",
       "                \"feedback\": \"Incorrect.\"\n",
       "            },\n",
       "            {\n",
       "                \"answer\": \"0.144\",\n",
       "                \"correct\": false,\n",
       "                \"feedback\": \"Incorrect.\"\n",
       "            },\n",
       "            {\n",
       "                \"answer\": \"-0.95\",\n",
       "                \"correct\": true,\n",
       "                \"feedback\": \"Correct.\"\n",
       "            }\n",
       "        ]\n",
       "    },\n",
       "    {\n",
       "        \"question\": \"The random slope significantly improves the model fit for which cognitive score? Use P < 0.05 to determine significance.\",\n",
       "        \"type\": \"many_choice\",\n",
       "        \"answers\": [\n",
       "            {\n",
       "                \"answer\": \"Neither B or C\",\n",
       "                \"correct\": false,\n",
       "                \"feedback\": \"Incorrect.\"\n",
       "            },\n",
       "            {\n",
       "                \"answer\": \"B only\",\n",
       "                \"correct\": false,\n",
       "                \"feedback\": \"Incorrect.\"\n",
       "            },\n",
       "            {\n",
       "                \"answer\": \"C only\",\n",
       "                \"correct\": false,\n",
       "                \"feedback\": \"Incorrect.\"\n",
       "            },\n",
       "            {\n",
       "                \"answer\": \"Both B and C\",\n",
       "                \"correct\": true,\n",
       "                \"feedback\": \"Correct.\"\n",
       "            }\n",
       "        ]\n",
       "    }\n",
       "];\n",
       "    // Make a random ID\n",
       "function makeid(length) {\n",
       "    var result = [];\n",
       "    var characters = 'ABCDEFGHIJKLMNOPQRSTUVWXYZabcdefghijklmnopqrstuvwxyz';\n",
       "    var charactersLength = characters.length;\n",
       "    for (var i = 0; i < length; i++) {\n",
       "        result.push(characters.charAt(Math.floor(Math.random() * charactersLength)));\n",
       "    }\n",
       "    return result.join('');\n",
       "}\n",
       "\n",
       "// Choose a random subset of an array. Can also be used to shuffle the array\n",
       "function getRandomSubarray(arr, size) {\n",
       "    var shuffled = arr.slice(0), i = arr.length, temp, index;\n",
       "    while (i--) {\n",
       "        index = Math.floor((i + 1) * Math.random());\n",
       "        temp = shuffled[index];\n",
       "        shuffled[index] = shuffled[i];\n",
       "        shuffled[i] = temp;\n",
       "    }\n",
       "    return shuffled.slice(0, size);\n",
       "}\n",
       "\n",
       "function printResponses(responsesContainer) {\n",
       "    var responses=JSON.parse(responsesContainer.dataset.responses);\n",
       "    var stringResponses='<B>IMPORTANT!</B>To preserve this answer sequence for submission, when you have finalized your answers: <ol> <li> Copy the text in this cell below \"Answer String\"</li> <li> Double click on the cell directly below the Answer String, labeled \"Replace Me\"</li> <li> Select the whole \"Replace Me\" text</li> <li> Paste in your answer string and press shift-Enter.</li><li>Save the notebook using the save icon or File->Save Notebook menu item</li></ul><br><br><br><b>Answer String:</b><br> ';\n",
       "    console.log(responses);\n",
       "    responses.forEach((response, index) => {\n",
       "        if (response) {\n",
       "            console.log(index + ': ' + response);\n",
       "            stringResponses+= index + ': ' + response +\"<BR>\";\n",
       "        }\n",
       "    });\n",
       "    responsesContainer.innerHTML=stringResponses;\n",
       "}\n",
       "function check_mc() {\n",
       "    var id = this.id.split('-')[0];\n",
       "    //var response = this.id.split('-')[1];\n",
       "    //console.log(response);\n",
       "    //console.log(\"In check_mc(), id=\"+id);\n",
       "    //console.log(event.srcElement.id)           \n",
       "    //console.log(event.srcElement.dataset.correct)   \n",
       "    //console.log(event.srcElement.dataset.feedback)\n",
       "\n",
       "    var label = event.srcElement;\n",
       "    //console.log(label, label.nodeName);\n",
       "    var depth = 0;\n",
       "    while ((label.nodeName != \"LABEL\") && (depth < 20)) {\n",
       "        label = label.parentElement;\n",
       "        console.log(depth, label);\n",
       "        depth++;\n",
       "    }\n",
       "\n",
       "\n",
       "\n",
       "    var answers = label.parentElement.children;\n",
       "\n",
       "    //console.log(answers);\n",
       "\n",
       "\n",
       "    // Split behavior based on multiple choice vs many choice:\n",
       "    var fb = document.getElementById(\"fb\" + id);\n",
       "\n",
       "\n",
       "\n",
       "\n",
       "    if (fb.dataset.numcorrect == 1) {\n",
       "        // What follows is for the saved responses stuff\n",
       "        var outerContainer = fb.parentElement.parentElement;\n",
       "        var responsesContainer = document.getElementById(\"responses\" + outerContainer.id);\n",
       "        if (responsesContainer) {\n",
       "            //console.log(responsesContainer);\n",
       "            var response = label.firstChild.innerText;\n",
       "            if (label.querySelector(\".QuizCode\")){\n",
       "                response+= label.querySelector(\".QuizCode\").firstChild.innerText;\n",
       "            }\n",
       "            console.log(response);\n",
       "            //console.log(document.getElementById(\"quizWrap\"+id));\n",
       "            var qnum = document.getElementById(\"quizWrap\"+id).dataset.qnum;\n",
       "            console.log(\"Question \" + qnum);\n",
       "            //console.log(id, \", got numcorrect=\",fb.dataset.numcorrect);\n",
       "            var responses=JSON.parse(responsesContainer.dataset.responses);\n",
       "            console.log(responses);\n",
       "            responses[qnum]= response;\n",
       "            responsesContainer.setAttribute('data-responses', JSON.stringify(responses));\n",
       "            printResponses(responsesContainer);\n",
       "        }\n",
       "        // End code to preserve responses\n",
       "        \n",
       "        for (var i = 0; i < answers.length; i++) {\n",
       "            var child = answers[i];\n",
       "            //console.log(child);\n",
       "            child.className = \"MCButton\";\n",
       "        }\n",
       "\n",
       "\n",
       "\n",
       "        if (label.dataset.correct == \"true\") {\n",
       "            // console.log(\"Correct action\");\n",
       "            if (\"feedback\" in label.dataset) {\n",
       "                fb.textContent = jaxify(label.dataset.feedback);\n",
       "            } else {\n",
       "                fb.textContent = \"Correct!\";\n",
       "            }\n",
       "            label.classList.add(\"correctButton\");\n",
       "\n",
       "            fb.className = \"Feedback\";\n",
       "            fb.classList.add(\"correct\");\n",
       "\n",
       "        } else {\n",
       "            if (\"feedback\" in label.dataset) {\n",
       "                fb.textContent = jaxify(label.dataset.feedback);\n",
       "            } else {\n",
       "                fb.textContent = \"Incorrect -- try again.\";\n",
       "            }\n",
       "            //console.log(\"Error action\");\n",
       "            label.classList.add(\"incorrectButton\");\n",
       "            fb.className = \"Feedback\";\n",
       "            fb.classList.add(\"incorrect\");\n",
       "        }\n",
       "    }\n",
       "    else {\n",
       "        var reset = false;\n",
       "        var feedback;\n",
       "         if (label.dataset.correct == \"true\") {\n",
       "            if (\"feedback\" in label.dataset) {\n",
       "                feedback = jaxify(label.dataset.feedback);\n",
       "            } else {\n",
       "                feedback = \"Correct!\";\n",
       "            }\n",
       "            if (label.dataset.answered <= 0) {\n",
       "                if (fb.dataset.answeredcorrect < 0) {\n",
       "                    fb.dataset.answeredcorrect = 1;\n",
       "                    reset = true;\n",
       "                } else {\n",
       "                    fb.dataset.answeredcorrect++;\n",
       "                }\n",
       "                if (reset) {\n",
       "                    for (var i = 0; i < answers.length; i++) {\n",
       "                        var child = answers[i];\n",
       "                        child.className = \"MCButton\";\n",
       "                        child.dataset.answered = 0;\n",
       "                    }\n",
       "                }\n",
       "                label.classList.add(\"correctButton\");\n",
       "                label.dataset.answered = 1;\n",
       "                fb.className = \"Feedback\";\n",
       "                fb.classList.add(\"correct\");\n",
       "\n",
       "            }\n",
       "        } else {\n",
       "            if (\"feedback\" in label.dataset) {\n",
       "                feedback = jaxify(label.dataset.feedback);\n",
       "            } else {\n",
       "                feedback = \"Incorrect -- try again.\";\n",
       "            }\n",
       "            if (fb.dataset.answeredcorrect > 0) {\n",
       "                fb.dataset.answeredcorrect = -1;\n",
       "                reset = true;\n",
       "            } else {\n",
       "                fb.dataset.answeredcorrect--;\n",
       "            }\n",
       "\n",
       "            if (reset) {\n",
       "                for (var i = 0; i < answers.length; i++) {\n",
       "                    var child = answers[i];\n",
       "                    child.className = \"MCButton\";\n",
       "                    child.dataset.answered = 0;\n",
       "                }\n",
       "            }\n",
       "            label.classList.add(\"incorrectButton\");\n",
       "            fb.className = \"Feedback\";\n",
       "            fb.classList.add(\"incorrect\");\n",
       "        }\n",
       "        // What follows is for the saved responses stuff\n",
       "        var outerContainer = fb.parentElement.parentElement;\n",
       "        var responsesContainer = document.getElementById(\"responses\" + outerContainer.id);\n",
       "        if (responsesContainer) {\n",
       "            //console.log(responsesContainer);\n",
       "            var response = label.firstChild.innerText;\n",
       "            if (label.querySelector(\".QuizCode\")){\n",
       "                response+= label.querySelector(\".QuizCode\").firstChild.innerText;\n",
       "            }\n",
       "            console.log(response);\n",
       "            //console.log(document.getElementById(\"quizWrap\"+id));\n",
       "            var qnum = document.getElementById(\"quizWrap\"+id).dataset.qnum;\n",
       "            console.log(\"Question \" + qnum);\n",
       "            //console.log(id, \", got numcorrect=\",fb.dataset.numcorrect);\n",
       "            var responses=JSON.parse(responsesContainer.dataset.responses);\n",
       "            if (label.dataset.correct == \"true\") {\n",
       "                if (typeof(responses[qnum]) == \"object\"){\n",
       "                    if (!responses[qnum].includes(response))\n",
       "                        responses[qnum].push(response);\n",
       "                } else{\n",
       "                    responses[qnum]= [ response ];\n",
       "                }\n",
       "            } else {\n",
       "                responses[qnum]= response;\n",
       "            }\n",
       "            console.log(responses);\n",
       "            responsesContainer.setAttribute('data-responses', JSON.stringify(responses));\n",
       "            printResponses(responsesContainer);\n",
       "        }\n",
       "        // End save responses stuff\n",
       "\n",
       "\n",
       "\n",
       "        var numcorrect = fb.dataset.numcorrect;\n",
       "        var answeredcorrect = fb.dataset.answeredcorrect;\n",
       "        if (answeredcorrect >= 0) {\n",
       "            fb.textContent = feedback + \" [\" + answeredcorrect + \"/\" + numcorrect + \"]\";\n",
       "        } else {\n",
       "            fb.textContent = feedback + \" [\" + 0 + \"/\" + numcorrect + \"]\";\n",
       "        }\n",
       "\n",
       "\n",
       "    }\n",
       "\n",
       "    if (typeof MathJax != 'undefined') {\n",
       "        var version = MathJax.version;\n",
       "        console.log('MathJax version', version);\n",
       "        if (version[0] == \"2\") {\n",
       "            MathJax.Hub.Queue([\"Typeset\", MathJax.Hub]);\n",
       "        } else if (version[0] == \"3\") {\n",
       "            MathJax.typeset([fb]);\n",
       "        }\n",
       "    } else {\n",
       "        console.log('MathJax not detected');\n",
       "    }\n",
       "\n",
       "}\n",
       "\n",
       "function make_mc(qa, shuffle_answers, outerqDiv, qDiv, aDiv, id) {\n",
       "    var shuffled;\n",
       "    if (shuffle_answers == \"True\") {\n",
       "        //console.log(shuffle_answers+\" read as true\");\n",
       "        shuffled = getRandomSubarray(qa.answers, qa.answers.length);\n",
       "    } else {\n",
       "        //console.log(shuffle_answers+\" read as false\");\n",
       "        shuffled = qa.answers;\n",
       "    }\n",
       "\n",
       "\n",
       "    var num_correct = 0;\n",
       "\n",
       "\n",
       "\n",
       "    shuffled.forEach((item, index, ans_array) => {\n",
       "        //console.log(answer);\n",
       "\n",
       "        // Make input element\n",
       "        var inp = document.createElement(\"input\");\n",
       "        inp.type = \"radio\";\n",
       "        inp.id = \"quizo\" + id + index;\n",
       "        inp.style = \"display:none;\";\n",
       "        aDiv.append(inp);\n",
       "\n",
       "        //Make label for input element\n",
       "        var lab = document.createElement(\"label\");\n",
       "        lab.className = \"MCButton\";\n",
       "        lab.id = id + '-' + index;\n",
       "        lab.onclick = check_mc;\n",
       "        var aSpan = document.createElement('span');\n",
       "        aSpan.classsName = \"\";\n",
       "        //qDiv.id=\"quizQn\"+id+index;\n",
       "        if (\"answer\" in item) {\n",
       "            aSpan.innerHTML = jaxify(item.answer);\n",
       "            //aSpan.innerHTML=item.answer;\n",
       "        }\n",
       "        lab.append(aSpan);\n",
       "\n",
       "        // Create div for code inside question\n",
       "        var codeSpan;\n",
       "        if (\"code\" in item) {\n",
       "            codeSpan = document.createElement('span');\n",
       "            codeSpan.id = \"code\" + id + index;\n",
       "            codeSpan.className = \"QuizCode\";\n",
       "            var codePre = document.createElement('pre');\n",
       "            codeSpan.append(codePre);\n",
       "            var codeCode = document.createElement('code');\n",
       "            codePre.append(codeCode);\n",
       "            codeCode.innerHTML = item.code;\n",
       "            lab.append(codeSpan);\n",
       "            //console.log(codeSpan);\n",
       "        }\n",
       "\n",
       "        //lab.textContent=item.answer;\n",
       "\n",
       "        // Set the data attributes for the answer\n",
       "        lab.setAttribute('data-correct', item.correct);\n",
       "        if (item.correct) {\n",
       "            num_correct++;\n",
       "        }\n",
       "        if (\"feedback\" in item) {\n",
       "            lab.setAttribute('data-feedback', item.feedback);\n",
       "        }\n",
       "        lab.setAttribute('data-answered', 0);\n",
       "\n",
       "        aDiv.append(lab);\n",
       "\n",
       "    });\n",
       "\n",
       "    if (num_correct > 1) {\n",
       "        outerqDiv.className = \"ManyChoiceQn\";\n",
       "    } else {\n",
       "        outerqDiv.className = \"MultipleChoiceQn\";\n",
       "    }\n",
       "\n",
       "    return num_correct;\n",
       "\n",
       "}\n",
       "function check_numeric(ths, event) {\n",
       "\n",
       "    if (event.keyCode === 13) {\n",
       "        ths.blur();\n",
       "\n",
       "        var id = ths.id.split('-')[0];\n",
       "\n",
       "        var submission = ths.value;\n",
       "        if (submission.indexOf('/') != -1) {\n",
       "            var sub_parts = submission.split('/');\n",
       "            //console.log(sub_parts);\n",
       "            submission = sub_parts[0] / sub_parts[1];\n",
       "        }\n",
       "        //console.log(\"Reader entered\", submission);\n",
       "\n",
       "        if (\"precision\" in ths.dataset) {\n",
       "            var precision = ths.dataset.precision;\n",
       "            // console.log(\"1:\", submission)\n",
       "            submission = Math.round((1 * submission + Number.EPSILON) * 10 ** precision) / 10 ** precision;\n",
       "            // console.log(\"Rounded to \", submission, \" precision=\", precision  );\n",
       "        }\n",
       "\n",
       "\n",
       "        //console.log(\"In check_numeric(), id=\"+id);\n",
       "        //console.log(event.srcElement.id)           \n",
       "        //console.log(event.srcElement.dataset.feedback)\n",
       "\n",
       "        var fb = document.getElementById(\"fb\" + id);\n",
       "        fb.style.display = \"none\";\n",
       "        fb.textContent = \"Incorrect -- try again.\";\n",
       "\n",
       "        var answers = JSON.parse(ths.dataset.answers);\n",
       "        //console.log(answers);\n",
       "\n",
       "        var defaultFB = \"\";\n",
       "        var correct;\n",
       "        var done = false;\n",
       "        answers.every(answer => {\n",
       "            //console.log(answer.type);\n",
       "\n",
       "            correct = false;\n",
       "            // if (answer.type==\"value\"){\n",
       "            if ('value' in answer) {\n",
       "                if (submission == answer.value) {\n",
       "                    if (\"feedback\" in answer) {\n",
       "                        fb.textContent = jaxify(answer.feedback);\n",
       "                    } else {\n",
       "                        fb.textContent = jaxify(\"Correct\");\n",
       "                    }\n",
       "                    correct = answer.correct;\n",
       "                    //console.log(answer.correct);\n",
       "                    done = true;\n",
       "                }\n",
       "                // } else if (answer.type==\"range\") {\n",
       "            } else if ('range' in answer) {\n",
       "                //console.log(answer.range);\n",
       "                if ((submission >= answer.range[0]) && (submission < answer.range[1])) {\n",
       "                    fb.textContent = jaxify(answer.feedback);\n",
       "                    correct = answer.correct;\n",
       "                    //console.log(answer.correct);\n",
       "                    done = true;\n",
       "                }\n",
       "            } else if (answer.type == \"default\") {\n",
       "                defaultFB = answer.feedback;\n",
       "            }\n",
       "            if (done) {\n",
       "                return false; // Break out of loop if this has been marked correct\n",
       "            } else {\n",
       "                return true; // Keep looking for case that includes this as a correct answer\n",
       "            }\n",
       "        });\n",
       "\n",
       "        if ((!done) && (defaultFB != \"\")) {\n",
       "            fb.innerHTML = jaxify(defaultFB);\n",
       "            //console.log(\"Default feedback\", defaultFB);\n",
       "        }\n",
       "\n",
       "        fb.style.display = \"block\";\n",
       "        if (correct) {\n",
       "            ths.className = \"Input-text\";\n",
       "            ths.classList.add(\"correctButton\");\n",
       "            fb.className = \"Feedback\";\n",
       "            fb.classList.add(\"correct\");\n",
       "        } else {\n",
       "            ths.className = \"Input-text\";\n",
       "            ths.classList.add(\"incorrectButton\");\n",
       "            fb.className = \"Feedback\";\n",
       "            fb.classList.add(\"incorrect\");\n",
       "        }\n",
       "\n",
       "        // What follows is for the saved responses stuff\n",
       "        var outerContainer = fb.parentElement.parentElement;\n",
       "        var responsesContainer = document.getElementById(\"responses\" + outerContainer.id);\n",
       "        if (responsesContainer) {\n",
       "            console.log(submission);\n",
       "            var qnum = document.getElementById(\"quizWrap\"+id).dataset.qnum;\n",
       "            //console.log(\"Question \" + qnum);\n",
       "            //console.log(id, \", got numcorrect=\",fb.dataset.numcorrect);\n",
       "            var responses=JSON.parse(responsesContainer.dataset.responses);\n",
       "            console.log(responses);\n",
       "            if (submission == ths.value){\n",
       "                responses[qnum]= submission;\n",
       "            } else {\n",
       "                responses[qnum]= ths.value + \"(\" + submission +\")\";\n",
       "            }\n",
       "            responsesContainer.setAttribute('data-responses', JSON.stringify(responses));\n",
       "            printResponses(responsesContainer);\n",
       "        }\n",
       "        // End code to preserve responses\n",
       "\n",
       "        if (typeof MathJax != 'undefined') {\n",
       "            var version = MathJax.version;\n",
       "            console.log('MathJax version', version);\n",
       "            if (version[0] == \"2\") {\n",
       "                MathJax.Hub.Queue([\"Typeset\", MathJax.Hub]);\n",
       "            } else if (version[0] == \"3\") {\n",
       "                MathJax.typeset([fb]);\n",
       "            }\n",
       "        } else {\n",
       "            console.log('MathJax not detected');\n",
       "        }\n",
       "        return false;\n",
       "    }\n",
       "\n",
       "}\n",
       "\n",
       "function isValid(el, charC) {\n",
       "    //console.log(\"Input char: \", charC);\n",
       "    if (charC == 46) {\n",
       "        if (el.value.indexOf('.') === -1) {\n",
       "            return true;\n",
       "        } else if (el.value.indexOf('/') != -1) {\n",
       "            var parts = el.value.split('/');\n",
       "            if (parts[1].indexOf('.') === -1) {\n",
       "                return true;\n",
       "            }\n",
       "        }\n",
       "        else {\n",
       "            return false;\n",
       "        }\n",
       "    } else if (charC == 47) {\n",
       "        if (el.value.indexOf('/') === -1) {\n",
       "            if ((el.value != \"\") && (el.value != \".\")) {\n",
       "                return true;\n",
       "            } else {\n",
       "                return false;\n",
       "            }\n",
       "        } else {\n",
       "            return false;\n",
       "        }\n",
       "    } else if (charC == 45) {\n",
       "        var edex = el.value.indexOf('e');\n",
       "        if (edex == -1) {\n",
       "            edex = el.value.indexOf('E');\n",
       "        }\n",
       "\n",
       "        if (el.value == \"\") {\n",
       "            return true;\n",
       "        } else if (edex == (el.value.length - 1)) { // If just after e or E\n",
       "            return true;\n",
       "        } else {\n",
       "            return false;\n",
       "        }\n",
       "    } else if (charC == 101) { // \"e\"\n",
       "        if ((el.value.indexOf('e') === -1) && (el.value.indexOf('E') === -1) && (el.value.indexOf('/') == -1)) {\n",
       "            // Prev symbol must be digit or decimal point:\n",
       "            if (el.value.slice(-1).search(/\\d/) >= 0) {\n",
       "                return true;\n",
       "            } else if (el.value.slice(-1).search(/\\./) >= 0) {\n",
       "                return true;\n",
       "            } else {\n",
       "                return false;\n",
       "            }\n",
       "        } else {\n",
       "            return false;\n",
       "        }\n",
       "    } else {\n",
       "        if (charC > 31 && (charC < 48 || charC > 57))\n",
       "            return false;\n",
       "    }\n",
       "    return true;\n",
       "}\n",
       "\n",
       "function numeric_keypress(evnt) {\n",
       "    var charC = (evnt.which) ? evnt.which : evnt.keyCode;\n",
       "\n",
       "    if (charC == 13) {\n",
       "        check_numeric(this, evnt);\n",
       "    } else {\n",
       "        return isValid(this, charC);\n",
       "    }\n",
       "}\n",
       "\n",
       "\n",
       "\n",
       "\n",
       "\n",
       "function make_numeric(qa, outerqDiv, qDiv, aDiv, id) {\n",
       "\n",
       "\n",
       "\n",
       "    //console.log(answer);\n",
       "\n",
       "\n",
       "    outerqDiv.className = \"NumericQn\";\n",
       "    aDiv.style.display = 'block';\n",
       "\n",
       "    var lab = document.createElement(\"label\");\n",
       "    lab.className = \"InpLabel\";\n",
       "    lab.textContent = \"Type numeric answer here:\";\n",
       "    aDiv.append(lab);\n",
       "\n",
       "    var inp = document.createElement(\"input\");\n",
       "    inp.type = \"text\";\n",
       "    //inp.id=\"input-\"+id;\n",
       "    inp.id = id + \"-0\";\n",
       "    inp.className = \"Input-text\";\n",
       "    inp.setAttribute('data-answers', JSON.stringify(qa.answers));\n",
       "    if (\"precision\" in qa) {\n",
       "        inp.setAttribute('data-precision', qa.precision);\n",
       "    }\n",
       "    aDiv.append(inp);\n",
       "    //console.log(inp);\n",
       "\n",
       "    //inp.addEventListener(\"keypress\", check_numeric);\n",
       "    //inp.addEventListener(\"keypress\", numeric_keypress);\n",
       "    /*\n",
       "    inp.addEventListener(\"keypress\", function(event) {\n",
       "        return numeric_keypress(this, event);\n",
       "    }\n",
       "                        );\n",
       "                        */\n",
       "    //inp.onkeypress=\"return numeric_keypress(this, event)\";\n",
       "    inp.onkeypress = numeric_keypress;\n",
       "    inp.onpaste = event => false;\n",
       "\n",
       "    inp.addEventListener(\"focus\", function (event) {\n",
       "        this.value = \"\";\n",
       "        return false;\n",
       "    }\n",
       "    );\n",
       "\n",
       "\n",
       "}\n",
       "function jaxify(string) {\n",
       "    var mystring = string;\n",
       "\n",
       "    var count = 0;\n",
       "    var loc = mystring.search(/([^\\\\]|^)(\\$)/);\n",
       "\n",
       "    var count2 = 0;\n",
       "    var loc2 = mystring.search(/([^\\\\]|^)(\\$\\$)/);\n",
       "\n",
       "    //console.log(loc);\n",
       "\n",
       "    while ((loc >= 0) || (loc2 >= 0)) {\n",
       "\n",
       "        /* Have to replace all the double $$ first with current implementation */\n",
       "        if (loc2 >= 0) {\n",
       "            if (count2 % 2 == 0) {\n",
       "                mystring = mystring.replace(/([^\\\\]|^)(\\$\\$)/, \"$1\\\\[\");\n",
       "            } else {\n",
       "                mystring = mystring.replace(/([^\\\\]|^)(\\$\\$)/, \"$1\\\\]\");\n",
       "            }\n",
       "            count2++;\n",
       "        } else {\n",
       "            if (count % 2 == 0) {\n",
       "                mystring = mystring.replace(/([^\\\\]|^)(\\$)/, \"$1\\\\(\");\n",
       "            } else {\n",
       "                mystring = mystring.replace(/([^\\\\]|^)(\\$)/, \"$1\\\\)\");\n",
       "            }\n",
       "            count++;\n",
       "        }\n",
       "        loc = mystring.search(/([^\\\\]|^)(\\$)/);\n",
       "        loc2 = mystring.search(/([^\\\\]|^)(\\$\\$)/);\n",
       "        //console.log(mystring,\", loc:\",loc,\", loc2:\",loc2);\n",
       "    }\n",
       "\n",
       "    //console.log(mystring);\n",
       "    return mystring;\n",
       "}\n",
       "\n",
       "\n",
       "function show_questions(json, mydiv) {\n",
       "    console.log('show_questions');\n",
       "    //var mydiv=document.getElementById(myid);\n",
       "    var shuffle_questions = mydiv.dataset.shufflequestions;\n",
       "    var num_questions = mydiv.dataset.numquestions;\n",
       "    var shuffle_answers = mydiv.dataset.shuffleanswers;\n",
       "    var max_width = mydiv.dataset.maxwidth;\n",
       "\n",
       "    if (num_questions > json.length) {\n",
       "        num_questions = json.length;\n",
       "    }\n",
       "\n",
       "    var questions;\n",
       "    if ((num_questions < json.length) || (shuffle_questions == \"True\")) {\n",
       "        //console.log(num_questions+\",\"+json.length);\n",
       "        questions = getRandomSubarray(json, num_questions);\n",
       "    } else {\n",
       "        questions = json;\n",
       "    }\n",
       "\n",
       "    //console.log(\"SQ: \"+shuffle_questions+\", NQ: \" + num_questions + \", SA: \", shuffle_answers);\n",
       "\n",
       "    // Iterate over questions\n",
       "    questions.forEach((qa, index, array) => {\n",
       "        //console.log(qa.question); \n",
       "\n",
       "        var id = makeid(8);\n",
       "        //console.log(id);\n",
       "\n",
       "\n",
       "        // Create Div to contain question and answers\n",
       "        var iDiv = document.createElement('div');\n",
       "        //iDiv.id = 'quizWrap' + id + index;\n",
       "        iDiv.id = 'quizWrap' + id;\n",
       "        iDiv.className = 'Quiz';\n",
       "        iDiv.setAttribute('data-qnum', index);\n",
       "        iDiv.style.maxWidth  =max_width+\"px\";\n",
       "        mydiv.appendChild(iDiv);\n",
       "        // iDiv.innerHTML=qa.question;\n",
       "        \n",
       "        var outerqDiv = document.createElement('div');\n",
       "        outerqDiv.id = \"OuterquizQn\" + id + index;\n",
       "        // Create div to contain question part\n",
       "        var qDiv = document.createElement('div');\n",
       "        qDiv.id = \"quizQn\" + id + index;\n",
       "        \n",
       "        if (qa.question) {\n",
       "            iDiv.append(outerqDiv);\n",
       "\n",
       "            //qDiv.textContent=qa.question;\n",
       "            qDiv.innerHTML = jaxify(qa.question);\n",
       "            outerqDiv.append(qDiv);\n",
       "        }\n",
       "\n",
       "        // Create div for code inside question\n",
       "        var codeDiv;\n",
       "        if (\"code\" in qa) {\n",
       "            codeDiv = document.createElement('div');\n",
       "            codeDiv.id = \"code\" + id + index;\n",
       "            codeDiv.className = \"QuizCode\";\n",
       "            var codePre = document.createElement('pre');\n",
       "            codeDiv.append(codePre);\n",
       "            var codeCode = document.createElement('code');\n",
       "            codePre.append(codeCode);\n",
       "            codeCode.innerHTML = qa.code;\n",
       "            outerqDiv.append(codeDiv);\n",
       "            //console.log(codeDiv);\n",
       "        }\n",
       "\n",
       "\n",
       "        // Create div to contain answer part\n",
       "        var aDiv = document.createElement('div');\n",
       "        aDiv.id = \"quizAns\" + id + index;\n",
       "        aDiv.className = 'Answer';\n",
       "        iDiv.append(aDiv);\n",
       "\n",
       "        //console.log(qa.type);\n",
       "\n",
       "        var num_correct;\n",
       "        if ((qa.type == \"multiple_choice\") || (qa.type == \"many_choice\") ) {\n",
       "            num_correct = make_mc(qa, shuffle_answers, outerqDiv, qDiv, aDiv, id);\n",
       "            if (\"answer_cols\" in qa) {\n",
       "                //aDiv.style.gridTemplateColumns = 'auto '.repeat(qa.answer_cols);\n",
       "                aDiv.style.gridTemplateColumns = 'repeat(' + qa.answer_cols + ', 1fr)';\n",
       "            }\n",
       "        } else if (qa.type == \"numeric\") {\n",
       "            //console.log(\"numeric\");\n",
       "            make_numeric(qa, outerqDiv, qDiv, aDiv, id);\n",
       "        }\n",
       "\n",
       "\n",
       "        //Make div for feedback\n",
       "        var fb = document.createElement(\"div\");\n",
       "        fb.id = \"fb\" + id;\n",
       "        //fb.style=\"font-size: 20px;text-align:center;\";\n",
       "        fb.className = \"Feedback\";\n",
       "        fb.setAttribute(\"data-answeredcorrect\", 0);\n",
       "        fb.setAttribute(\"data-numcorrect\", num_correct);\n",
       "        iDiv.append(fb);\n",
       "\n",
       "\n",
       "    });\n",
       "    var preserveResponses = mydiv.dataset.preserveresponses;\n",
       "    console.log(preserveResponses);\n",
       "    console.log(preserveResponses == \"true\");\n",
       "    if (preserveResponses == \"true\") {\n",
       "        console.log(preserveResponses);\n",
       "        // Create Div to contain record of answers\n",
       "        var iDiv = document.createElement('div');\n",
       "        iDiv.id = 'responses' + mydiv.id;\n",
       "        iDiv.className = 'JCResponses';\n",
       "        // Create a place to store responses as an empty array\n",
       "        iDiv.setAttribute('data-responses', '[]');\n",
       "\n",
       "        // Dummy Text\n",
       "        iDiv.innerHTML=\"<b>Select your answers and then follow the directions that will appear here.</b>\"\n",
       "        //iDiv.className = 'Quiz';\n",
       "        mydiv.appendChild(iDiv);\n",
       "    }\n",
       "//console.log(\"At end of show_questions\");\n",
       "    if (typeof MathJax != 'undefined') {\n",
       "        console.log(\"MathJax version\", MathJax.version);\n",
       "        var version = MathJax.version;\n",
       "        setTimeout(function(){\n",
       "            var version = MathJax.version;\n",
       "            console.log('After sleep, MathJax version', version);\n",
       "            if (version[0] == \"2\") {\n",
       "                MathJax.Hub.Queue([\"Typeset\", MathJax.Hub]);\n",
       "            } else if (version[0] == \"3\") {\n",
       "                MathJax.typeset([mydiv]);\n",
       "            }\n",
       "        }, 500);\n",
       "if (typeof version == 'undefined') {\n",
       "        } else\n",
       "        {\n",
       "            if (version[0] == \"2\") {\n",
       "                MathJax.Hub.Queue([\"Typeset\", MathJax.Hub]);\n",
       "            } else if (version[0] == \"3\") {\n",
       "                MathJax.typeset([mydiv]);\n",
       "            } else {\n",
       "                console.log(\"MathJax not found\");\n",
       "            }\n",
       "        }\n",
       "    }\n",
       "    return false;\n",
       "}\n",
       "/* This is to handle asynchrony issues in loading Jupyter notebooks\n",
       "           where the quiz has been previously run. The Javascript was generally\n",
       "           being run before the div was added to the DOM. I tried to do this\n",
       "           more elegantly using Mutation Observer, but I didn't get it to work.\n",
       "\n",
       "           Someone more knowledgeable could make this better ;-) */\n",
       "\n",
       "        function try_show() {\n",
       "          if(document.getElementById(\"rowOXBwGRYPO\")) {\n",
       "            show_questions(questionsrowOXBwGRYPO,  rowOXBwGRYPO); \n",
       "          } else {\n",
       "             setTimeout(try_show, 200);\n",
       "          }\n",
       "        };\n",
       "    \n",
       "        {\n",
       "        // console.log(element);\n",
       "\n",
       "        //console.log(\"rowOXBwGRYPO\");\n",
       "        // console.log(document.getElementById(\"rowOXBwGRYPO\"));\n",
       "\n",
       "        try_show();\n",
       "        }\n",
       "        "
      ],
      "text/plain": [
       "<IPython.core.display.Javascript object>"
      ]
     },
     "metadata": {},
     "output_type": "display_data"
    }
   ],
   "source": [
    "from jupyterquiz import display_quiz\n",
    "display_quiz(\"questions/mixed_effects_models_exercise_2.json\")"
   ]
  },
  {
   "cell_type": "markdown",
   "id": "3a05ca92-c18f-499e-acab-8f2689f94830",
   "metadata": {
    "editable": true,
    "slideshow": {
     "slide_type": ""
    },
    "tags": []
   },
   "source": [
    "## Graphical representation of random slopes\n",
    "\n",
    "As with the random intercepts model, we can extract the model parameters to plot the lines for each individual. This time as we have a random intercept and a random slope for individual both intercept and slope coefficient will vary for each individual:\n"
   ]
  },
  {
   "cell_type": "code",
   "execution_count": 26,
   "id": "5edc2522-fe29-40ea-a829-ea3a4fb7f4f2",
   "metadata": {
    "editable": true,
    "slideshow": {
     "slide_type": ""
    },
    "tags": []
   },
   "outputs": [
    {
     "name": "stdout",
     "output_type": "stream",
     "text": [
      "$ID\n"
     ]
    },
    {
     "name": "stdout",
     "output_type": "stream",
     "text": [
      "      "
     ]
    },
    {
     "name": "stdout",
     "output_type": "stream",
     "text": [
      " (Intercept)"
     ]
    },
    {
     "name": "stdout",
     "output_type": "stream",
     "text": [
      "   VisitNum"
     ]
    },
    {
     "name": "stdout",
     "output_type": "stream",
     "text": [
      "\n",
      "X10096"
     ]
    },
    {
     "name": "stdout",
     "output_type": "stream",
     "text": [
      "    30.73067"
     ]
    },
    {
     "name": "stdout",
     "output_type": "stream",
     "text": [
      " 0.44461315"
     ]
    },
    {
     "name": "stdout",
     "output_type": "stream",
     "text": [
      "\n",
      "X10410"
     ]
    },
    {
     "name": "stdout",
     "output_type": "stream",
     "text": [
      "    19.67151"
     ]
    },
    {
     "name": "stdout",
     "output_type": "stream",
     "text": [
      " 0.05150892"
     ]
    },
    {
     "name": "stdout",
     "output_type": "stream",
     "text": [
      "\n",
      "X10964"
     ]
    },
    {
     "name": "stdout",
     "output_type": "stream",
     "text": [
      "    21.08835"
     ]
    },
    {
     "name": "stdout",
     "output_type": "stream",
     "text": [
      " 0.18104721"
     ]
    },
    {
     "name": "stdout",
     "output_type": "stream",
     "text": [
      "\n",
      "X11583"
     ]
    },
    {
     "name": "stdout",
     "output_type": "stream",
     "text": [
      "    21.67642"
     ]
    },
    {
     "name": "stdout",
     "output_type": "stream",
     "text": [
      " 0.16576354"
     ]
    },
    {
     "name": "stdout",
     "output_type": "stream",
     "text": [
      "\n",
      "X12230"
     ]
    },
    {
     "name": "stdout",
     "output_type": "stream",
     "text": [
      "    25.32628"
     ]
    },
    {
     "name": "stdout",
     "output_type": "stream",
     "text": [
      " 0.24973246"
     ]
    },
    {
     "name": "stdout",
     "output_type": "stream",
     "text": [
      "\n",
      "X13318"
     ]
    },
    {
     "name": "stdout",
     "output_type": "stream",
     "text": [
      "    17.53242"
     ]
    },
    {
     "name": "stdout",
     "output_type": "stream",
     "text": [
      " 0.01874210"
     ]
    },
    {
     "name": "stdout",
     "output_type": "stream",
     "text": [
      "\n"
     ]
    },
    {
     "name": "stdout",
     "output_type": "stream",
     "text": [
      "\n"
     ]
    }
   ],
   "source": [
    "%%R\n",
    "lapply(coef(model.rand.slope), head)"
   ]
  },
  {
   "cell_type": "markdown",
   "id": "352ac841-549f-4641-b550-fb0be221a870",
   "metadata": {
    "editable": true,
    "slideshow": {
     "slide_type": ""
    },
    "tags": []
   },
   "source": [
    "Recall that the individual level intercepts are calculated as the overall mean intercept estimate (`r coef(summary(model.rand.slope))[\"(Intercept)\",\"Estimate\"]`) added to the estimated individual specific effects. The individual level slope coefficients are caluclated int he same way as the overall mean slope estimate (`r coef(summary(model.rand.slope))[\"VisitNum\",\"Estimate\"]`) added to the estimated individual slope effect effects. From this output we can make individual level predictions for the individuals in our observed data, which doesn't have much meaning for individuals not in our study. We can use the overall mean effect from the fixed effect terms to make predictions for individuals not in our sample.\n",
    "\n",
    "With these coefficients we can visualise the results"
   ]
  },
  {
   "cell_type": "code",
   "execution_count": 27,
   "id": "5f1625c7-f958-446a-9417-35bab8dd0baf",
   "metadata": {
    "editable": true,
    "slideshow": {
     "slide_type": ""
    },
    "tags": []
   },
   "outputs": [
    {
     "data": {
      "image/png": "[encoded data removed]",
      "text/plain": [
       "<IPython.core.display.Image object>"
      ]
     },
     "metadata": {},
     "output_type": "display_data"
    }
   ],
   "source": [
    "%%R\n",
    "par(mar = c(4,4,1,1))\n",
    "# extract model coefficients\n",
    "ind.effects <- coef(model.rand.slope)$ID\n",
    "mean.effects <- coef(summary(model.rand.slope))[,\"Estimate\"]\n",
    "\n",
    "# create x variable that covers visit numbers\n",
    "x.sample <- as.matrix(c(0:9))\n",
    "\n",
    "# predict outcome using individual level coefficients\n",
    "y.ind <- ind.effects[,1]+ t(x.sample %*% t(as.matrix(ind.effects[,2])))\n",
    "# predict outcome using overal mean effect coefficients\n",
    "y.mean <- mean.effects[1] + x.sample * mean.effects[2]\n",
    "\n",
    "y_lim <-range(y.ind)\n",
    "plot(x.sample, y.mean, ylim = y_lim, xlab = \"Visit Number\", ylab = \"Cognitive Score\")\n",
    "for(i in 1:nrow(y.ind)){\n",
    "    lines(x.sample, y.ind[i,], lty = 2, col = \"grey\")\n",
    "}\n",
    "lines(x.sample, y.mean, ylim = y_lim, xlab = \"Visit Number\", ylab = \"Cognitive Score\")\n"
   ]
  },
  {
   "cell_type": "markdown",
   "id": "b454f0cf-b222-4adc-be50-416210e2ba55",
   "metadata": {
    "editable": true,
    "slideshow": {
     "slide_type": ""
    },
    "tags": []
   },
   "source": [
    "In this plot each dashed grey line represents an individual, while the black solid line represents the overall mean effect. What we can see is that each line starts at a different height on the y axis curtesy of the individual specific intercepts. As we saw from the coefficients, each individual has a different slope coefficient, so they are no longer parallel, howevere, that is not obvious to the human eye in this picture. In fact they are only very subtly different, and our significance testing informed us that there was at worst very little variance across individuals. So it is not surprising that we can't see how this manifests in the data. The black line tells us about the average individual, and is what we would use to make predictions about an individual outside of this cohort and describe the effect.\n",
    "\n",
    "## Assumptions for random slopes model\n",
    "\n",
    "Random slopes model have all the same assumptions as random intercepts model plus a few more.\n",
    "\n",
    "-   Linear relationship between predictors and outcomes.\n",
    "-   Constant variance across range of predictor variables (homoscedasticity).\n",
    "-   Errors at every level are normally distributed.\n",
    "-   The level 1 and level 2 residuals are uncorrelated.\n",
    "-   The errors at the highest level are uncorrelated.\n",
    "-   The slope residuals for two different groups are uncorrelated.\n",
    "-   The covariance between the intercept and the slope residual for the same group is $\\sigma_{u01}$.\n",
    "-   The intercept and slope residuals for different groups are uncorrelated.\n",
    "-   The slope residual is uncorrelated with the level 1 residual.\n",
    "-   The slope residual is uncorrelated with the covariates.\n",
    "\n",
    "If our results did suggest that the random slopes model had some value, we could repeat the diagnostic plots from before to check our model assumptions; this time thought we would need to add a fourth plot to check the residuals of the random slope term we estimate for each individual.\n"
   ]
  },
  {
   "cell_type": "code",
   "execution_count": 28,
   "id": "049162f7-407d-470a-90af-ef6d1521e0b0",
   "metadata": {
    "editable": true,
    "slideshow": {
     "slide_type": ""
    },
    "tags": []
   },
   "outputs": [
    {
     "data": {
      "image/png": "[encoded data removed]",
      "text/plain": [
       "<IPython.core.display.Image object>"
      ]
     },
     "metadata": {},
     "output_type": "display_data"
    }
   ],
   "source": [
    "%%R\n",
    "# a plot to check the constant standard deviation\n",
    "plot(fitted(model.rand.slope),resid(model.rand.slope,type=\"pearson\"),col=\"blue\", xlab = \"fitted\", ylab = \"residuals\") \n",
    "abline(h=0,lwd=2)"
   ]
  },
  {
   "cell_type": "code",
   "execution_count": 29,
   "id": "44d53abd-7f7d-4954-8c24-40227cb92cb2",
   "metadata": {
    "editable": true,
    "slideshow": {
     "slide_type": ""
    },
    "tags": []
   },
   "outputs": [
    {
     "data": {
      "image/png": "[encoded data removed]",
      "text/plain": [
       "<IPython.core.display.Image object>"
      ]
     },
     "metadata": {},
     "output_type": "display_data"
    }
   ],
   "source": [
    "%%R\n",
    "# normality of the residuals\n",
    "qqnorm(resid(model.rand.slope)) \n",
    "qqline(resid(model.rand.slope))"
   ]
  },
  {
   "cell_type": "code",
   "execution_count": 30,
   "id": "50505a0a-cf7d-44ac-810f-5032ac189c57",
   "metadata": {
    "editable": true,
    "slideshow": {
     "slide_type": ""
    },
    "tags": []
   },
   "outputs": [
    {
     "data": {
      "image/png": "[encoded data removed]",
      "text/plain": [
       "<IPython.core.display.Image object>"
      ]
     },
     "metadata": {},
     "output_type": "display_data"
    }
   ],
   "source": [
    "%%R\n",
    "# normality of the random intercept estimates\n",
    "qqnorm(ranef(model.rand.slope)$ID[,1]) \n",
    "qqline(ranef(model.rand.slope)$ID[,1])"
   ]
  },
  {
   "cell_type": "code",
   "execution_count": 31,
   "id": "d5c543ac-dc8b-46e4-ada5-e1655afaf615",
   "metadata": {
    "editable": true,
    "slideshow": {
     "slide_type": ""
    },
    "tags": []
   },
   "outputs": [
    {
     "data": {
      "image/png": "[encoded data removed]",
      "text/plain": [
       "<IPython.core.display.Image object>"
      ]
     },
     "metadata": {},
     "output_type": "display_data"
    }
   ],
   "source": [
    "%%R\n",
    "# normality of the random slope estimates\n",
    "qqnorm(ranef(model.rand.slope)$ID[,2])\n",
    "qqline(ranef(model.rand.slope)$ID[,2])"
   ]
  },
  {
   "cell_type": "markdown",
   "id": "72c9a302-f182-4d48-ab31-a7ffb1002ce0",
   "metadata": {
    "editable": true,
    "slideshow": {
     "slide_type": ""
    },
    "tags": []
   },
   "source": [
    "As with the random intercepts model these look pretty reasonable and no reason to believe the model is biased.\n",
    "\n",
    "## Some notes on model formulation\n",
    "\n",
    "Once we start incorporating random slopes the interpretation of some predictor variables can get quite complicated. Some things to consider when deciding what model to fit:\n",
    "\n",
    "-   If we have a random slope, we don't need to have a random intercept.\n",
    "-   We can have random slopes for continuous, categorical, non-linear or interaction predictor variables.\\\n",
    "-   Where we have multiple predictor variables, we don't have to have random slopes for all the predictor variables - we can be selective in which relationships we think group level effects are relevant for.\n",
    "\n",
    "## Fixed effects vs random effects\n",
    "\n",
    "When you have a categorical variable sometimes it can be hard to decide if it should be modeled as a fixed or random effect? This is arguably a subjective decision at times but a few things to consider are:\n",
    "\n",
    "-   How many groups?\n",
    "    -   Lots of groups would add lots of variables, so maybe more efficient to estimate variance across effects\n",
    "-   Do categories have particular meaning?\n",
    "    -   Can we reassign the ids and not affect the interpretation, if yes a random effect.\n",
    "-   Do we predict differences (potentially interesting) between the categories?\n",
    "    -   If yes, fixed effect\n",
    "\n",
    "Random effects can be thought of as\n",
    "\n",
    "-   nuisance parameters - we need to model them but we don't care about them (e.g. some artefact of data collection)\n",
    "\n",
    "OR\n",
    "\n",
    "-   they may be of particular interest\n",
    "\n",
    "In general, sample size is a bigger issue for mixed effects models compared to standard regression models, as data feature multiple levels. The level-2 sample size (i.e. number of groups) is the most important factor for determining whether the model will be afflicted by small sample issues."
   ]
  }
 ],
 "metadata": {
  "kernelspec": {
   "display_name": "Python 3 (ipykernel)",
   "language": "python",
   "name": "python3"
  },
  "language_info": {
   "codemirror_mode": {
    "name": "ipython",
    "version": 3
   },
   "file_extension": ".py",
   "mimetype": "text/x-python",
   "name": "python",
   "nbconvert_exporter": "python",
   "pygments_lexer": "ipython3",
   "version": "3.9.19"
  }
 },
 "nbformat": 4,
 "nbformat_minor": 5
}