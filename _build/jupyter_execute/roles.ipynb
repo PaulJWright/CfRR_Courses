{
 "cells": [
  {
   "cell_type": "markdown",
   "metadata": {
    "editable": true,
    "slideshow": {
     "slide_type": ""
    },
    "tags": []
   },
   "source": [
    "# Roles "
   ]
  },
  {
   "cell_type": "markdown",
   "metadata": {
    "editable": true,
    "slideshow": {
     "slide_type": ""
    },
    "tags": []
   },
   "source": [
    "````{tab-set}\n",
    "```{tab-item} Helpers\n",
    "Workshop Helpers Description\n",
    "```\n",
    "\n",
    "```{tab-item} Leaders\n",
    "Workshop Leaders Description\n",
    "```\n",
    "\n",
    "```{tab-item} Developers\n",
    "Workshop Developers Description\n",
    "```\n",
    "\n",
    "```{tab-item} Participants\n",
    "Participants Description\n",
    "```\n",
    "\n",
    "```{tab-item} Programme Management\n",
    "Programme Management Description\n",
    "```\n",
    "````"
   ]
  },
  {
   "cell_type": "code",
   "execution_count": null,
   "metadata": {},
   "outputs": [],
   "source": []
  }
 ],
 "metadata": {
  "kernelspec": {
   "display_name": "Python 3 (ipykernel)",
   "language": "python",
   "name": "python3"
  },
  "language_info": {
   "codemirror_mode": {
    "name": "ipython",
    "version": 3
   },
   "file_extension": ".py",
   "mimetype": "text/x-python",
   "name": "python",
   "nbconvert_exporter": "python",
   "pygments_lexer": "ipython3",
   "version": "3.9.19"
  }
 },
 "nbformat": 4,
 "nbformat_minor": 4
}