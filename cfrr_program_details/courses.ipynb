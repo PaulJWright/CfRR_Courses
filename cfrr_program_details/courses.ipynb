{
 "cells": [
  {
   "cell_type": "markdown",
   "id": "e18ae98b-39e0-4d7b-bbf4-1114ffeef96c",
   "metadata": {},
   "source": [
    "# Workshop Schedule and Signup"
   ]
  }
 ],
 "metadata": {
  "kernelspec": {
   "display_name": "Python 3 (ipykernel)",
   "language": "python",
   "name": "python3"
  },
  "language_info": {
   "codemirror_mode": {
    "name": "ipython",
    "version": 3
   },
   "file_extension": ".py",
   "mimetype": "text/x-python",
   "name": "python",
   "nbconvert_exporter": "python",
   "pygments_lexer": "ipython3",
   "version": "3.9.19"
  }
 },
 "nbformat": 4,
 "nbformat_minor": 5
}
