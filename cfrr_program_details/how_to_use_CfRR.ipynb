{
 "cells": [
  {
   "cell_type": "markdown",
   "id": "ce469b26-842a-469a-8756-03d83ccc41de",
   "metadata": {
    "editable": true,
    "slideshow": {
     "slide_type": ""
    },
    "tags": []
   },
   "source": [
    "# How to Use This Website"
   ]
  },
  {
   "cell_type": "markdown",
   "id": "33ecdb17-ba72-45cd-b894-c23975be7ed1",
   "metadata": {
    "editable": true,
    "slideshow": {
     "slide_type": ""
    },
    "tags": []
   },
   "source": [
    "This website aims to provide a single resource for engaging with the Coding for Reproducible Research training initiative at the University of Exeter. Extended details about the programme and why it is being run can be found on the [About Us page](about_us.ipynb). On this website, there are three main sections to be aware of:\n",
    "- **Which courses are beneficial for me?** This section features a series of interactive quizzes that relate to a particular course that is offered. These quizzes are designed to help you assess your current knowledge and help to identify which couses that are offered will provide the best time investment for your engagement.\n",
    "- **Course Details and Delivery Dates** This section provides an overview of the delivery dates for all of the workshops offered, details of any relevant administrative information, and installation instructions for any software needed to attend the course.\n",
    "- **Self-Study Notes** This section provides a set of interactive self-study notes that anyone can use to teach themselves any topics that are covered by the courses delivered within the programme.\n",
    "\n",
    "\n",
    "We offer a range of workshops to support colleagues to learn the skills they need, as outlined in the **Courses We Offer** section. Many course participants report they appreciate having focused time to learn alongside skilled support. However, some colleagues prefer to self-direct their learning, particularly if they already have some prior experience in an area. So the course notes are provided as self-study materials in this section for those who prefer to learn at their own pace, or who are unable to attend the workshops for other reasons."
   ]
  },
  {
   "cell_type": "code",
   "execution_count": null,
   "id": "de04f4b8-ab18-45ba-9b8b-acafb60d29f7",
   "metadata": {
    "editable": true,
    "slideshow": {
     "slide_type": ""
    },
    "tags": []
   },
   "outputs": [],
   "source": []
  }
 ],
 "metadata": {
  "kernelspec": {
   "display_name": "Python 3 (ipykernel)",
   "language": "python",
   "name": "python3"
  },
  "language_info": {
   "codemirror_mode": {
    "name": "ipython",
    "version": 3
   },
   "file_extension": ".py",
   "mimetype": "text/x-python",
   "name": "python",
   "nbconvert_exporter": "python",
   "pygments_lexer": "ipython3",
   "version": "3.9.19"
  }
 },
 "nbformat": 4,
 "nbformat_minor": 5
}
