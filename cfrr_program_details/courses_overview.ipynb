{
 "cells": [
  {
   "cell_type": "markdown",
   "id": "02b9e8f5-82ed-460b-af25-9034e538b7b3",
   "metadata": {},
   "source": [
    "# Workshop Schedule and Signup"
   ]
  },
  {
   "cell_type": "code",
   "execution_count": 6,
   "id": "d3aa7606-0f50-4f05-b104-ad4521c80406",
   "metadata": {
    "editable": true,
    "slideshow": {
     "slide_type": ""
    },
    "tags": [
     "remove-input"
    ]
   },
   "outputs": [
    {
     "data": {
      "text/markdown": [
       "- Introduction to Python: 23rd/30th October 10am-1pm (online only) - [MS Form Signup](https://forms.office.com/Pages/ResponsePage.aspx?id=d10qkZj77k6vMhM02PBKU-3R4SvRoClNrKjEX5qG1X1UNDJFN1NaRlk0UkpLNjVDSTM2TlM0NlpPWS4u)\n",
       "- Introduction to R: 8th/15th/22nd October 1-4pm (online only) - [MS Form Signup](https://forms.office.com/Pages/ResponsePage.aspx?id=d10qkZj77k6vMhM02PBKU-3R4SvRoClNrKjEX5qG1X1UQjJCSzFWQjNVSldGRFhDUDNXVjdBQjNZSi4u)\n",
       "- Regression Analysis with R: 25th October 10am-1pm (online only) - [MS Form Signup](https://forms.office.com/Pages/ResponsePage.aspx?id=d10qkZj77k6vMhM02PBKU-3R4SvRoClNrKjEX5qG1X1UMU1KRUpEOFRJQjFEOVVUVzFDMTRQMFZLRi4u)"
      ],
      "text/plain": [
       "<IPython.core.display.Markdown object>"
      ]
     },
     "metadata": {},
     "output_type": "display_data"
    }
   ],
   "source": [
    "import pandas as pd\n",
    "from IPython.display import Markdown, display\n",
    "from datetime import datetime\n",
    "\n",
    "# Load the CSV file (adjust the file path as needed)\n",
    "file_path = '../data/workshop_info.csv'\n",
    "courses_df = pd.read_csv(file_path)\n",
    "\n",
    "# Strip any extra spaces in the column names\n",
    "courses_df.columns = courses_df.columns.str.strip()\n",
    "\n",
    "# Convert the 'End Date' column to datetime (assuming the date format is day-first)\n",
    "courses_df['End Date'] = pd.to_datetime(courses_df['End Date'], dayfirst=True, errors='coerce')\n",
    "\n",
    "# Get today's date\n",
    "today = datetime.now()\n",
    "\n",
    "# Filter for rows that contain valid MS Form Signup links, Course Date information, and check if the 'End Date' is still valid\n",
    "filtered_courses_df = courses_df.dropna(subset=['Course Date', 'MS Form Signup'])\n",
    "filtered_courses_df = filtered_courses_df[filtered_courses_df['End Date'] > today]\n",
    "\n",
    "# Function to generate markdown text based on course details\n",
    "def generate_markdown(row):\n",
    "    return f\"- {row['Course Name']}: {row['Course Date']} - [MS Form Signup]({row['MS Form Signup']})\"\n",
    "\n",
    "# Apply the function and create the markdown output\n",
    "markdown_output = filtered_courses_df.apply(generate_markdown, axis=1).tolist()\n",
    "\n",
    "# Join the markdown lines into a single block\n",
    "markdown_text = \"\\n\".join(markdown_output)\n",
    "\n",
    "# Display the markdown text in rendered form\n",
    "display(Markdown(markdown_text))"
   ]
  },
  {
   "cell_type": "markdown",
   "id": "7101f2f7-2903-4cdc-b736-3f5000c467f7",
   "metadata": {
    "editable": true,
    "slideshow": {
     "slide_type": ""
    },
    "tags": []
   },
   "source": [
    "# Previous Workshops"
   ]
  },
  {
   "cell_type": "code",
   "execution_count": 3,
   "id": "0a814add-f545-4663-8b06-39c40b636509",
   "metadata": {
    "editable": true,
    "slideshow": {
     "slide_type": ""
    },
    "tags": [
     "remove-input"
    ]
   },
   "outputs": [
    {
     "data": {
      "text/html": [
       "\n",
       "<table style='width: 100%; text-align: center; border: 1px solid black; border-collapse: collapse;'>\n",
       "<tr>\n",
       "<th>Course Name</th>\n",
       "<th>Course Info</th>\n",
       "</tr>\n",
       "<tr><td>Regression Analysis with R</td><td>June 2024</td></tr>\n",
       "<tr><td>Introduction to MATLAB</td><td>June 2024</td></tr>\n",
       "<tr><td>Parallel Computing </td><td>June 2024</td></tr>\n",
       "<tr><td>Introduction to R</td><td>June 2024</td></tr>\n",
       "<tr><td>Intermediate Version Control</td><td>May 2024</td></tr>\n",
       "<tr><td>Python for Data Analysis</td><td>May 2024</td></tr>\n",
       "<tr><td>Introduction to Version Control</td><td>May 2024</td></tr>\n",
       "<tr><td>Advanced Regression Analysis with R</td><td>April 2024</td></tr>\n",
       "<tr><td>Software Development Best Practice</td><td>April 2024</td></tr>\n",
       "<tr><td>Computational Thinking</td><td>April 2024</td></tr>\n",
       "<tr><td>Introduction to Python</td><td>April 2024</td></tr>\n",
       "<tr><td>Introduction to UNIX </td><td>March 2024</td></tr>\n",
       "<tr><td>Regression Analysis with R</td><td>January 2024</td></tr>\n",
       "<tr><td>Introduction to R</td><td>January 2024</td></tr>\n",
       "<tr><td>Introduction to Version Control</td><td>December 2023</td></tr>\n",
       "<tr><td>Introduction to HPC and ISCA</td><td>November 2023</td></tr>\n",
       "<tr><td>Introduction to julia</td><td>November/December 2023</td></tr>\n",
       "<tr><td>Introduction to Python</td><td>November 2023</td></tr>\n",
       "<tr><td>Introduction to UNIX </td><td>October 2023</td></tr></table>"
      ],
      "text/plain": [
       "<IPython.core.display.HTML object>"
      ]
     },
     "metadata": {},
     "output_type": "display_data"
    }
   ],
   "source": [
    "import pandas as pd\n",
    "from IPython.display import display, HTML\n",
    "\n",
    "# Load the CSV file (adjust the file path as needed)\n",
    "file_path_previous = '../data/previous_workshops.csv'\n",
    "previous_courses_df = pd.read_csv(file_path_previous)\n",
    "previous_courses_df = previous_courses_df.iloc[::-1].reset_index(drop=True)\n",
    "\n",
    "# Strip any extra spaces in the column names\n",
    "previous_courses_df.columns = previous_courses_df.columns.str.strip()\n",
    "\n",
    "# Function to generate an HTML table row for each course\n",
    "def generate_html_row(row):\n",
    "    #return f\"<tr><td>{row['Course Name']}</td><td>{row['Course Info']}</td><td>{row['Course Leader']}</td><td>{row['Course Helpers']}</td><td>{row['Course Developers']}</td></tr>\"\n",
    "    return f\"<tr><td>{row['Course Name']}</td><td>{row['Course Info']}</td></tr>\"\n",
    "\n",
    "# Generate HTML table header\n",
    "# html_table_header = \"\"\"\n",
    "# <table style='width: 100%; text-align: center; border: 1px solid black; border-collapse: collapse;'>\n",
    "# <tr>\n",
    "# <th>Course Name</th>\n",
    "# <th>Course Info</th>\n",
    "# <th>Course Leader</th>\n",
    "# <th>Course Helpers</th>\n",
    "# <th>Course Developers</th>\n",
    "# </tr>\n",
    "# \"\"\"\n",
    "html_table_header = \"\"\"\n",
    "<table style='width: 100%; text-align: center; border: 1px solid black; border-collapse: collapse;'>\n",
    "<tr>\n",
    "<th>Course Name</th>\n",
    "<th>Course Info</th>\n",
    "</tr>\n",
    "\"\"\"\n",
    "\n",
    "# Apply the function and create the HTML table rows\n",
    "table_rows = previous_courses_df.apply(generate_html_row, axis=1).tolist()\n",
    "\n",
    "# Join the table rows into a single block\n",
    "html_table = html_table_header + \"\\n\".join(table_rows) + \"</table>\"\n",
    "\n",
    "# Display the HTML table\n",
    "display(HTML(html_table))\n"
   ]
  },
  {
   "cell_type": "code",
   "execution_count": null,
   "id": "2b3dc21f-a316-4357-8e4a-9c83c3703fd0",
   "metadata": {
    "editable": true,
    "slideshow": {
     "slide_type": ""
    },
    "tags": []
   },
   "outputs": [],
   "source": []
  }
 ],
 "metadata": {
  "kernelspec": {
   "display_name": "Python 3 (ipykernel)",
   "language": "python",
   "name": "python3"
  },
  "language_info": {
   "codemirror_mode": {
    "name": "ipython",
    "version": 3
   },
   "file_extension": ".py",
   "mimetype": "text/x-python",
   "name": "python",
   "nbconvert_exporter": "python",
   "pygments_lexer": "ipython3",
   "version": "3.9.19"
  }
 },
 "nbformat": 4,
 "nbformat_minor": 5
}
