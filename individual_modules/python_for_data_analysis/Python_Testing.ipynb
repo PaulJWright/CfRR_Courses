{
 "cells": [
  {
   "cell_type": "markdown",
   "metadata": {},
   "source": [
    "# Python - Checking and Testing Code\n",
    "## Learning Objectives\n",
    "\n",
    "At the end of this lesson you will be able to:\n",
    " * Identify appropriate testing goals.\n",
    " * Run tests using the PyTest framework.\n",
    " * Create unit-tests.\n",
    " * Use Mocks.\n",
    " * Check code quality using flake8 and mypy.\n",
    " \n",
    "  \n"
   ]
  },
  {
   "cell_type": "markdown",
   "metadata": {},
   "source": [
    "## Testing software\n",
    "\n",
    "Although we cannot prove our code is free of defects, or bugs, we can, and should, establish that it behaves as intended.\n",
    "\n",
    "\n",
    "\n",
    "### System level testing\n",
    "\n",
    "Once we have completed our software we should ensure that it works as intended.  This is referred to as - validation testing.  Typically this will involve taking a sample of input data and ensuring that the output of our software is as expected for the given input.\n",
    "\n",
    "This *validation* testing will tell us in the overall system runs, and produces valid results.  Such tests should be repeated when changes are made to the software, to ensure the changes have not introduced errors.\n",
    "\n",
    "Changes that can impact your software are diverse and include \n",
    "\n",
    " * new Python language releases\n",
    " \n",
    " * upgrades to imported libraries\n",
    " \n",
    " * operating system updates.\n",
    "\n",
    "### Defect testing\n",
    "\n",
    "In a research environment it is often the case that there is no explicit specification for the software we create.\n",
    "\n",
    "By specification we mean something like\n",
    "\n",
    "* Written statement of user requirements - typically \"user stories\"\n",
    "\n",
    "* Functional requirements - e.g what file formats are to be supported\n",
    "\n",
    "* Non-functional requirements - e.g. subject data must be encrypted\n",
    "\n",
    "## Discussion\n",
    "\n",
    "If you don't have a specification for your software, how might you establish suitable tests to find and resolve defects?\n",
    "\n",
    "\n"
   ]
  },
  {
   "cell_type": "markdown",
   "metadata": {},
   "source": [
    "## Assert statement\n",
    "\n",
    "The built-in Python assert statement looks like this -"
   ]
  },
  {
   "cell_type": "code",
   "execution_count": 7,
   "metadata": {},
   "outputs": [],
   "source": [
    "# Try modifying this code to deliberately fail the assert statements\n",
    "\n",
    "def my_add_two(a):\n",
    "    return a + 2.0\n",
    "\n",
    "assert my_add_two(1) == 3\n",
    "# Better to include a message in case of failure\n",
    "assert my_add_two(3) == 5, f\"my_add_two(3) failed with {my_add_two(3)}, expected 5\""
   ]
  },
  {
   "cell_type": "markdown",
   "metadata": {},
   "source": [
    "# When to use assert\n",
    "\n",
    "```assert``` should never be used to modify control flow.\n",
    "\n",
    "Assertions allow you to verify that parts of your program are correct, but are only applied if the internal constant ```__debug__``` is ```True```.  Although ```__debug__``` is usually set to True, it is not guaranteed.\n"
   ]
  },
  {
   "cell_type": "code",
   "execution_count": 10,
   "metadata": {},
   "outputs": [],
   "source": [
    "## This is how you can create your own assert function \n",
    "\n",
    "def my_assert(condition, message):\n",
    "    if __debug__ and not condition:\n",
    "        raise AssertionError(message)\n",
    "\n",
    "my_assert(my_add_two(1) == 3, \"my_add_two(1) failed\")\n"
   ]
  },
  {
   "cell_type": "markdown",
   "metadata": {},
   "source": [
    "### Why might we want different behaviour from our assert statements?\n",
    "\n",
    "### What would you want your assert statements to do?\n",
    "\n",
    "## Unit-tests\n",
    "\n",
    "Unit-tests are small tests that test the behaviours of our functions and classes.\n",
    "\n",
    "Unit-tests are typically run within a testing framework or test-runner that automates testing, often inside our IDE.\n",
    "\n",
    "### Test Driven Development (TDD)\n",
    "\n",
    "TDD is an approach to software design, it is not software testing. TDD uses unit-tests to create a software design, especially when the design is created incrementally, as with Agile.\n",
    "\n",
    "### Refactoring\n",
    "\n",
    "Whether or not you adopt TDD, refactoring - changing the implementation of your code without changing its behaviour, is something that you are certain to do. If only to remove print statements, or change the names of variables.\n",
    "\n",
    "Refactoring code without appropriate tests can easily introduce new errors."
   ]
  },
  {
   "cell_type": "markdown",
   "metadata": {},
   "source": [
    "### unittest\n",
    "\n",
    "Python 3 distributions include the unittest module.  See https://docs.python.org/3/library/unittest.html\n"
   ]
  },
  {
   "cell_type": "code",
   "execution_count": 38,
   "metadata": {},
   "outputs": [
    {
     "name": "stderr",
     "output_type": "stream",
     "text": [
      "..\n",
      "----------------------------------------------------------------------\n",
      "Ran 2 tests in 0.003s\n",
      "\n",
      "OK\n"
     ]
    },
    {
     "data": {
      "text/plain": [
       "<unittest.main.TestProgram at 0x10f559090>"
      ]
     },
     "execution_count": 38,
     "metadata": {},
     "output_type": "execute_result"
    }
   ],
   "source": [
    "import unittest\n",
    "\n",
    "class TestMyAddTwo(unittest.TestCase):\n",
    "    def test_my_add_two(self):\n",
    "        self.assertEqual(my_add_two(1), 3)\n",
    "    def test_my_add_two_3(self):\n",
    "        self.assertEqual(my_add_two(3), 5)\n",
    "\n",
    "unittest.main(argv=[''], exit=False)"
   ]
  },
  {
   "cell_type": "code",
   "execution_count": 39,
   "metadata": {},
   "outputs": [
    {
     "name": "stderr",
     "output_type": "stream",
     "text": [
      "..\n",
      "----------------------------------------------------------------------\n",
      "Ran 2 tests in 0.004s\n",
      "\n",
      "OK\n"
     ]
    },
    {
     "data": {
      "text/plain": [
       "<unittest.main.TestProgram at 0x10f6b1a90>"
      ]
     },
     "execution_count": 39,
     "metadata": {},
     "output_type": "execute_result"
    }
   ],
   "source": [
    "import unittest\n",
    "import coverage\n",
    "\n",
    "class TestMyAddTwo(unittest.TestCase):\n",
    "    def test_my_add_two(self):\n",
    "        self.assertEqual(my_add_two(1), 3)\n",
    "    def test_my_add_two_3(self):\n",
    "        self.assertEqual(my_add_two(3), 5)\n",
    "\n",
    "cov = coverage.Coverage()\n",
    "cov.start()\n",
    "unittest.main(argv=[''], exit=False)\n",
    "cov.stop()\n",
    "cov.save()\n",
    "\n",
    "cov.html_report()"
   ]
  },
  {
   "cell_type": "markdown",
   "metadata": {},
   "source": [
    "## Pytest\n",
    "\n",
    "Pytest makes it easier to write and run tests.\n",
    "\n",
    "Pytest uses file and function naming conventions to discover test.  You will rarely need to run a test directly as the framework will find and run tests for you when you modify your code.\n",
    "\n",
    "\n",
    "Follow the instruction here to install pytest  - use a virtual environment.\n",
    "\n",
    "https://docs.pytest.org/en/8.2.x/getting-started.html"
   ]
  },
  {
   "cell_type": "markdown",
   "metadata": {},
   "source": [
    "There are plugins for pytest to extend its functionality. For example test coverage."
   ]
  },
  {
   "cell_type": "markdown",
   "metadata": {},
   "source": [
    "## Test coverage\n",
    "\n",
    "https://pypi.org/project/pytest-cov/"
   ]
  },
  {
   "cell_type": "markdown",
   "metadata": {},
   "source": [
    "## Fixtures and mocking"
   ]
  },
  {
   "cell_type": "markdown",
   "metadata": {},
   "source": [
    "## pytest-notebook\n",
    "\n",
    "\n",
    "See https://pytest-notebook.readthedocs.io/en/latest/"
   ]
  },
  {
   "cell_type": "markdown",
   "metadata": {},
   "source": [
    "## Exercise\n",
    "\n",
    "Create a small test-suite for our Upper() class and design a new capability for the class using TDD\n",
    "\n",
    "Here are some examples -\n",
    "\n",
    "* Do not allow strings without at least one letter\n",
    "\n",
    "* Only allow strings that begin with a letter\n",
    "\n",
    "* Limit the length of the string to 10 characters\n"
   ]
  },
  {
   "cell_type": "markdown",
   "metadata": {},
   "source": [
    "## Resources\n",
    "\n",
    "See the testing section of https://alan-turing-institute.github.io/rse-course/html/module01_introduction_to_python/index.html"
   ]
  }
 ],
 "metadata": {
  "kernelspec": {
   "display_name": "Python 3 (ipykernel)",
   "language": "python",
   "name": "python3"
  },
  "language_info": {
   "codemirror_mode": {
    "name": "ipython",
    "version": 3
   },
   "file_extension": ".py",
   "mimetype": "text/x-python",
   "name": "python",
   "nbconvert_exporter": "python",
   "pygments_lexer": "ipython3",
   "version": "3.11.7"
  }
 },
 "nbformat": 4,
 "nbformat_minor": 4
}
