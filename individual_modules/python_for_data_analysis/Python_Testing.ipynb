{
 "cells": [
  {
   "cell_type": "markdown",
   "metadata": {},
   "source": [
    "# Python - Checking and Testing Code\n",
    "## Learning Objectives\n",
    "\n",
    "At the end of this lesson you will be able to:\n",
    " * Identify appropriate testing goals.\n",
    " * Run tests using the PyTest framework.\n",
    " * Create unit-tests.\n",
    " * Use Mocks.\n",
    " * Check code quality using flake8 and mypy.\n",
    " \n",
    "  \n"
   ]
  },
  {
   "cell_type": "markdown",
   "metadata": {},
   "source": [
    "## Testing software\n",
    "\n",
    "Although we cannot prove our code is free of defects, or bugs, we can, and should, establish that it behaves as intended.\n",
    "\n",
    "\n",
    "\n",
    "### System level testing\n",
    "\n",
    "Once we have completed our software we should ensure that it works as intended.  This is referred to as - validation testing.  Typically this will involve taking a sample of input data and ensuring that the output of our software is as expected for the given input.\n",
    "\n",
    "This *validation* testing will tell us in the overall system runs, and produces valid results.  Such tests should be repeated when changes are made to the software, to ensure the changes have not introduced errors.\n",
    "\n",
    "### Defect testing\n",
    "\n",
    "In a research environment it is often the case that there is no explicit specification for the software we create.\n"
   ]
  },
  {
   "cell_type": "markdown",
   "metadata": {},
   "source": [
    "## Unit-tests\n",
    "\n",
    "Unit-tests are small tests that test the behaviours of our functions and classes.\n",
    "\n",
    "Unit-tests are typically run within a testing framework or test-runner that automates testing, often inside our IDE.\n",
    "\n",
    "### Test Driven Development (TDD)\n",
    "\n",
    "TDD is an approach to software design, it is not software testing. TDD uses unit-tests to create a software design, especially when the design is created incrementally, as with Agile.\n",
    "\n",
    "### Refactoring\n",
    "\n",
    "Whether or not you adopt TDD, refactoring - changing the implementation of your code without changing its behaviour, is something that you are certain to do. If only to remove print statements, or change the names of variables. "
   ]
  }
 ],
 "metadata": {
  "kernelspec": {
   "display_name": ".venv",
   "language": "python",
   "name": "python3"
  },
  "language_info": {
   "name": "python",
   "version": "3.11.7"
  }
 },
 "nbformat": 4,
 "nbformat_minor": 2
}
