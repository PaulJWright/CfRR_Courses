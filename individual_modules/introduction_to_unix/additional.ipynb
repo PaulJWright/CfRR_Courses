{
 "cells": [
  {
   "cell_type": "markdown",
   "id": "63b6499b-315e-4547-b171-aeeca54722b9",
   "metadata": {},
   "source": [
    "# Additional Topics \n",
    "\n",
    "In this section, we will briefly touch on ten important topics in Unix/Bash that were not covered in this course. Each topic includes a brief description and links for further reading.\n",
    "\n",
    "1. **Path: `~/bin/`**\n",
    "    - The `~/bin/` directory is a common location to place your own executable scripts or programs. Adding this directory to your `PATH` allows you to run your scripts from anywhere.\n",
    "\n",
    "2. **Hidden Files: `.bashrc`, `.bash_profile`**\n",
    "    - Hidden files in Unix start with a dot (`.`). Important hidden files include `.bashrc` and `.bash_profile` which are used for configuring the shell environment.\n",
    "\n",
    "3. **Wildcard `{}`: `touch file-{001..100}`**\n",
    "    - The `{}` wildcard is used for brace expansion, creating multiple files or directories with patterns.\n",
    "    - Example: `touch file-{001..100}` creates files `file-001` to `file-100`.\n",
    "\n",
    "4. **Return Codes: `ks && echo \"done?\"`**\n",
    "    - Commands return codes to indicate success or failure. `0` usually means success, and any other value indicates an error.\n",
    "    - Example: `ks && echo \"done?\"` will echo \"done?\" if `ks` is successful.\n",
    "\n",
    "5. **Standard Input/Output and Redirection: `ks 2>&1 | cat`**\n",
    "    - Input and output redirection allow you to control where the output of a command goes and where the input comes from.\n",
    "    - Example: `ks 2>&1 | cat` redirects both standard output and standard error of `ks` to `cat`.\n",
    "\n",
    "6. **Job Control: `&, ps, fg, bg, kill`**\n",
    "    - Job control allows you to manage multiple processes. You can start jobs in the background, bring them to the foreground, and kill them if necessary.\n",
    "    - Commands: `&` (run in background), `ps` (list processes), `fg` (foreground), `bg` (background), `kill` (terminate process).\n",
    "\n",
    "7. **Environment Variables: `export`**\n",
    "    - Environment variables are used to pass information into processes that are spawned from the shell.\n",
    "    - Example: `export VAR=value` sets an environment variable.\n",
    "\n",
    "8. **Intro to Unix Filesystem**\n",
    "    - The Unix filesystem is a hierarchical structure where everything is a file. Directories are special types of files.\n",
    "\n",
    "9. **Editors: `emacs` and `vim`: `vimtutor`**\n",
    "    - `emacs` and `vim` are powerful text editors available in Unix. `vimtutor` is a great way to learn `vim`.\n",
    "\n",
    "10. **\"Magic\" Variables: `mkdir tmp_dir && cd $_`**\n",
    "    - Magic variables like `$_` hold the last argument of the previous command.\n",
    "    - Example: `mkdir tmp_dir && cd $_` creates a directory and then changes to it.\n",
    "\n",
    "11. **Bash Scripting: `if/else, while, case`**\n",
    "    - Bash scripting allows for complex automation tasks using control structures like `if/else`, `while`, and `case`.\n",
    "\n",
    "12. **Line Endings and ASCII: `\\n\\r`**\n",
    "    - Understanding line endings (`\\n` for Unix, `\\r\\n` for Windows) and ASCII is essential for text processing.\n",
    "\n",
    "13. **Calculations: `echo $((10**2 - 1))`**\n",
    "    - Bash can perform arithmetic operations using `$((expression))`.\n",
    "    - Example: `echo $((10**2 - 1))` calculates `10^2 - 1`.\n",
    "\n",
    "Each of these topics can be explored further to enhance your Unix and Bash skills.\n"
   ]
  },
  {
   "cell_type": "code",
   "execution_count": null,
   "id": "97a72fd9-94ec-4dab-ae47-4582ef6a90a0",
   "metadata": {},
   "outputs": [],
   "source": []
  }
 ],
 "metadata": {
  "kernelspec": {
   "display_name": "Python 3 (ipykernel)",
   "language": "python",
   "name": "python3"
  },
  "language_info": {
   "codemirror_mode": {
    "name": "ipython",
    "version": 3
   },
   "file_extension": ".py",
   "mimetype": "text/x-python",
   "name": "python",
   "nbconvert_exporter": "python",
   "pygments_lexer": "ipython3",
   "version": "3.9.19"
  }
 },
 "nbformat": 4,
 "nbformat_minor": 5
}
