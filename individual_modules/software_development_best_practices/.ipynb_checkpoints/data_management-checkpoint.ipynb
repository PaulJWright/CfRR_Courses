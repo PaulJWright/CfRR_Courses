{
 "cells": [
  {
   "cell_type": "markdown",
   "id": "d4c820fd-a2d7-4736-8827-9d47bd6d222b",
   "metadata": {},
   "source": [
    "# Data Management\n",
    "## Introduction to Research Data Management Lifecycle\n",
    "In the realm of research and academia, there exists a comprehensive cycle dedicated to the management of research data, analogous to the well-known software development life cycle. Understanding this lifecycle is crucial as it encompasses various stages that correspond to the different phases of a research project: before, during, and after the research activities."
   ]
  },
  {
   "cell_type": "markdown",
   "id": "0ec480ef-a282-4789-80fe-c235372ecc99",
   "metadata": {},
   "source": [
    "## Before the Research Project: Planning Phase\n",
    "### Data Management Plan (DMP)\n",
    "**Definition and Purpose**: A Data Management Plan (DMP) is a detailed document that outlines how data will be acquired, managed, preserved, and shared throughout the research project. It serves as a blueprint for handling data in an efficient and secure manner.\n",
    "**Legal and Ethical Considerations**: The DMP must address any potential legal or ethical issues associated with the research data. This includes compliance with laws related to data protection, privacy, and the ethical use of data.\n",
    "**Living Document**: It is important to note that a DMP is not static. It should be viewed as a living document that can be revised and updated as the project evolves and new needs or challenges arise.\n",
    "**Benefits of a DMP**:\n",
    "- **Efficiency and Safety**: Creating a DMP early on can save time and prevent data loss or breaches in security.\n",
    "- **Data Sharing**: A well-prepared DMP facilitates the sharing of data, thereby supporting the principles of FAIR data management.\n",
    "- **FAIR Principles**: These principles aim to enhance the Findability, Accessibility, Interoperability, and Reusability of digital assets, thus promoting research reproducibility.\n",
    "\n",
    "### Institutional and Funding Requirements\n",
    "**University Requirements**: Many universities, including the example of the University of Exeter, mandate the inclusion of a DMP in all research proposals.\n",
    "**Funder Requirements**: Research funders may require a DMP in a specific format, detailing certain types of content that need to be included. Additionally, it is advisable to account for research data management costs in funding applications.\n",
    "### Resources and Support\n",
    "**DMPonline Tool**: [DMPonline](https://dmponline.exeter.ac.uk/) provides researchers with templates and guidance for writing DMPs tailored to major research funders.\n",
    "**University Support Teams**:\n",
    "- **Research Data Management Team**: Researchers can seek assistance and advice from their university's [Research Data Management Team](rdm@exeter.ac.uk).\n",
    "- **Research Ethics and Governance Team**: For projects involving personal or sensitive data, it is crucial to consult the university's [Research Ethics and Governance Team](http://www.exeter.ac.uk/cgr/researchethics/) to ensure compliance with ethical standards and regulations.\n",
    "\n",
    "These notes encapsulate the essential components of the planning phase of the research data lifecycle. By adhering to these guidelines, researchers can ensure that their data management practices are robust, ethical, and aligned with both institutional and funder requirements, thereby paving the way for a successful research project."
   ]
  },
  {
   "cell_type": "code",
   "execution_count": null,
   "id": "88ef0d21-45f7-4a19-afb4-d594dbf2beca",
   "metadata": {},
   "outputs": [],
   "source": []
  },
  {
   "cell_type": "markdown",
   "id": "c98647c7-d481-465a-bab9-2477fe23509a",
   "metadata": {},
   "source": [
    "\n",
    "1. **Before &rarr; Plan**\n",
    "- A *Data Management Plan (DMP)* describes how data will be acquired, managed, preserved and shared in an efficient and secure manner.\n",
    "- It should also describe any potential legal or ethical issues that need to be addressed.\n",
    "- It is a living document that can be updated during the project as needed.</br></br>\n",
    "- Putting together a DMP can allow us to save time later, as well as prevent data loss or breaches.\n",
    "- It also makes it easier to share data, promoting the *FAIR* principles.\n",
    "- The FAIR guiding principles for scientific data management and stewardship, which support research reproducibility, were developed as guidelines to improve the *Findability*, *Accessibility*, *Interoperability* and *Reusability* of digital assests.</br></br>\n",
    "- The university requires all research proposals to include a DMP.\n",
    "- Funders that require a DMP may ask for a specific format and certain content.\n",
    "- Where possible, research data management costs should also be included in funding applications.</br></br>\n",
    "- [DMPonline](https://dmponline.exeter.ac.uk/) is a helpful tool for writing DMPs - it provides templates for all the major research funders, along with guidance and advice on what to include.\n",
    "- The university's [Research Data Management Team](rdm@exeter.ac.uk) are also happy to help.\n",
    "- Notably, the university's [Research Ethics and Governance Team](http://www.exeter.ac.uk/cgr/researchethics/) should be contacted if the data is personal or sensitive.\n",
    "\n",
    "2. **During &rarr; Acquire, Process & Analyse**\n",
    "- Every individual working with the data is responsible for it.</br></br>\n",
    "- It is important to use a logical file structure with meaningful file names, ensuring we can easily locate and track our files.\n",
    "- Files can also be set as read-only to avoid accidental modification of the data.\n",
    "- If manually versioning our data files, we need to use a unique file name with a date or version number - it can also be beneficial to have a supplementary file recording details of changes.\n",
    "- Alternatively, version control software (e.g. Git) can be used.\n",
    "- A strategy should be decided on at the outset, including regarding data processing (e.g. to ensure missing data is represented consistently), which all collaborators agree to.</br></br>\n",
    "- The university provides researchers with a range of secure data storage options (i.e. OneDrive, SharePoint, Research Data Storage (RDS) and Secure Data Research Hub (SDRH)).\n",
    "- Data can also be stored and shared on portable storage devices, but these devices are considered more vulnerable and less secure.\n",
    "- If using a portable storage device, such as a USB stick, it should be encrypted.\n",
    "- It is crucial we implement a backup strategy for the lifetime of the project - the 3-2-1 principle is recommended (3 copies over 2 different media with 1 copy in a different physical location).</br></br>\n",
    "- Data without contextual information is essentially meaningless, thus (separate) documentation needs to be written and maintained over the course of the project.\n",
    "- Supporting documentation and metadata (i.e. data about data) should, combined with our data, make it understandable independent of any publication.\n",
    "\n",
    "3. **After &rarr; Preserve & Share**\n",
    "- Many funders expect data with long-term value to be preserved and made accessible, enabling it to be used for future research.\n",
    "- Good data management habits are essential for creating data suitable for sharing.\n",
    "- Sharing our data is beneficial as we are:\n",
    "    - enabling others to fully reproduce our study.\n",
    "    - preventing duplicate efforts and speeding up scientific progress.\n",
    "    - increasing the impact and quality of our research.\n",
    "    - facilitating collaboration.</br></br>\n",
    "- We can share our data by following these steps:\n",
    "    1. Decide what data should be shared to enable others to reproduce our research - it is worth noting that, due to ethical and commercial concerns, not all data can be made openly available.\n",
    "    2. Choose a data repository or sharing platform.\n",
    "        - The university has an institutional repository, [Open Research Exeter (ORE)](https://ore.exeter.ac.uk/repository/), where data can be securely preserved for the long-term.\n",
    "        - However, funders may stipulate we use a certain external data repository, or we may want to choose our own subject-specific repository using online resources such as the [Registry of Research Data Repositories](https://www.re3data.org).\n",
    "        - Regardless of where our data is archived, it should be registered in [Symplectic](https://researchpubs.exeter.ac.uk/login.html).\n",
    "    3. Choose a licence and link our research outputs - it is (generally) recommended a [Creative Commons (CC) license](https://creativecommons.org/licenses/) is used and a data access statement must be included in any publications.\n",
    "    4. Upload our data and documentation - it is important to think about the file formats used as some are more accessible than others.\n",
    "\n",
    "**Adapted Content From:**\n",
    "- [Research Data Management @ University of Exeter](https://www.exeter.ac.uk/research/researchdatamanagement/) (permission for use granted by Christopher Tibbs)\n",
    "- [The Turing Way](https://github.com/alan-turing-institute/the-turing-way) (Copyright © The Turing Way Community) ([CC-BY licence](https://creativecommons.org/licenses/by/4.0/))\n"
   ]
  }
 ],
 "metadata": {
  "kernelspec": {
   "display_name": "Python 3 (ipykernel)",
   "language": "python",
   "name": "python3"
  },
  "language_info": {
   "codemirror_mode": {
    "name": "ipython",
    "version": 3
   },
   "file_extension": ".py",
   "mimetype": "text/x-python",
   "name": "python",
   "nbconvert_exporter": "python",
   "pygments_lexer": "ipython3",
   "version": "3.12.2"
  }
 },
 "nbformat": 4,
 "nbformat_minor": 5
}
