{
 "cells": [
  {
   "cell_type": "markdown",
   "id": "0d031ccb-54d9-44a8-8282-63064ec52ba0",
   "metadata": {},
   "source": [
    "# Python Multiprocessing\n",
    "\n",
    "## Learning Objectives\n",
    "\n",
    "By the end of this lesson, learners will be able to:\n",
    "\n",
    "- Differentiate between message-passing and multiprocessing approaches in parallel programming.\n",
    "- Implement Python's `multiprocessing` library to parallelize a fractal generation task within a single code instance.\n",
    "- Set up a pool of worker processes using `Pool(processes=n_processes)` and delegate tasks across these processes with the `p.map()` function.\n",
    "- Use `functools.partial` to manage function parameters that remain constant across parallel tasks, optimizing code reuse.\n",
    "- Divide a computational grid into slices and assign each slice to a worker process to handle independently.\n",
    "- Close a pool of processes in Python's multiprocessing model once tasks are completed, resuming the main program.\n",
    "- Evaluate the performance of the multiprocessing approach by timing code execution with varying numbers of slices and processes, and compare results with the serial version in `fractal_complete.py`.\n",
    "\n",
    "\n",
    "## Fractal example with Python multiprocessing\n",
    "\n",
    "In the previous lessons we have seen *message passing* being used to communicate data between multiple running instances of the code.\n",
    "An alternative approach is to use *multi-processing*, where-by we launch one instance of our code which in turn launches new threads with access to the same memory.\n",
    "\n",
    "In `multiprocessing_fractal.py`, the previous fractal example has been implemented using `multiprocessing` from the python standard library.\n",
    "Most of the code follows the same structure as the parallel fractal example.\n",
    "\n",
    "For the multi-processing model, we set up a *pool* of workers, `Pool(processes=n_processes)`, assigned to `p`.\n",
    "The work can then be delegated out to these workers using the [`p.map()`](https://docs.python.org/3/library/multiprocessing.html#multiprocessing.pool.Pool.map) method.\n",
    "This `map` method (equivalent to the builtin [`map`](https://docs.python.org/3/library/functions.html#map)) takes two arguments: a function to run (our fractal function), and a collection of inputs to pass to the function (different regions of the grid to be processed in parallel).\n",
    "\n",
    "```{note}\n",
    "To pass in the parameters that don't change over grid regions, we've used [`functools.partial`](https://docs.python.org/3/library/functools.html#functools.partial):\n",
    "\n",
    "``` python\n",
    "partial_julia_set = partial(julia_set, num_iter=80, c=-0.83 - 0.22 * 1j)\n",
    "```\n",
    "\n",
    "This would be essentially equivalent to defining a new function:\n",
    "\n",
    "``` python\n",
    "def partial_julia_set(grid):\n",
    "    return julia_set(grid, num_iter=80, c=-0.83  -0.22 * 1j)\n",
    "```\n",
    "\n",
    "You may be familiar with *lambda* expressions, but these cannot be passed in to the `multiprocessing.Pool.map` function.\n",
    "In this script, we have split up the grid into `n_slices` vertical slices and assigned a pool of of `n_processes` workers.\n",
    "These workers each take a slice, calculate the result saving the output into `fractals`, then work on a new slice.\n",
    "When there are no more slices to work on, the pool is *closed* and the program resumes.\n",
    "We can see how we can speed up the code by timing the full script running with different values of `n_slices` and `n_processes`.\n",
    "Compare these numbers against the previous serial example in `fractal_complete.py`."
   ]
  },
  {
   "cell_type": "markdown",
   "id": "b45c5b07-4d05-4705-93fe-fd841171e4cc",
   "metadata": {},
   "source": [
    "# Complete File\n",
    "[Download complete multiprocessing_fractal.py file](complete_files/multiprocessing_fractal.py)"
   ]
  },
  {
   "cell_type": "code",
   "execution_count": null,
   "id": "b3b04584-c002-47f5-8f1c-66cb00ebe4d3",
   "metadata": {},
   "outputs": [],
   "source": []
  }
 ],
 "metadata": {
  "kernelspec": {
   "display_name": "Python 3 (ipykernel)",
   "language": "python",
   "name": "python3"
  },
  "language_info": {
   "codemirror_mode": {
    "name": "ipython",
    "version": 3
   },
   "file_extension": ".py",
   "mimetype": "text/x-python",
   "name": "python",
   "nbconvert_exporter": "python",
   "pygments_lexer": "ipython3",
   "version": "3.9.19"
  }
 },
 "nbformat": 4,
 "nbformat_minor": 5
}
