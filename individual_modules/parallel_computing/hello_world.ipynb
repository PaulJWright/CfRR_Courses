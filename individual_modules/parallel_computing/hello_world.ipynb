{
 "cells": [
  {
   "cell_type": "markdown",
   "id": "30666f13-7c59-40be-9162-d24c06ceb56c",
   "metadata": {},
   "source": [
    "# MPI\n",
    "\n",
    "## Import MPI4Py\n",
    "In this example we will kick off a set of processes using mpirun/mpiexec and get them to report in. The first step that needs to be taken is to import mpi4py, as below: "
   ]
  },
  {
   "cell_type": "markdown",
   "id": "26c93c0e-154d-44b7-928f-b1373d22a104",
   "metadata": {},
   "source": [
    "```python\n",
    "# mpi_hello.py\n",
    "from mpi4py import MPI\n",
    "```"
   ]
  },
  {
   "cell_type": "markdown",
   "id": "abddf96e-4777-4053-8ab1-9d4304194c9f",
   "metadata": {},
   "source": [
    "## MPI Hello World \n",
    "\n",
    "Programmes that make use of MPI use a *communicator*, an object that groups together a set of processes (*ranks*) and controls communications between them. The communicator understands the context of the program across all the different processes, whereas the rest of the code is only aware of its own process.\n",
    "\n",
    "Let's run a very simple program, first in serial then again in parallel using mpirun."
   ]
  },
  {
   "cell_type": "markdown",
   "id": "af270173-1e0c-47d3-bc45-927a8803b90c",
   "metadata": {},
   "source": [
    "If we add the following to our file:\n",
    "```python\n",
    "print(\"Hello world!\")\n",
    "```\n",
    "\n",
    "and execute the file with python, we get the expected outcome.\n",
    "```\n",
    "$ python mpi_hello.py\n",
    "Hello world!\n",
    "```\n",
    "\n",
    "## Parallel Execution\n",
    "If we try and run the program on multiple processes, we get a slightly different result:\n",
    "```\n",
    "$ mpirun -n 2 python mpi_hello.py\n",
    "Hello world!\n",
    "Hello world!\n",
    "```\n",
    "\n",
    "## Using the communicator\n",
    "\n",
    "We can see that the program is being run multiple times, but in order to see evidence of multiple processes we need to change our code. If we change the print statement to:\n",
    "\n",
    "```python\n",
    "comm = MPI.COMM_WORLD\n",
    "print(f\"Hello from process {comm.Get_rank()}\")\n",
    "```\n",
    "\n",
    "and run the program again with mpirun, we can get more insight into what's going on:\n",
    "```shell\n",
    "$ mpirun -n 2 python mpi_hello.py\n",
    "Hello from process 0\n",
    "Hello from process 1\n",
    "```\n",
    "\n",
    "We can also use the communicator to get more information about the overall state of the program, such as how many processes it is running on. This can be achieved by adding the line:\n",
    "\n",
    "```python\n",
    "print(f\"MPI world size is {comm.Get_size()}\")\n",
    "```\n",
    "\n",
    "We can use the if statement, `if comm.Get_rank() == 0:` if we only want to perform a task once, non-concurrently, such as:\n",
    "```python\n",
    "if comm.Get_rank() == 0:\n",
    "    print(f\"MPI world size is {comm.Get_size()}\")\n",
    "```"
   ]
  },
  {
   "cell_type": "markdown",
   "id": "f8b8446c-d449-45dd-9d39-22294ff6eb2d",
   "metadata": {},
   "source": [
    "# Complete File\n",
    "[Download complete mpi_hello.py file](complete_files/mpi_hello_complete.py)"
   ]
  },
  {
   "cell_type": "code",
   "execution_count": null,
   "id": "a6ab9b71-26f3-47b0-80db-a29ef0598637",
   "metadata": {},
   "outputs": [],
   "source": []
  }
 ],
 "metadata": {
  "kernelspec": {
   "display_name": "Python 3 (ipykernel)",
   "language": "python",
   "name": "python3"
  },
  "language_info": {
   "codemirror_mode": {
    "name": "ipython",
    "version": 3
   },
   "file_extension": ".py",
   "mimetype": "text/x-python",
   "name": "python",
   "nbconvert_exporter": "python",
   "pygments_lexer": "ipython3",
   "version": "3.9.19"
  }
 },
 "nbformat": 4,
 "nbformat_minor": 5
}
