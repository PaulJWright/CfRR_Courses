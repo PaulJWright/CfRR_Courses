{
 "cells": [
  {
   "cell_type": "markdown",
   "id": "cb40248e-f2ba-4c9f-bd1b-83910dcc5885",
   "metadata": {},
   "source": [
    "# Control Flow\n",
    "## Conditional Statements \n",
    "Julia uses `if`, `else`, and `elseif` to allow your program to execute different sections of code based on whether a coniditon (or set of conditions) is true or false. For example the code below will determine if a given number is negative, positive or zero."
   ]
  },
  {
   "cell_type": "code",
   "execution_count": 4,
   "id": "bca3e233-2c06-4121-9d56-5e071e9c4ca2",
   "metadata": {},
   "outputs": [
    {
     "name": "stdout",
     "output_type": "stream",
     "text": [
      "Value equals 100\n",
      "The value is positive!\n"
     ]
    }
   ],
   "source": [
    "x = 100\n",
    "println(\"Value equals \", x)\n",
    "if x < 0\n",
    "    println(\"The value is negative!\")\n",
    "elseif x == 0\n",
    "    println(\"The value is zero!\")\n",
    "else\n",
    "    println(\"The value is positive!\")\n",
    "end"
   ]
  },
  {
   "cell_type": "markdown",
   "id": "c2917029-0419-4384-a91a-262f54c1e1d8",
   "metadata": {},
   "source": [
    "## Loops \n",
    "Loops are used to repeat a block of code multiple tims. Two common types of loop are, `for` and `while`."
   ]
  },
  {
   "cell_type": "code",
   "execution_count": null,
   "id": "f27b7a8e-1f04-44b3-980f-c4d9f3e7652f",
   "metadata": {},
   "outputs": [],
   "source": []
  }
 ],
 "metadata": {
  "kernelspec": {
   "display_name": "Julia 1.10.3",
   "language": "julia",
   "name": "julia-1.10"
  },
  "language_info": {
   "file_extension": ".jl",
   "mimetype": "application/julia",
   "name": "julia",
   "version": "1.10.3"
  }
 },
 "nbformat": 4,
 "nbformat_minor": 5
}
