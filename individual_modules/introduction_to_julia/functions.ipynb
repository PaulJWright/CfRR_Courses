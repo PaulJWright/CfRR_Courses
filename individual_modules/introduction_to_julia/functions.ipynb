{
 "cells": [
  {
   "cell_type": "markdown",
   "id": "7570a82d-75f6-4529-8611-a0d36e2205d8",
   "metadata": {
    "editable": true,
    "slideshow": {
     "slide_type": ""
    },
    "tags": []
   },
   "source": [
    "# Functions\n",
    "\n",
    "Within Julia, functions are defined using the `function` keyword. A function can return values explicitly with `return`. The following defines a function for calculating the area of a circle"
   ]
  },
  {
   "cell_type": "code",
   "execution_count": 4,
   "id": "0a489a0d-6f07-44da-bd0b-7b3bb56e540a",
   "metadata": {
    "editable": true,
    "slideshow": {
     "slide_type": ""
    },
    "tags": []
   },
   "outputs": [
    {
     "name": "stdout",
     "output_type": "stream",
     "text": [
      "Radius: 5.0 Area: 78.5\n"
     ]
    }
   ],
   "source": [
    "function calculate_circle_area(radius::Float64)\n",
    "    area = 3.14 * radius^2\n",
    "    return area\n",
    "end \n",
    "radius = 5.0\n",
    "println(\"Radius: \", radius, \" Area: \", calculate_circle_area(radius))"
   ]
  },
  {
   "cell_type": "markdown",
   "id": "4cbb4011-ebc9-4ed8-b8a6-d900863550cc",
   "metadata": {},
   "source": [
    "There are three main components to a Julia function: \n",
    "    - **Function Name**: In the above function this is `calculate_circle_area`\n",
    "    - **Parameter**: In the above function this is `radius`. The syntax of `::Float64` denotes type annotation for double precision floating point numbers. \n",
    "    - **Returns**: The computed area using the const\n",
    "\n",
    "To then make use of the function there is a need to call the function with the arguement for the parameter, seen in the above with calculating the area of a circle with a radius of 5. "
   ]
  }
 ],
 "metadata": {
  "kernelspec": {
   "display_name": "Julia 1.10.3",
   "language": "julia",
   "name": "julia-1.10"
  },
  "language_info": {
   "file_extension": ".jl",
   "mimetype": "application/julia",
   "name": "julia",
   "version": "1.10.3"
  }
 },
 "nbformat": 4,
 "nbformat_minor": 5
}
