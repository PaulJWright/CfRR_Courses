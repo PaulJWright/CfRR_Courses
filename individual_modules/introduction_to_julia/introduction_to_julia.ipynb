{
 "cells": [
  {
   "cell_type": "markdown",
   "id": "74e12026-a579-4e8d-948d-30a7bf2c217d",
   "metadata": {
    "editable": true,
    "slideshow": {
     "slide_type": ""
    },
    "tags": []
   },
   "source": [
    "# Introduction\n",
    "\n",
    "## Learning Objectives\n",
    "- Understand the core design principles of Julia\n",
    "- Recognize the main features that make Julia suitable for numerical and scientific computing\n",
    "- Explain the advantages of multiple dispatch in Julia\n",
    "- Utilize Julia's dynamic typing and memory management capabilities\n",
    "- Appreciate the high-performance capabilities of Julia due to its JIT compilation \n",
    "\n",
    "## Julia \n",
    "\n",
    "Julia's core goal was to address the numerical and scientific computing limitations present within other programming languages. The overarching motivation for developing the language was to combine the ease of use of Python, the dynamism of Ruby and the mathematical prowess of MATLAB with the speed of C. \n",
    "\n",
    "## Core Design Principles\n",
    "The design choices within Julia are motivated by a desire to be high-level and perform computationally efficiently. A key part of the language that will be discussed in depth later is its use of multiple dispatch as a core programming paradigm. Multiple dispatch makes it easier to express many object-oriented and functional programming patterns. Julia can choose which version of a function to execute based on the types of all arguments passed to it, enabling optimized code execution for different types. \n",
    "\n",
    "Further, Julia is also designed to be dynamically typed, possesses an automatic memory management system, and aims for minimalistic syntax and semantics without reducing functionality. \n",
    "\n",
    "## Main Features\n",
    "\n",
    "Julia supports regular expression, shell-like capabilities and package managers, simplifying the process of managing and installing packages. Using the [LLVM framework](https://en.wikipedia.org/wiki/LLVM), Julia can achieve high performance from just-in-time (JIT) compilation, allowing Julia to match performance in regarding to both C and Fortran for many tasks. "
   ]
  },
  {
   "cell_type": "code",
   "execution_count": null,
   "id": "3b695996-a614-411d-b2ff-cb2cd08c6615",
   "metadata": {
    "editable": true,
    "slideshow": {
     "slide_type": ""
    },
    "tags": []
   },
   "outputs": [],
   "source": []
  }
 ],
 "metadata": {
  "kernelspec": {
   "display_name": "Julia 1.10.3",
   "language": "julia",
   "name": "julia-1.10"
  },
  "language_info": {
   "file_extension": ".jl",
   "mimetype": "application/julia",
   "name": "julia",
   "version": "1.10.3"
  }
 },
 "nbformat": 4,
 "nbformat_minor": 5
}
