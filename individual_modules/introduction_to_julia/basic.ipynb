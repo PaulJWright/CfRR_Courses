{
 "cells": [
  {
   "cell_type": "markdown",
   "id": "8173db8b-9c0a-4618-96b8-11dc853f5889",
   "metadata": {},
   "source": [
    "# Getting Started\n",
    "\n",
    "## Variables \n",
    "Variable in Julia are created with an assignment statement. Julia uses dynamic typing, althought you can specify types explicity if desired. "
   ]
  }
 ],
 "metadata": {
  "kernelspec": {
   "display_name": "Julia 1.10.3",
   "language": "julia",
   "name": "julia-1.10"
  },
  "language_info": {
   "file_extension": ".jl",
   "mimetype": "application/julia",
   "name": "julia",
   "version": "1.10.3"
  }
 },
 "nbformat": 4,
 "nbformat_minor": 5
}
