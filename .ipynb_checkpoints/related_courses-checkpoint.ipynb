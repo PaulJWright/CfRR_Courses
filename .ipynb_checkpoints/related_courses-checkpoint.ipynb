{
 "cells": [
  {
   "cell_type": "markdown",
   "id": "d4ced907-8bce-4bbd-9546-ed78507a8fd6",
   "metadata": {},
   "source": [
    "# How do these courses relate?"
   ]
  },
  {
   "cell_type": "markdown",
   "id": "d41119d1-91f5-4fb0-9797-fc8a8fed5b5e",
   "metadata": {},
   "source": [
    "## \n",
    "A large number of the coures that are offered within this training program are related to one another and combine together to create \"Pathways\". The intention for these pathways is for "
   ]
  },
  {
   "cell_type": "code",
   "execution_count": 1,
   "id": "24371a59-cc95-44f2-93d9-2f5f50683a3d",
   "metadata": {},
   "outputs": [],
   "source": [
    "# import pandas as pd\n",
    "# import networkx as nx\n",
    "# import matplotlib.pyplot as plt\n",
    "\n",
    "# # Load the CSV file\n",
    "# file_path = 'data/admin/workshop_details.csv'\n",
    "# workshop_data = pd.read_csv(file_path)\n",
    "\n",
    "# # Ensure all prerequisite and pathway entries are strings\n",
    "# workshop_data['pre_reqs'] = workshop_data['pre_reqs'].apply(lambda x: '' if pd.isna(x) else x)\n",
    "# workshop_data['pathways'] = workshop_data['pathways'].apply(lambda x: '' if pd.isna(x) else x)\n",
    "\n",
    "# # Expand the dataset so that each course appears under each pathway it's listed under\n",
    "# rows_list = []\n",
    "# for _, row in workshop_data.iterrows():\n",
    "#     pathways = row['pathways'].split(',')\n",
    "#     for pathway in pathways:\n",
    "#         pathway = pathway.strip()\n",
    "#         if pathway:  # Check if the pathway is not an empty string\n",
    "#             expanded_row = row.copy()\n",
    "#             expanded_row['pathways'] = pathway\n",
    "#             rows_list.append(expanded_row)\n",
    "\n",
    "# expanded_workshop_data = pd.DataFrame(rows_list)\n",
    "\n",
    "# # Function to draw the network graph using matplotlib\n",
    "# def draw_network(graph, title):\n",
    "#     plt.figure(figsize=(12, 8))\n",
    "#     pos = nx.spring_layout(graph)  # positions for all nodes\n",
    "#     nx.draw(graph, pos, with_labels=True, node_color='skyblue', node_size=2500, edge_color='k', linewidths=1, font_size=10, arrows=True)\n",
    "#     plt.title(title)\n",
    "#     plt.show()\n",
    "\n",
    "# # Create a directed graph for each pathway\n",
    "# pathway_graphs = {}\n",
    "# for pathway, group in expanded_workshop_data.groupby('pathways'):\n",
    "#     G = nx.DiGraph()\n",
    "#     for _, row in group.iterrows():\n",
    "#         workshop = row['workshop_name']\n",
    "#         pre_reqs = row['pre_reqs']\n",
    "#         G.add_node(workshop)  # Add node for each workshop\n",
    "#         if pre_reqs:\n",
    "#             prerequisites = pre_reqs.split(',')\n",
    "#             for pre in prerequisites:\n",
    "#                 pre = pre.strip()  # Clean up any extra whitespace\n",
    "#                 G.add_edge(pre, workshop)  # Add directed edges from prerequisites to the workshop\n",
    "#     pathway_graphs[pathway] = G\n",
    "\n",
    "# # Visualize the graph for each pathway\n",
    "# for pathway, graph in pathway_graphs.items():\n",
    "#     draw_network(graph, f\"Network Diagram for {pathway} Pathway\")\n"
   ]
  },
  {
   "cell_type": "code",
   "execution_count": 2,
   "id": "b7d06813-fa66-4970-b2f3-eccd6e608a16",
   "metadata": {},
   "outputs": [],
   "source": [
    "# from pyvis.network import Network\n",
    "# import pandas as pd\n",
    "# import networkx as nx\n",
    "\n",
    "# # Load the data\n",
    "# file_path = 'data/admin/workshop_details.csv'  # Adjust the path to your actual file location\n",
    "# workshop_data = pd.read_csv(file_path)\n",
    "\n",
    "\n",
    "# # Create a directed graph\n",
    "# G = nx.DiGraph()\n",
    "\n",
    "# # Determine unique pathways and assign colors\n",
    "# pathways = workshop_data['pathways'].dropna().unique()\n",
    "# colors = ['#FFD700', '#FF6347', '#4682B4', '#32CD32', '#FFA500', '#6A5ACD', '#FF4500', '#2E8B57']\n",
    "# color_map = {pathway: colors[i % len(colors)] for i, pathway in enumerate(pathways)}\n",
    "\n",
    "# # Handle NaN in pathways and pre_reqs\n",
    "# workshop_data.fillna({'pathways': 'None', 'pre_reqs': ''}, inplace=True)\n",
    "\n",
    "# # Add nodes and edges\n",
    "# for index, row in workshop_data.iterrows():\n",
    "#     pathways_list = row['pathways'].split(',')\n",
    "#     for pathway in pathways_list:\n",
    "#         pathway = pathway.strip()\n",
    "#         color = color_map.get(pathway, '#D3D3D3')  # Default gray if pathway not found in color_map\n",
    "#         G.add_node(row['workshop_name'], title=row['workshop_name'], group=pathway, color=color)\n",
    "#         if row['pre_reqs']:\n",
    "#             prereqs = row['pre_reqs'].split(',')\n",
    "#             for prereq in prereqs:\n",
    "#                 G.add_edge(prereq.strip(), row['workshop_name'])\n",
    "\n",
    "# # Initialize PyVis network\n",
    "# nt = Network(\"750px\", \"750px\", notebook=True, cdn_resources='remote')\n",
    "# nt.from_nx(G)\n",
    "\n",
    "# # Add custom HTML for legend\n",
    "# legend_html = \"<div style='position:absolute; top:10px; right:10px; width:150px; height:120px; background-color: white; border:1px solid black; z-index:9999; font-size:10px;'>\"\n",
    "# legend_html += \"<b>Legend:</b><br>\"\n",
    "# for pathway, color in color_map.items():\n",
    "#     legend_html += f\"<div style='margin-top:5px;'><span style='display:inline-block; width:12px; height:12px; background-color:{color};'>&nbsp;</span> {pathway}</div>\"\n",
    "# legend_html += \"</div>\"\n",
    "\n",
    "# nt.html += legend_html  # Append the legend HTML to the network\n",
    "\n",
    "# # Save and display the network\n",
    "# output_file = \"workshops_network.html\"  # Adjust path as necessary\n",
    "# nt.show(output_file)\n"
   ]
  },
  {
   "cell_type": "code",
   "execution_count": 17,
   "id": "35259dd5-c4e8-4581-a7d3-d4807e64f4bb",
   "metadata": {},
   "outputs": [
    {
     "name": "stdout",
     "output_type": "stream",
     "text": [
      "pathways_html/workshops_network_ml.html\n",
      "pathways_html/workshops_network_hpc.html\n",
      "pathways_html/workshops_network_python_ds.html\n",
      "pathways_html/workshops_network_r_ds.html\n"
     ]
    },
    {
     "data": {
      "text/html": [
       "<div style='text-align: center;'><h3>R DS Pathway</div></h3><iframe src='pathways_html/workshops_network_r_ds.html' width='100%' height='750px' style='border:none;'></iframe>"
      ],
      "text/plain": [
       "<IPython.core.display.HTML object>"
      ]
     },
     "metadata": {},
     "output_type": "display_data"
    },
    {
     "data": {
      "text/html": [
       "<div style='text-align: center;'><h3>HPC Pathway</div></h3><iframe src='pathways_html/workshops_network_hpc.html' width='100%' height='750px' style='border:none;'></iframe>"
      ],
      "text/plain": [
       "<IPython.core.display.HTML object>"
      ]
     },
     "metadata": {},
     "output_type": "display_data"
    }
   ],
   "source": [
    "from pyvis.network import Network\n",
    "import pandas as pd\n",
    "import networkx as nx\n",
    "\n",
    "# Load the data\n",
    "file_path = 'data/admin/workshop_details.csv'  # Adjust the path to your actual file location\n",
    "workshop_data = pd.read_csv(file_path)\n",
    "\n",
    "# Fill NaN in pre_reqs and handle empty pathways\n",
    "workshop_data.fillna({'pre_reqs': '', 'pathways': 'None'}, inplace=True)\n",
    "\n",
    "# Extract unique pathways and create color mapping\n",
    "pathways = set()\n",
    "workshop_data['pathways'].str.split(',').apply(pathways.update)\n",
    "pathways.discard('None')  # Remove 'None' if no specific pathway is assigned\n",
    "colors = ['#FFD700', '#FF6347', '#4682B4', '#32CD32', '#FFA500', '#6A5ACD', '#FF4500', '#2E8B57']\n",
    "color_map = {pathway: colors[i % len(colors)] for i, pathway in enumerate(pathways)}\n",
    "\n",
    "# Create a network for each pathway\n",
    "for pathway in pathways:\n",
    "    # Filter workshops for the current pathway\n",
    "    pathway_data = workshop_data[workshop_data['pathways'].str.contains(pathway)]\n",
    "    # Create a directed graph\n",
    "    G = nx.DiGraph()\n",
    "\n",
    "    # Add nodes and edges\n",
    "    for _, row in pathway_data.iterrows():\n",
    "        color = color_map[pathway]\n",
    "        G.add_node(row['workshop_name'], title='', color=color)  # Temporarily empty title\n",
    "        prereqs = row['pre_reqs'].split(',')\n",
    "        for prereq in prereqs:\n",
    "            prereq = prereq.strip()\n",
    "            if prereq:\n",
    "                G.add_edge(prereq, row['workshop_name'])\n",
    "\n",
    "    # Now create detailed titles for each node\n",
    "    for node in G.nodes:\n",
    "        prereqs = [edge[0] for edge in G.in_edges(node)]\n",
    "        subsequent_courses = [edge[1] for edge in G.out_edges(node)]\n",
    "        prereqs_text = ', '.join(prereqs) if prereqs else 'None'\n",
    "        subsequent_courses_text = ', '.join(subsequent_courses) if subsequent_courses else 'None'\n",
    "        title_text = (f\"Course Name: {node}\\n\"\n",
    "                      f\"Course Pre-reqs: {prereqs_text}\\n\"\n",
    "                      f\"Subsequent Courses: {subsequent_courses_text}\")\n",
    "        G.nodes[node]['title'] = title_text\n",
    "\n",
    "    # Initialize PyVis network\n",
    "    nt = Network(\"800px\", \"800px\", notebook=True, directed=True, cdn_resources='remote')\n",
    "    nt.from_nx(G)\n",
    "    \n",
    "    # Save and display the network\n",
    "    output_file = f\"pathways_html/workshops_network_{pathway.replace(' ', '_').lower()}.html\"  # File name based on pathway\n",
    "    nt.show(output_file)\n",
    "\n",
    "from IPython.display import HTML, display\n",
    "\n",
    "# Assuming you've already saved each network to an HTML file\n",
    "for pathway in [\"R DS\", \"HPC\"]:\n",
    "    file_name = f\"pathways_html/workshops_network_{pathway.replace(' ', '_').lower()}.html\"\n",
    "    # Create a display HTML block with a title\n",
    "    html_str = f\"<div style='text-align: center;'><h3>{pathway} Pathway</div></h3>\"\n",
    "    html_str += f\"<iframe src='{file_name}' width='100%' height='750px' style='border:none;'></iframe>\"\n",
    "    display(HTML(html_str))"
   ]
  },
  {
   "cell_type": "code",
   "execution_count": null,
   "id": "56c871b6-2da7-4717-9555-fb69c8075941",
   "metadata": {},
   "outputs": [],
   "source": []
  }
 ],
 "metadata": {
  "kernelspec": {
   "display_name": "Python 3 (ipykernel)",
   "language": "python",
   "name": "python3"
  },
  "language_info": {
   "codemirror_mode": {
    "name": "ipython",
    "version": 3
   },
   "file_extension": ".py",
   "mimetype": "text/x-python",
   "name": "python",
   "nbconvert_exporter": "python",
   "pygments_lexer": "ipython3",
   "version": "3.9.19"
  }
 },
 "nbformat": 4,
 "nbformat_minor": 5
}
