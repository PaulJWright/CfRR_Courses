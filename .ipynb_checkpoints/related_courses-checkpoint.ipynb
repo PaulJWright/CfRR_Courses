{
 "cells": [
  {
   "cell_type": "markdown",
   "id": "d4ced907-8bce-4bbd-9546-ed78507a8fd6",
   "metadata": {},
   "source": [
    "# How do these courses relate?"
   ]
  },
  {
   "cell_type": "code",
   "execution_count": 7,
   "id": "e064f556-538f-46fc-8bd2-b13479271629",
   "metadata": {},
   "outputs": [
    {
     "name": "stdout",
     "output_type": "stream",
     "text": [
      "Warning: When  cdn_resources is 'local' jupyter notebook has issues displaying graphics on chrome/safari. Use cdn_resources='in_line' or cdn_resources='remote' if you have issues viewing graphics in a notebook.\n",
      "workshop_network.html\n"
     ]
    }
   ],
   "source": [
    "from pyvis.network import Network\n",
    "import networkx as nx\n",
    "import pandas as pd\n",
    "\n",
    "# Load your data\n",
    "workshop_data = pd.read_csv('data/admin/workshop_details.csv')  # Make sure this path is correct\n",
    "\n",
    "# Create a directed graph\n",
    "G = nx.DiGraph()\n",
    "\n",
    "# Add nodes for each workshop\n",
    "for workshop in workshop_data['workshop_name'].unique():\n",
    "    G.add_node(workshop, title=workshop)\n",
    "\n",
    "# Add edges based on prerequisites\n",
    "for index, row in workshop_data.dropna(subset=['pre_reqs']).iterrows():\n",
    "    prerequisites = [pr.strip() for pr in row['pre_reqs'].split(',')]\n",
    "    for pre_req in prerequisites:\n",
    "        if pre_req in G.nodes:  # Check if the prerequisite is a node in the graph\n",
    "            G.add_edge(pre_req, row['workshop_name'])\n",
    "\n",
    "# Initialize PyVis network\n",
    "nt = Network(\"1000px\", \"1000px\", notebook=True)\n",
    "\n",
    "# Check if graph is empty\n",
    "if len(G.nodes) == 0 or len(G.edges) == 0:\n",
    "    print(\"No nodes or edges in the graph. Please check your data.\")\n",
    "else:\n",
    "    nt.from_nx(G)\n",
    "    nt.show_buttons(filter_=['physics'])\n",
    "\n",
    "    # Render and save the network visualization to an HTML file\n",
    "    try:\n",
    "        nt.show(\"workshop_network.html\")  # This saves and opens the HTML in your default browser\n",
    "    except Exception as e:\n",
    "        print(\"An error occurred while rendering the network:\", e)\n"
   ]
  },
  {
   "cell_type": "code",
   "execution_count": null,
   "id": "33ce4c49-9007-4b0b-81ca-81a508cbcf23",
   "metadata": {},
   "outputs": [],
   "source": []
  }
 ],
 "metadata": {
  "kernelspec": {
   "display_name": "Python 3 (ipykernel)",
   "language": "python",
   "name": "python3"
  },
  "language_info": {
   "codemirror_mode": {
    "name": "ipython",
    "version": 3
   },
   "file_extension": ".py",
   "mimetype": "text/x-python",
   "name": "python",
   "nbconvert_exporter": "python",
   "pygments_lexer": "ipython3",
   "version": "3.12.2"
  }
 },
 "nbformat": 4,
 "nbformat_minor": 5
}
