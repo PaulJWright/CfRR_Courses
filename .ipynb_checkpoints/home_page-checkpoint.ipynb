{
 "cells": [
  {
   "cell_type": "markdown",
   "id": "26cd46a7-0a19-44a7-bc1e-fd1548c4bfdc",
   "metadata": {},
   "source": [
    "# What is Coding for Reproducible Research?\n",
    "This training programme provides a series workshops to support researchers at the University of Exeter to expand their skillsets and position them to confidently perform the informatics research projects in an efficient and reproducible way. The programme covers not only training on specific languages, such as Python, R, and Unix/Linux, but additionally incorporates training relating to good practise and reproducible working methods that is designed to be agnostic of programming language. In this way we offer a holistic perspective as to how programming tasks should be approached, ultimately providing researchers with the tools and knowledge to feel confident in what they are doing. All workshops are open to any staff or student, from any college or department and accessible from any campus.\n",
    "\n",
    "\n",
    "\n",
    "These workshops are brought to you by the [University of Exeter Research Software Engineering Group](https://www.exeter.ac.uk/research/software-engineering/), [University of Exeter Institute of Data Science and Artificial Intelligence](https://www.exeter.ac.uk/research/institutes/idsai/), [University of Exeter Researcher Development](https://www.exeter.ac.uk/research/doctoralcollege/researcherdevelopment/) and the [University of Exeter Doctoral College](https://www.exeter.ac.uk/research/doctoralcollege/).\n",
    "\n",
    "## Upcoming Workshops"
   ]
  },
  {
   "cell_type": "code",
   "execution_count": 23,
   "id": "8670ae52-cd67-403b-a822-542a73e09a3a",
   "metadata": {
    "editable": true,
    "slideshow": {
     "slide_type": ""
    },
    "tags": [
     "remove-input"
    ]
   },
   "outputs": [
    {
     "data": {
      "text/markdown": [
       "### Welcome to the Computational Thinking Workshop\n",
       "**Next Session Date:** Summer 2024\n",
       "\n",
       "**What to Expect:**\n",
       "Over two sessions this course will introduce you to some fundamental principles that are the basis of writing computer code in any language and should enable you to write develop and debug your code more effectively.\n",
       "\n",
       "**Registration Status:** Registration is currently closed.\n",
       "**Please register by:** No deadline specified\n",
       "**Installation Instructions:** [Click here to install]( )\n",
       "\n",
       "---\n",
       "\n",
       "### Welcome to the Software development best practice Workshop\n",
       "**Next Session Date:**  Summer 2024\n",
       "\n",
       "**What to Expect:**\n",
       "Over two sessions learn about best practices in software development to improve your workflow and increase the impact of your research.\n",
       "\n",
       "**Registration Status:** Registration is currently closed.\n",
       "**Please register by:** No deadline specified\n",
       "**Installation Instructions:** [Click here to install](nan)\n",
       "\n",
       "---\n",
       "\n"
      ],
      "text/plain": [
       "<IPython.core.display.Markdown object>"
      ]
     },
     "metadata": {},
     "output_type": "display_data"
    }
   ],
   "source": [
    "from IPython.display import Markdown, display\n",
    "\n",
    "display(Markdown(\"course_details_markdowns/all_upcoming_workshops.md\"))"
   ]
  },
  {
   "cell_type": "code",
   "execution_count": null,
   "id": "bb59ff7e-3973-409a-82a9-6a94d6aeef6c",
   "metadata": {},
   "outputs": [],
   "source": []
  }
 ],
 "metadata": {
  "kernelspec": {
   "display_name": "Python 3 (ipykernel)",
   "language": "python",
   "name": "python3"
  },
  "language_info": {
   "codemirror_mode": {
    "name": "ipython",
    "version": 3
   },
   "file_extension": ".py",
   "mimetype": "text/x-python",
   "name": "python",
   "nbconvert_exporter": "python",
   "pygments_lexer": "ipython3",
   "version": "3.12.2"
  }
 },
 "nbformat": 4,
 "nbformat_minor": 5
}
