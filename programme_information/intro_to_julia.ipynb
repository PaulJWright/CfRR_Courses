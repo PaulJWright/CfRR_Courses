{
 "cells": [
  {
   "cell_type": "markdown",
   "id": "208232bf-30c3-44ce-9718-21d1a5fb5540",
   "metadata": {
    "editable": true,
    "slideshow": {
     "slide_type": ""
    },
    "tags": []
   },
   "source": [
    "# Introduction to Julia\n",
    "\n",
    "## Course Description\n",
    "Welcome to the Introduction to Julia course! This course has been created to give you an idea of Julia's particular language features. It assumes you are already comfortable with the basics of programming, allowing for more detailed and interesting topics to be discussed. To be able to best engage with this course, it is therefore recommended that you are familiar with the content in both \"Introduction to Python\" and \"Python for Data Analysis\".\n",
    "\n",
    "## Course Objectives\n",
    "- Understand Julia's high-level and high-performance goals, including multiple dispatch.\n",
    "- Learn to create and manipulate one-dimensional and multi-dimensional arrays using various functions and comprehensions.\n",
    "- Use conditional statements and loops (for and while) to control the flow of programs.\n",
    "- Create functions with different parameter types and return values, including exploring multiple dispatch and lambda functions.\n",
    "- Perform input and output operations, including reading from and writing to various file types such as text, CSV, Excel, and JSON.\n",
    "\n",
    "## Pre-requisite Knowledge\n",
    "\n",
    "Attendees of the workshop should already be familiar with a programming language such as Python and should have already installed and been able to run an example of a Julia code snippet. \n",
    "\n",
    "## Signup \n",
    "\n",
    "To check for upcoming course dates and to register, please visit the Workshop Schedule and Signup page available [here](../cfrr_program_details/courses_overview.ipynb)."
   ]
  },
  {
   "cell_type": "code",
   "execution_count": null,
   "id": "ed784f7a-cb16-4595-bc34-9fad10e2310b",
   "metadata": {
    "editable": true,
    "slideshow": {
     "slide_type": ""
    },
    "tags": [
     "remove-input"
    ]
   },
   "outputs": [],
   "source": [
    "import pandas as pd\n",
    "from datetime import datetime\n",
    "from IPython.display import display, HTML\n",
    "\n",
    "# Define the course that is being looked at\n",
    "course_name = \"Introduction to Julia\"\n",
    "\n",
    "# Load the CSV file\n",
    "file_path = '../data/accepting_applications.csv'  # Adjust the path to your file location\n",
    "courses_df = pd.read_csv(file_path)\n",
    "\n",
    "# Strip any extra spaces in the column names\n",
    "courses_df.columns = courses_df.columns.str.strip()\n",
    "\n",
    "# Convert date columns to datetime\n",
    "courses_df['Start Date'] = pd.to_datetime(courses_df['Start Date'], dayfirst=True, errors='coerce')\n",
    "courses_df['End Date'] = pd.to_datetime(courses_df['End Date'], dayfirst=True, errors='coerce')\n",
    "\n",
    "# Get today's date\n",
    "today = datetime.now()\n",
    "\n",
    "# Function to generate markdown text based on the course dates\n",
    "def generate_html(row):\n",
    "    if pd.notna(row['Start Date']) and pd.notna(row['End Date']):\n",
    "        if row['Start Date'] <= today <= row['End Date']:\n",
    "            return f\"<div style='font-weight: bold;'>This course is currently accepting applications.</div>\"\n",
    "    return \"\"\n",
    "\n",
    "# Apply the function and create a new column for Markdown\n",
    "courses_df['HTML'] = courses_df.apply(generate_html, axis=1)\n",
    "\n",
    "# Variable for course name\n",
    "\n",
    "\n",
    "# Filter the DataFrame for the given course name and display the HTML text\n",
    "html_output = courses_df[courses_df['Course Name'] == course_name]['HTML'].values[0]\n",
    "display(HTML(html_output))\n"
   ]
  },
  {
   "cell_type": "markdown",
   "id": "7d378ec2-28e2-4d30-b588-22b3273fec59",
   "metadata": {},
   "source": [
    "## Installation Guide \n",
    "All CfRR courses require attendees to use their own computer/laptop to follow workshop activities and take effective notes. \n",
    "\n",
    "## Self Study Material Link \n",
    "The self-study material for this course is available [here](../individual_modules/section_landing_pages/introduction_to_julia.md).\n",
    "## Developers\n",
    "## License Info "
   ]
  },
  {
   "cell_type": "code",
   "execution_count": null,
   "id": "64a0e3a8-e122-4e4c-8c74-20df65523e38",
   "metadata": {},
   "outputs": [],
   "source": []
  }
 ],
 "metadata": {
  "kernelspec": {
   "display_name": "Python 3 (ipykernel)",
   "language": "python",
   "name": "python3"
  },
  "language_info": {
   "codemirror_mode": {
    "name": "ipython",
    "version": 3
   },
   "file_extension": ".py",
   "mimetype": "text/x-python",
   "name": "python",
   "nbconvert_exporter": "python",
   "pygments_lexer": "ipython3",
   "version": "3.9.19"
  }
 },
 "nbformat": 4,
 "nbformat_minor": 5
}
