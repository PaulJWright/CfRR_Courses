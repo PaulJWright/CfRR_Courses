{
 "cells": [
  {
   "cell_type": "markdown",
   "id": "9f765ae0-0f63-44eb-9d61-76d5664bea89",
   "metadata": {
    "editable": true,
    "slideshow": {
     "slide_type": ""
    },
    "tags": []
   },
   "source": [
    "# R\n",
    "\n",
    "We currently offer four R courses:\n",
    "- **Introduction to R**: In Introduction to R, you will learn R - a programming language focused on statistics, data analysis, and visualisation. This course provides an introduction to using RStudio, covering best practices, data management, and statistical analysis, equipping participants with the skills to run R commands and understand R objects.\n",
    "- **Regression Analysis with R**: This course covers regression analysis, a fundamental statistical technique for modelling relationships between multiple variables. In this hands-on workshop, you will learn to fit various regression models with R, interpret the output, and understand its connection to other common statistical tools.\n",
    "- **Advanced Regression Analysis with R**: In Advanced Regression Analysis with R, you'll build on your existing regression knowledge to fit more complex models, learn about different types of regression analysis, when to use them, and how to interpret the results.\n",
    "- **Working With Data in R**: In this course you will learn to use the Tidyverse, a collection of R packages for manipulating, cleaning, and analysing data, gaining familiarity with key packages and conventions, when using the Tidyverse with datasets in R."
   ]
  },
  {
   "cell_type": "code",
   "execution_count": null,
   "id": "24049dfe-c103-4ebd-bc5d-6ed5db1ca63e",
   "metadata": {},
   "outputs": [],
   "source": []
  }
 ],
 "metadata": {
  "kernelspec": {
   "display_name": "Python 3 (ipykernel)",
   "language": "python",
   "name": "python3"
  },
  "language_info": {
   "codemirror_mode": {
    "name": "ipython",
    "version": 3
   },
   "file_extension": ".py",
   "mimetype": "text/x-python",
   "name": "python",
   "nbconvert_exporter": "python",
   "pygments_lexer": "ipython3",
   "version": "3.9.19"
  }
 },
 "nbformat": 4,
 "nbformat_minor": 5
}
